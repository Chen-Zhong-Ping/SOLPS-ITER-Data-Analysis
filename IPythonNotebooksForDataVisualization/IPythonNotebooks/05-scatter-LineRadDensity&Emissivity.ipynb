{
 "cells": [
  {
   "cell_type": "code",
   "execution_count": 1,
   "metadata": {},
   "outputs": [],
   "source": [
    "from packages.data_classes.data2D import Data2D\n",
    "from packages.data_classes.mesh import Mesh\n",
    "from packages.plot_classes.tangram import Tangram"
   ]
  },
  {
   "cell_type": "code",
   "execution_count": 2,
   "metadata": {},
   "outputs": [],
   "source": [
    "import numpy"
   ]
  },
  {
   "cell_type": "code",
   "execution_count": 3,
   "metadata": {},
   "outputs": [],
   "source": [
    "SD0203_mesh = Mesh('./Data/Geometry/SD/S20190203@25-6-66_24-6.v001.sno')\n",
    "FS0308_mesh = Mesh('./Data/Geometry/FS/S20190308@25-10-50_25-6.v001.sno')\n",
    "XD0130_mesh = Mesh('./Data/Geometry/XD/X20190130@31-12-68_26-6.v001.sno')"
   ]
  },
  {
   "cell_type": "markdown",
   "metadata": {},
   "source": [
    "be careful! data2D reads in IyIx order but quadmesh has to drawn in IxIy order to take care of the cuts!"
   ]
  },
  {
   "cell_type": "code",
   "execution_count": 4,
   "metadata": {},
   "outputs": [],
   "source": [
    "# line radiation for C1+ ~ C5+\n",
    "SD_LineRa3 = Data2D(SD0203_mesh, './Data/SDP6/2D_data/radiation/ion_line_radiation/b2ra-3_2D')\n",
    "SD_LineRa4 = Data2D(SD0203_mesh, './Data/SDP6/2D_data/radiation/ion_line_radiation/b2ra-4_2D')\n",
    "SD_LineRa5 = Data2D(SD0203_mesh, './Data/SDP6/2D_data/radiation/ion_line_radiation/b2ra-5_2D')\n",
    "SD_LineRa6 = Data2D(SD0203_mesh, './Data/SDP6/2D_data/radiation/ion_line_radiation/b2ra-6_2D')\n",
    "SD_LineRa7 = Data2D(SD0203_mesh, './Data/SDP6/2D_data/radiation/ion_line_radiation/b2ra-7_2D')\n",
    "\n",
    "FS_LineRa3 = Data2D(FS0308_mesh, './Data/FSP6/2D_data/radiation/ion_line_radiation/b2ra-3_2D')\n",
    "FS_LineRa4 = Data2D(FS0308_mesh, './Data/FSP6/2D_data/radiation/ion_line_radiation/b2ra-4_2D')\n",
    "FS_LineRa5 = Data2D(FS0308_mesh, './Data/FSP6/2D_data/radiation/ion_line_radiation/b2ra-5_2D')\n",
    "FS_LineRa6 = Data2D(FS0308_mesh, './Data/FSP6/2D_data/radiation/ion_line_radiation/b2ra-6_2D')\n",
    "FS_LineRa7 = Data2D(FS0308_mesh, './Data/FSP6/2D_data/radiation/ion_line_radiation/b2ra-7_2D')\n",
    "\n",
    "XD_LineRa3 = Data2D(XD0130_mesh, './Data/XDP6/2D_data/radiation/ion_line_radiation/b2ra-3_2D')\n",
    "XD_LineRa4 = Data2D(XD0130_mesh, './Data/XDP6/2D_data/radiation/ion_line_radiation/b2ra-4_2D')\n",
    "XD_LineRa5 = Data2D(XD0130_mesh, './Data/XDP6/2D_data/radiation/ion_line_radiation/b2ra-5_2D')\n",
    "XD_LineRa6 = Data2D(XD0130_mesh, './Data/XDP6/2D_data/radiation/ion_line_radiation/b2ra-6_2D')\n",
    "XD_LineRa7 = Data2D(XD0130_mesh, './Data/XDP6/2D_data/radiation/ion_line_radiation/b2ra-7_2D')\n",
    "\n",
    "\n",
    "# cell volume\n",
    "SD_vol = Data2D(SD0203_mesh, './Data/SDP6/2D_data/geometry/vol_2D')\n",
    "\n",
    "FS_vol = Data2D(FS0308_mesh, './Data/FSP6/2D_data/geometry/vol_2D')\n",
    "\n",
    "XD_vol = Data2D(XD0130_mesh, './Data/XDP6/2D_data/geometry/vol_2D')"
   ]
  },
  {
   "cell_type": "code",
   "execution_count": 5,
   "metadata": {},
   "outputs": [],
   "source": [
    "# Carbon density for C1+ ~ C6+\n",
    "SD_nIon3 = Data2D(SD0203_mesh, './Data/SDP6/2D_data/density/n_ion/na-3_2D')\n",
    "SD_nIon4 = Data2D(SD0203_mesh, './Data/SDP6/2D_data/density/n_ion/na-4_2D')\n",
    "SD_nIon5 = Data2D(SD0203_mesh, './Data/SDP6/2D_data/density/n_ion/na-5_2D')\n",
    "SD_nIon6 = Data2D(SD0203_mesh, './Data/SDP6/2D_data/density/n_ion/na-6_2D')\n",
    "SD_nIon7 = Data2D(SD0203_mesh, './Data/SDP6/2D_data/density/n_ion/na-7_2D')\n",
    "SD_nIon8 = Data2D(SD0203_mesh, './Data/SDP6/2D_data/density/n_ion/na-8_2D')\n",
    "\n",
    "FS_nIon3 = Data2D(FS0308_mesh, './Data/FSP6/2D_data/density/n_ion/na-3_2D')\n",
    "FS_nIon4 = Data2D(FS0308_mesh, './Data/FSP6/2D_data/density/n_ion/na-4_2D')\n",
    "FS_nIon5 = Data2D(FS0308_mesh, './Data/FSP6/2D_data/density/n_ion/na-5_2D')\n",
    "FS_nIon6 = Data2D(FS0308_mesh, './Data/FSP6/2D_data/density/n_ion/na-6_2D')\n",
    "FS_nIon7 = Data2D(FS0308_mesh, './Data/FSP6/2D_data/density/n_ion/na-7_2D')\n",
    "FS_nIon8 = Data2D(FS0308_mesh, './Data/FSP6/2D_data/density/n_ion/na-8_2D')\n",
    "\n",
    "XD_nIon3 = Data2D(XD0130_mesh, './Data/XDP6/2D_data/density/n_ion/na-3_2D')\n",
    "XD_nIon4 = Data2D(XD0130_mesh, './Data/XDP6/2D_data/density/n_ion/na-4_2D')\n",
    "XD_nIon5 = Data2D(XD0130_mesh, './Data/XDP6/2D_data/density/n_ion/na-5_2D')\n",
    "XD_nIon6 = Data2D(XD0130_mesh, './Data/XDP6/2D_data/density/n_ion/na-6_2D')\n",
    "XD_nIon7 = Data2D(XD0130_mesh, './Data/XDP6/2D_data/density/n_ion/na-7_2D')\n",
    "XD_nIon8 = Data2D(XD0130_mesh, './Data/XDP6/2D_data/density/n_ion/na-8_2D')\n",
    "\n",
    "# electron density\n",
    "SD_ne = Data2D(SD0203_mesh, './Data/SDP6/2D_data/density/n_electron/ne_2D')\n",
    "\n",
    "FS_ne = Data2D(FS0308_mesh, './Data/FSP6/2D_data/density/n_electron/ne_2D')\n",
    "\n",
    "XD_ne = Data2D(XD0130_mesh, './Data/XDP6/2D_data/density/n_electron/ne_2D')\n",
    "\n",
    "\n",
    "# carbon neutral density\n",
    "SD_nNeutC = Data2D(SD0203_mesh, './Data/SDP6/2D_data/density/n_neutral/dab2-1_2D')\n",
    "\n",
    "FS_nNeutC = Data2D(FS0308_mesh, './Data/FSP6/2D_data/density/n_neutral/dab2-1_2D')\n",
    "\n",
    "XD_nNeutC = Data2D(XD0130_mesh, './Data/XDP6/2D_data/density/n_neutral/dab2-1_2D')\n"
   ]
  },
  {
   "cell_type": "code",
   "execution_count": 6,
   "metadata": {},
   "outputs": [],
   "source": [
    "# electron temperature\n",
    "SD_te = Data2D(SD0203_mesh, './Data/SDP6/2D_data/temperature/T_electron/te_2D')\n",
    "\n",
    "FS_te = Data2D(FS0308_mesh, './Data/FSP6/2D_data/temperature/T_electron/te_2D')\n",
    "\n",
    "XD_te = Data2D(XD0130_mesh, './Data/XDP6/2D_data/temperature/T_electron/te_2D')"
   ]
  },
  {
   "cell_type": "markdown",
   "metadata": {},
   "source": [
    "some preparation calculation"
   ]
  },
  {
   "cell_type": "code",
   "execution_count": 7,
   "metadata": {},
   "outputs": [],
   "source": [
    "# take out the outer divertor part\n",
    "\n",
    "# Line radiation amount\n",
    "SD_CLineRad_outerdiv = numpy.transpose(SD_LineRa3.IyIx[:, SD0203_mesh.ixcut[1]:]\n",
    "                                      + SD_LineRa4.IyIx[:, SD0203_mesh.ixcut[1]:]\n",
    "                                      + SD_LineRa5.IyIx[:, SD0203_mesh.ixcut[1]:]\n",
    "                                      + SD_LineRa6.IyIx[:, SD0203_mesh.ixcut[1]:]\n",
    "                                      + SD_LineRa7.IyIx[:, SD0203_mesh.ixcut[1]:])\n",
    "\n",
    "FS_CLineRad_outerdiv = numpy.transpose(FS_LineRa3.IyIx[:, FS0308_mesh.ixcut[1]:]\n",
    "                                      + FS_LineRa4.IyIx[:, FS0308_mesh.ixcut[1]:]\n",
    "                                      + FS_LineRa5.IyIx[:, FS0308_mesh.ixcut[1]:]\n",
    "                                      + FS_LineRa6.IyIx[:, FS0308_mesh.ixcut[1]:]\n",
    "                                      + FS_LineRa7.IyIx[:, FS0308_mesh.ixcut[1]:])\n",
    "\n",
    "XD_CLineRad_outerdiv = numpy.transpose(XD_LineRa3.IyIx[:, XD0130_mesh.ixcut[1]:]\n",
    "                                      + XD_LineRa4.IyIx[:, XD0130_mesh.ixcut[1]:]\n",
    "                                      + XD_LineRa5.IyIx[:, XD0130_mesh.ixcut[1]:]\n",
    "                                      + XD_LineRa6.IyIx[:, XD0130_mesh.ixcut[1]:]\n",
    "                                      + XD_LineRa7.IyIx[:, XD0130_mesh.ixcut[1]:])\n",
    "\n",
    "\n",
    "# cell volume\n",
    "SD_vol_outerdiv = numpy.transpose(SD_vol.IyIx[:, SD0203_mesh.ixcut[1]:])\n",
    "\n",
    "FS_vol_outerdiv = numpy.transpose(FS_vol.IyIx[:, FS0308_mesh.ixcut[1]:])\n",
    "\n",
    "XD_vol_outerdiv = numpy.transpose(XD_vol.IyIx[:, XD0130_mesh.ixcut[1]:])\n",
    "\n",
    "# total carbon ion density\n",
    "SD_nCarbon_outerdiv = numpy.transpose(SD_nIon3.IyIx[:, SD0203_mesh.ixcut[1]:]\n",
    "                                      + SD_nIon4.IyIx[:, SD0203_mesh.ixcut[1]:]\n",
    "                                      + SD_nIon5.IyIx[:, SD0203_mesh.ixcut[1]:]\n",
    "                                      + SD_nIon6.IyIx[:, SD0203_mesh.ixcut[1]:]\n",
    "                                      + SD_nIon7.IyIx[:, SD0203_mesh.ixcut[1]:]\n",
    "                                      + SD_nIon8.IyIx[:, SD0203_mesh.ixcut[1]:])\n",
    "\n",
    "FS_nCarbon_outerdiv = numpy.transpose(FS_nIon3.IyIx[:, FS0308_mesh.ixcut[1]:]\n",
    "                                      + FS_nIon4.IyIx[:, FS0308_mesh.ixcut[1]:]\n",
    "                                      + FS_nIon5.IyIx[:, FS0308_mesh.ixcut[1]:]\n",
    "                                      + FS_nIon6.IyIx[:, FS0308_mesh.ixcut[1]:]\n",
    "                                      + FS_nIon7.IyIx[:, FS0308_mesh.ixcut[1]:]\n",
    "                                      + FS_nIon8.IyIx[:, FS0308_mesh.ixcut[1]:])\n",
    "\n",
    "XD_nCarbon_outerdiv = numpy.transpose(XD_nIon3.IyIx[:, XD0130_mesh.ixcut[1]:]\n",
    "                                      + XD_nIon4.IyIx[:, XD0130_mesh.ixcut[1]:]\n",
    "                                      + XD_nIon5.IyIx[:, XD0130_mesh.ixcut[1]:]\n",
    "                                      + XD_nIon6.IyIx[:, XD0130_mesh.ixcut[1]:]\n",
    "                                      + XD_nIon7.IyIx[:, XD0130_mesh.ixcut[1]:]\n",
    "                                      + XD_nIon8.IyIx[:, XD0130_mesh.ixcut[1]:])\n",
    "\n",
    "# electron density\n",
    "SD_ne_outerdiv = numpy.transpose(SD_ne.IyIx[:, SD0203_mesh.ixcut[1]:])\n",
    "\n",
    "FS_ne_outerdiv = numpy.transpose(FS_ne.IyIx[:, FS0308_mesh.ixcut[1]:])\n",
    "\n",
    "XD_ne_outerdiv = numpy.transpose(XD_ne.IyIx[:, XD0130_mesh.ixcut[1]:])\n",
    "\n",
    "# carbon neutral density\n",
    "SD_nNeutC_outerdiv = numpy.transpose(SD_nNeutC.IyIx[:, SD0203_mesh.ixcut[1]:])\n",
    "\n",
    "FS_nNeutC_outerdiv = numpy.transpose(FS_nNeutC.IyIx[:, FS0308_mesh.ixcut[1]:])\n",
    "\n",
    "XD_nNeutC_outerdiv = numpy.transpose(XD_nNeutC.IyIx[:, XD0130_mesh.ixcut[1]:])\n",
    "\n",
    "\n",
    "# te\n",
    "SD_te_outerdiv = numpy.transpose(SD_te.IyIx[:, SD0203_mesh.ixcut[1]:])\n",
    "\n",
    "FS_te_outerdiv = numpy.transpose(FS_te.IyIx[:, FS0308_mesh.ixcut[1]:])\n",
    "\n",
    "XD_te_outerdiv = numpy.transpose(XD_te.IyIx[:, XD0130_mesh.ixcut[1]:])"
   ]
  },
  {
   "cell_type": "code",
   "execution_count": null,
   "metadata": {},
   "outputs": [],
   "source": []
  },
  {
   "cell_type": "markdown",
   "metadata": {},
   "source": [
    "calculate radiation density"
   ]
  },
  {
   "cell_type": "code",
   "execution_count": 8,
   "metadata": {},
   "outputs": [],
   "source": [
    "SD_CLineRadDensity_outerdiv = (SD_CLineRad_outerdiv/SD_vol_outerdiv)/1e6\n",
    "\n",
    "FS_CLineRadDensity_outerdiv = (FS_CLineRad_outerdiv/FS_vol_outerdiv)/1e6\n",
    "\n",
    "XD_CLineRadDensity_outerdiv = (XD_CLineRad_outerdiv/XD_vol_outerdiv)/1e6"
   ]
  },
  {
   "cell_type": "markdown",
   "metadata": {},
   "source": [
    "calculate emissivity. Unit being $10^{-32}$ W$m^3$"
   ]
  },
  {
   "cell_type": "code",
   "execution_count": 9,
   "metadata": {},
   "outputs": [],
   "source": [
    "SD_CEmissivity_outerdiv = 1e38 * SD_CLineRadDensity_outerdiv/((SD_nCarbon_outerdiv + SD_nNeutC_outerdiv) * SD_ne_outerdiv)\n",
    "\n",
    "FS_CEmissivity_outerdiv = 1e38 * FS_CLineRadDensity_outerdiv/((FS_nCarbon_outerdiv + FS_nNeutC_outerdiv) * FS_ne_outerdiv)\n",
    "\n",
    "XD_CEmissivity_outerdiv = 1e38 * XD_CLineRadDensity_outerdiv/((XD_nCarbon_outerdiv + XD_nNeutC_outerdiv) * XD_ne_outerdiv)"
   ]
  },
  {
   "cell_type": "code",
   "execution_count": null,
   "metadata": {},
   "outputs": [],
   "source": []
  },
  {
   "cell_type": "code",
   "execution_count": null,
   "metadata": {},
   "outputs": [],
   "source": []
  },
  {
   "cell_type": "code",
   "execution_count": 43,
   "metadata": {},
   "outputs": [
    {
     "data": {
      "text/plain": [
       "26"
      ]
     },
     "execution_count": 43,
     "metadata": {},
     "output_type": "execute_result"
    }
   ],
   "source": [
    "len(SD_CEmissivity_outerdiv)"
   ]
  },
  {
   "cell_type": "code",
   "execution_count": 44,
   "metadata": {},
   "outputs": [
    {
     "data": {
      "text/plain": [
       "26"
      ]
     },
     "execution_count": 44,
     "metadata": {},
     "output_type": "execute_result"
    }
   ],
   "source": [
    "len(FS_CEmissivity_outerdiv)"
   ]
  },
  {
   "cell_type": "code",
   "execution_count": 45,
   "metadata": {},
   "outputs": [
    {
     "data": {
      "text/plain": [
       "7"
      ]
     },
     "execution_count": 45,
     "metadata": {},
     "output_type": "execute_result"
    }
   ],
   "source": [
    "SD0203_mesh.iycut"
   ]
  },
  {
   "cell_type": "code",
   "execution_count": 50,
   "metadata": {},
   "outputs": [
    {
     "data": {
      "text/plain": [
       "7"
      ]
     },
     "execution_count": 50,
     "metadata": {},
     "output_type": "execute_result"
    }
   ],
   "source": [
    "XD0130_mesh.iycut"
   ]
  },
  {
   "cell_type": "code",
   "execution_count": null,
   "metadata": {},
   "outputs": [],
   "source": []
  },
  {
   "cell_type": "markdown",
   "metadata": {},
   "source": [
    "#### power balance analysis"
   ]
  },
  {
   "cell_type": "markdown",
   "metadata": {},
   "source": [
    "line radiation outer divertor SOL + PFR"
   ]
  },
  {
   "cell_type": "code",
   "execution_count": 11,
   "metadata": {
    "scrolled": true
   },
   "outputs": [
    {
     "name": "stdout",
     "output_type": "stream",
     "text": [
      "0.24326620607112254\n",
      "0.25213431985885887\n",
      "0.34355807178394276\n"
     ]
    }
   ],
   "source": [
    "print(numpy.sum(SD_CLineRad_outerdiv)/1e6)\n",
    "print(numpy.sum(FS_CLineRad_outerdiv)/1e6)\n",
    "print(numpy.sum(XD_CLineRad_outerdiv)/1e6)"
   ]
  },
  {
   "cell_type": "markdown",
   "metadata": {},
   "source": [
    "line radiation outer divertor SOL"
   ]
  },
  {
   "cell_type": "code",
   "execution_count": 9,
   "metadata": {},
   "outputs": [
    {
     "name": "stdout",
     "output_type": "stream",
     "text": [
      "0.058231215023728244\n",
      "0.08881278517984241\n",
      "0.3044879409622962\n"
     ]
    }
   ],
   "source": [
    "print(numpy.sum(SD_CLineRad_outerdiv[:, SD0203_mesh.iycut:])/1e6)\n",
    "print(numpy.sum(FS_CLineRad_outerdiv[:, FS0308_mesh.iycut:])/1e6)\n",
    "print(numpy.sum(XD_CLineRad_outerdiv[:, XD0130_mesh.iycut:])/1e6)"
   ]
  },
  {
   "cell_type": "markdown",
   "metadata": {},
   "source": [
    "line radiation outer divertor PFR"
   ]
  },
  {
   "cell_type": "code",
   "execution_count": 12,
   "metadata": {},
   "outputs": [
    {
     "name": "stdout",
     "output_type": "stream",
     "text": [
      "0.18503499104739435\n",
      "0.16332153467901644\n",
      "0.03907013082164664\n"
     ]
    }
   ],
   "source": [
    "print(numpy.sum(SD_CLineRad_outerdiv[:, : SD0203_mesh.iycut])/1e6)\n",
    "print(numpy.sum(FS_CLineRad_outerdiv[:, : FS0308_mesh.iycut])/1e6)\n",
    "print(numpy.sum(XD_CLineRad_outerdiv[:, : XD0130_mesh.iycut])/1e6)"
   ]
  },
  {
   "cell_type": "markdown",
   "metadata": {},
   "source": [
    "inner divertor"
   ]
  },
  {
   "cell_type": "markdown",
   "metadata": {},
   "source": [
    "total domain"
   ]
  },
  {
   "cell_type": "code",
   "execution_count": 13,
   "metadata": {},
   "outputs": [],
   "source": [
    "SD_CLineRad = SD_LineRa3.IyIx + SD_LineRa4.IyIx + SD_LineRa5.IyIx + SD_LineRa6.IyIx + SD_LineRa7.IyIx\n",
    "FS_CLineRad = FS_LineRa3.IyIx + FS_LineRa4.IyIx + FS_LineRa5.IyIx + FS_LineRa6.IyIx + FS_LineRa7.IyIx\n",
    "XD_CLineRad = XD_LineRa3.IyIx + XD_LineRa4.IyIx + XD_LineRa5.IyIx + XD_LineRa6.IyIx + XD_LineRa7.IyIx"
   ]
  },
  {
   "cell_type": "code",
   "execution_count": 15,
   "metadata": {},
   "outputs": [
    {
     "name": "stdout",
     "output_type": "stream",
     "text": [
      "0.7395044373874419\n",
      "0.6332797553309965\n",
      "0.5449440967245744\n"
     ]
    }
   ],
   "source": [
    "print(numpy.sum(SD_CLineRad)/1e6)\n",
    "print(numpy.sum(FS_CLineRad)/1e6)\n",
    "print(numpy.sum(XD_CLineRad)/1e6)"
   ]
  },
  {
   "cell_type": "code",
   "execution_count": null,
   "metadata": {},
   "outputs": [],
   "source": []
  },
  {
   "cell_type": "markdown",
   "metadata": {},
   "source": []
  },
  {
   "cell_type": "markdown",
   "metadata": {},
   "source": [
    "# start attempting plots"
   ]
  },
  {
   "cell_type": "markdown",
   "metadata": {},
   "source": [
    "## prepare figure and its axes"
   ]
  },
  {
   "cell_type": "code",
   "execution_count": 10,
   "metadata": {},
   "outputs": [],
   "source": [
    "import matplotlib.pyplot as plt\n",
    "\n",
    "fig_1, ax_1 = plt.subplots()"
   ]
  },
  {
   "cell_type": "markdown",
   "metadata": {},
   "source": [
    "### do scatter plots"
   ]
  },
  {
   "cell_type": "code",
   "execution_count": null,
   "metadata": {},
   "outputs": [],
   "source": []
  },
  {
   "cell_type": "code",
   "execution_count": 11,
   "metadata": {},
   "outputs": [],
   "source": [
    "%%capture\n",
    "\n",
    "ax_1.scatter(SD_te_outerdiv, SD_CEmissivity_outerdiv, c = \"w\", marker = \"s\", edgecolors = \"r\")\n",
    "ax_1.scatter(FS_te_outerdiv, FS_CEmissivity_outerdiv, c = \"w\", marker = \"^\", edgecolors = \"m\")\n",
    "ax_1.scatter(XD_te_outerdiv, XD_CEmissivity_outerdiv, c = \"w\", marker = \".\", edgecolors = \"b\")"
   ]
  },
  {
   "cell_type": "markdown",
   "metadata": {},
   "source": [
    "add legend using scatter plot trick"
   ]
  },
  {
   "cell_type": "code",
   "execution_count": 12,
   "metadata": {},
   "outputs": [],
   "source": [
    "%%capture\n",
    "\n",
    "ax_1_legend_marker_SD = ax_1.scatter([35.5], [9], c = \"w\", marker = \"s\", edgecolors = \"r\")\n",
    "ax_1_legend_marker_FS = ax_1.scatter([35.5], [8], c = \"w\", marker = \"^\", edgecolors = \"m\")\n",
    "ax_1_legend_marker_XD = ax_1.scatter([35.5], [7], c = \"w\", marker = \".\", edgecolors = \"b\")"
   ]
  },
  {
   "cell_type": "markdown",
   "metadata": {},
   "source": [
    "add legend text"
   ]
  },
  {
   "cell_type": "code",
   "execution_count": 13,
   "metadata": {},
   "outputs": [],
   "source": [
    "ax_1_legend_text_SD = ax_1.text(36.1, 8.85, \"SD10\")\n",
    "ax_1_legend_text_FS = ax_1.text(36.1, 7.85, \"SD20\")\n",
    "ax_1_legend_text_XD = ax_1.text(36.1, 6.85, \"XD\")"
   ]
  },
  {
   "cell_type": "markdown",
   "metadata": {},
   "source": [
    "set the axes label"
   ]
  },
  {
   "cell_type": "code",
   "execution_count": 14,
   "metadata": {},
   "outputs": [],
   "source": [
    "%%capture\n",
    "ax_1.set_xlabel(\"Te (eV)\")\n",
    "ax_1.set_ylabel(\"carbon emissivity ($10^{-32}$ W$m^3$)\")"
   ]
  },
  {
   "cell_type": "code",
   "execution_count": 15,
   "metadata": {},
   "outputs": [],
   "source": [
    "ax_1.set_xbound(0, 40)\n",
    "ax_1.set_ybound(0.1, 10)"
   ]
  },
  {
   "cell_type": "code",
   "execution_count": 19,
   "metadata": {},
   "outputs": [
    {
     "data": {
      "image/png": "[encoded data removed]",
      "text/plain": [
       "<Figure size 640x480 with 1 Axes>"
      ]
     },
     "execution_count": 19,
     "metadata": {},
     "output_type": "execute_result"
    }
   ],
   "source": [
    "fig_1"
   ]
  },
  {
   "cell_type": "code",
   "execution_count": null,
   "metadata": {},
   "outputs": [],
   "source": []
  },
  {
   "cell_type": "code",
   "execution_count": 20,
   "metadata": {},
   "outputs": [],
   "source": [
    "fig_1.savefig('CEmissivityP6-all_Scatter.svg', format='svg', bbox_inches='tight')"
   ]
  },
  {
   "cell_type": "code",
   "execution_count": null,
   "metadata": {},
   "outputs": [],
   "source": []
  },
  {
   "cell_type": "code",
   "execution_count": 21,
   "metadata": {},
   "outputs": [
    {
     "name": "stdout",
     "output_type": "stream",
     "text": [
      "7\n",
      "7\n",
      "7\n"
     ]
    }
   ],
   "source": [
    "print(SD0203_mesh.iycut)\n",
    "print(FS0308_mesh.iycut)\n",
    "print(XD0130_mesh.iycut)"
   ]
  },
  {
   "cell_type": "code",
   "execution_count": null,
   "metadata": {},
   "outputs": [],
   "source": []
  },
  {
   "cell_type": "markdown",
   "metadata": {},
   "source": [
    "the data along flux tubes within first 1mm radially out from the separatrix"
   ]
  },
  {
   "cell_type": "code",
   "execution_count": 22,
   "metadata": {},
   "outputs": [],
   "source": [
    "%%capture\n",
    "\n",
    "fig_5, ax_5 = plt.subplots()"
   ]
  },
  {
   "cell_type": "code",
   "execution_count": 23,
   "metadata": {},
   "outputs": [],
   "source": [
    "%%capture\n",
    "\n",
    "ax_5.scatter(SD_te_outerdiv[:, SD0203_mesh.iycut : 19], SD_CEmissivity_outerdiv[:, SD0203_mesh.iycut : 19], c = \"w\", marker = \"s\", edgecolors = \"r\")\n",
    "ax_5.scatter(FS_te_outerdiv[:, FS0308_mesh.iycut : 17], FS_CEmissivity_outerdiv[:, FS0308_mesh.iycut : 17], c = \"w\", marker = \"^\", edgecolors = \"m\")\n",
    "ax_5.scatter(XD_te_outerdiv[:, XD0130_mesh.iycut : 21], XD_CEmissivity_outerdiv[:, XD0130_mesh.iycut : 21], c = \"w\", marker = \".\", edgecolors = \"b\")"
   ]
  },
  {
   "cell_type": "markdown",
   "metadata": {},
   "source": [
    "add legend using scatter plot trick"
   ]
  },
  {
   "cell_type": "code",
   "execution_count": 24,
   "metadata": {},
   "outputs": [],
   "source": [
    "%%capture\n",
    "\n",
    "ax_5_legend_marker_SD = ax_5.scatter([35.5], [9], c = \"w\", marker = \"s\", edgecolors = \"r\")\n",
    "ax_5_legend_marker_FS = ax_5.scatter([35.5], [8], c = \"w\", marker = \"^\", edgecolors = \"m\")\n",
    "ax_5_legend_marker_XD = ax_5.scatter([35.5], [7], c = \"w\", marker = \".\", edgecolors = \"b\")"
   ]
  },
  {
   "cell_type": "markdown",
   "metadata": {},
   "source": [
    "add legend text"
   ]
  },
  {
   "cell_type": "code",
   "execution_count": 25,
   "metadata": {},
   "outputs": [],
   "source": [
    "ax_5_legend_text_SD = ax_5.text(36.1, 8.85, \"SD10\")\n",
    "ax_5_legend_text_FS = ax_5.text(36.1, 7.85, \"SD20\")\n",
    "ax_5_legend_text_XD = ax_5.text(36.1, 6.85, \"XD\")"
   ]
  },
  {
   "cell_type": "markdown",
   "metadata": {},
   "source": [
    "set the axes label"
   ]
  },
  {
   "cell_type": "code",
   "execution_count": 26,
   "metadata": {},
   "outputs": [],
   "source": [
    "%%capture\n",
    "ax_5.set_xlabel(\"Te (eV)\")\n",
    "ax_5.set_ylabel(\"carbon emissivity ($10^{-32}$ W$m^3$)\")"
   ]
  },
  {
   "cell_type": "code",
   "execution_count": 1,
   "metadata": {},
   "outputs": [
    {
     "ename": "NameError",
     "evalue": "name 'ax_5' is not defined",
     "output_type": "error",
     "traceback": [
      "\u001b[0;31m---------------------------------------------------------------------------\u001b[0m",
      "\u001b[0;31mNameError\u001b[0m                                 Traceback (most recent call last)",
      "\u001b[0;32m<ipython-input-1-a27ce520fdbf>\u001b[0m in \u001b[0;36m<module>\u001b[0;34m\u001b[0m\n\u001b[0;32m----> 1\u001b[0;31m \u001b[0max_5\u001b[0m\u001b[0;34m.\u001b[0m\u001b[0mset_xbound\u001b[0m\u001b[0;34m(\u001b[0m\u001b[0;36m0\u001b[0m\u001b[0;34m,\u001b[0m \u001b[0;36m40\u001b[0m\u001b[0;34m)\u001b[0m\u001b[0;34m\u001b[0m\u001b[0;34m\u001b[0m\u001b[0m\n\u001b[0m\u001b[1;32m      2\u001b[0m \u001b[0max_5\u001b[0m\u001b[0;34m.\u001b[0m\u001b[0mset_ybound\u001b[0m\u001b[0;34m(\u001b[0m\u001b[0;36m0\u001b[0m\u001b[0;34m,\u001b[0m \u001b[0;36m5\u001b[0m\u001b[0;34m)\u001b[0m\u001b[0;34m\u001b[0m\u001b[0;34m\u001b[0m\u001b[0m\n",
      "\u001b[0;31mNameError\u001b[0m: name 'ax_5' is not defined"
     ]
    }
   ],
   "source": [
    "ax_5.set_xbound(0, 40)\n",
    "ax_5.set_ybound(0.1, 10)"
   ]
  },
  {
   "cell_type": "code",
   "execution_count": 29,
   "metadata": {},
   "outputs": [],
   "source": [
    "ax_5_explain_text = ax_5.text(6, 8.85, \"0 < R - $R_{sep}$ < 1mm at OMP\")\n",
    "ax_5_explain_text.set_fontsize(12)"
   ]
  },
  {
   "cell_type": "code",
   "execution_count": 33,
   "metadata": {},
   "outputs": [
    {
     "data": {
      "image/png": "[encoded data removed]",
      "text/plain": [
       "<Figure size 432x288 with 1 Axes>"
      ]
     },
     "execution_count": 33,
     "metadata": {},
     "output_type": "execute_result"
    }
   ],
   "source": [
    "fig_5"
   ]
  },
  {
   "cell_type": "code",
   "execution_count": null,
   "metadata": {},
   "outputs": [],
   "source": []
  },
  {
   "cell_type": "code",
   "execution_count": 34,
   "metadata": {},
   "outputs": [],
   "source": [
    "fig_5.savefig('CEmissivityP6-1mm_Scatter.svg', format='svg', bbox_inches='tight')"
   ]
  },
  {
   "cell_type": "code",
   "execution_count": null,
   "metadata": {},
   "outputs": [],
   "source": []
  },
  {
   "cell_type": "markdown",
   "metadata": {},
   "source": [
    "the data along flux tubes within 1 ~ 2mm radially out from the separatrix"
   ]
  },
  {
   "cell_type": "code",
   "execution_count": 35,
   "metadata": {},
   "outputs": [],
   "source": [
    "%%capture\n",
    "\n",
    "fig_6, ax_6 = plt.subplots()"
   ]
  },
  {
   "cell_type": "code",
   "execution_count": 36,
   "metadata": {},
   "outputs": [],
   "source": [
    "%%capture\n",
    "\n",
    "ax_6.scatter(SD_te_outerdiv[:, 19 : 22], SD_CEmissivity_outerdiv[:, 19 : 22], c = \"w\", marker = \"s\", edgecolors = \"r\")\n",
    "ax_6.scatter(FS_te_outerdiv[:, 17 : 20], FS_CEmissivity_outerdiv[:, 17 : 20], c = \"w\", marker = \"^\", edgecolors = \"m\")\n",
    "ax_6.scatter(XD_te_outerdiv[:, 21 : 24], XD_CEmissivity_outerdiv[:, 21 : 24], c = \"w\", marker = \".\", edgecolors = \"b\")"
   ]
  },
  {
   "cell_type": "markdown",
   "metadata": {},
   "source": [
    "add legend using scatter plot trick"
   ]
  },
  {
   "cell_type": "code",
   "execution_count": 37,
   "metadata": {},
   "outputs": [],
   "source": [
    "%%capture\n",
    "\n",
    "ax_6_legend_marker_SD = ax_6.scatter([35.5], [9], c = \"w\", marker = \"s\", edgecolors = \"r\")\n",
    "ax_6_legend_marker_FS = ax_6.scatter([35.5], [8], c = \"w\", marker = \"^\", edgecolors = \"m\")\n",
    "ax_6_legend_marker_XD = ax_6.scatter([35.5], [7], c = \"w\", marker = \".\", edgecolors = \"b\")"
   ]
  },
  {
   "cell_type": "markdown",
   "metadata": {},
   "source": [
    "add legend text"
   ]
  },
  {
   "cell_type": "code",
   "execution_count": 38,
   "metadata": {},
   "outputs": [],
   "source": [
    "%%capture\n",
    "\n",
    "ax_6_legend_text_SD = ax_6.text(36.1, 8.85, \"SD10\")\n",
    "ax_6_legend_text_FS = ax_6.text(36.1, 7.85, \"SD20\")\n",
    "ax_6_legend_text_XD = ax_6.text(36.1, 6.85, \"XD\")"
   ]
  },
  {
   "cell_type": "markdown",
   "metadata": {},
   "source": [
    "set the axes label"
   ]
  },
  {
   "cell_type": "code",
   "execution_count": 39,
   "metadata": {},
   "outputs": [],
   "source": [
    "%%capture\n",
    "ax_6.set_xlabel(\"Te (eV)\")\n",
    "ax_6.set_ylabel(\"carbon emissivity ($10^{-32}$ W$m^3$)\")"
   ]
  },
  {
   "cell_type": "code",
   "execution_count": 40,
   "metadata": {},
   "outputs": [],
   "source": [
    "ax_6.set_xbound(0, 40)\n",
    "ax_6.set_ybound(0.1, 10)"
   ]
  },
  {
   "cell_type": "code",
   "execution_count": 41,
   "metadata": {},
   "outputs": [],
   "source": [
    "ax_6_explain_text = ax_6.text(6, 9.25, \"1mm < R - $R_{sep}$ < 2mm at OMP\")\n",
    "ax_6_explain_text.set_fontsize(12)"
   ]
  },
  {
   "cell_type": "code",
   "execution_count": 47,
   "metadata": {},
   "outputs": [
    {
     "data": {
      "image/png": "[encoded data removed]",
      "text/plain": [
       "<Figure size 432x288 with 1 Axes>"
      ]
     },
     "execution_count": 47,
     "metadata": {},
     "output_type": "execute_result"
    }
   ],
   "source": [
    "fig_6"
   ]
  },
  {
   "cell_type": "code",
   "execution_count": null,
   "metadata": {},
   "outputs": [],
   "source": []
  },
  {
   "cell_type": "code",
   "execution_count": 48,
   "metadata": {},
   "outputs": [],
   "source": [
    "fig_6.savefig('CEmissivityP6-2mm_Scatter.svg', format='svg', bbox_inches='tight')"
   ]
  },
  {
   "cell_type": "code",
   "execution_count": null,
   "metadata": {},
   "outputs": [],
   "source": []
  },
  {
   "cell_type": "code",
   "execution_count": null,
   "metadata": {},
   "outputs": [],
   "source": []
  }
 ],
 "metadata": {
  "kernelspec": {
   "display_name": "Python 3",
   "language": "python",
   "name": "python3"
  },
  "language_info": {
   "codemirror_mode": {
    "name": "ipython",
    "version": 3
   },
   "file_extension": ".py",
   "mimetype": "text/x-python",
   "name": "python",
   "nbconvert_exporter": "python",
   "pygments_lexer": "ipython3",
   "version": "3.6.7"
  }
 },
 "nbformat": 4,
 "nbformat_minor": 2
}
