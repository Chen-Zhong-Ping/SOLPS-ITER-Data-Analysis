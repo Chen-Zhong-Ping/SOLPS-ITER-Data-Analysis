{
 "cells": [
  {
   "cell_type": "code",
   "execution_count": 1,
   "metadata": {},
   "outputs": [],
   "source": [
    "from packages.data_classes.data2D import Data2D\n",
    "from packages.data_classes.mesh import Mesh\n",
    "from packages.plot_classes.tangram import Tangram"
   ]
  },
  {
   "cell_type": "code",
   "execution_count": 2,
   "metadata": {},
   "outputs": [],
   "source": [
    "import numpy"
   ]
  },
  {
   "cell_type": "code",
   "execution_count": 3,
   "metadata": {},
   "outputs": [],
   "source": [
    "SD0203_mesh = Mesh('./Data/Geometry/SD/S20190203@25-6-66_24-6.v001.sno')\n",
    "FS0308_mesh = Mesh('./Data/Geometry/FS/S20190308@25-10-50_25-6.v001.sno')\n",
    "XD0130_mesh = Mesh('./Data/Geometry/XD/X20190130@31-12-68_26-6.v001.sno')"
   ]
  },
  {
   "cell_type": "markdown",
   "metadata": {},
   "source": [
    "be careful! data2D reads in IyIx order but quadmesh has to drawn in IxIy order to take care of the cuts!"
   ]
  },
  {
   "cell_type": "code",
   "execution_count": 4,
   "metadata": {},
   "outputs": [],
   "source": [
    "# Carbon parallel velocity for C1+ ~ C6+\n",
    "SD_uIon3 = Data2D(SD0203_mesh, './Data/SDP6/2D_data/velocity/parallel_velocity/ua-3_2D')\n",
    "SD_uIon4 = Data2D(SD0203_mesh, './Data/SDP6/2D_data/velocity/parallel_velocity/ua-4_2D')\n",
    "SD_uIon5 = Data2D(SD0203_mesh, './Data/SDP6/2D_data/velocity/parallel_velocity/ua-5_2D')\n",
    "SD_uIon6 = Data2D(SD0203_mesh, './Data/SDP6/2D_data/velocity/parallel_velocity/ua-6_2D')\n",
    "SD_uIon7 = Data2D(SD0203_mesh, './Data/SDP6/2D_data/velocity/parallel_velocity/ua-7_2D')\n",
    "SD_uIon8 = Data2D(SD0203_mesh, './Data/SDP6/2D_data/velocity/parallel_velocity/ua-8_2D')\n",
    "\n",
    "FS_uIon3 = Data2D(FS0308_mesh, './Data/FSP6/2D_data/velocity/parallel_velocity/ua-3_2D')\n",
    "FS_uIon4 = Data2D(FS0308_mesh, './Data/FSP6/2D_data/velocity/parallel_velocity/ua-4_2D')\n",
    "FS_uIon5 = Data2D(FS0308_mesh, './Data/FSP6/2D_data/velocity/parallel_velocity/ua-5_2D')\n",
    "FS_uIon6 = Data2D(FS0308_mesh, './Data/FSP6/2D_data/velocity/parallel_velocity/ua-6_2D')\n",
    "FS_uIon7 = Data2D(FS0308_mesh, './Data/FSP6/2D_data/velocity/parallel_velocity/ua-7_2D')\n",
    "FS_uIon8 = Data2D(FS0308_mesh, './Data/FSP6/2D_data/velocity/parallel_velocity/ua-8_2D')\n",
    "\n",
    "XD_uIon3 = Data2D(XD0130_mesh, './Data/XDP6/2D_data/velocity/parallel_velocity/ua-3_2D')\n",
    "XD_uIon4 = Data2D(XD0130_mesh, './Data/XDP6/2D_data/velocity/parallel_velocity/ua-4_2D')\n",
    "XD_uIon5 = Data2D(XD0130_mesh, './Data/XDP6/2D_data/velocity/parallel_velocity/ua-5_2D')\n",
    "XD_uIon6 = Data2D(XD0130_mesh, './Data/XDP6/2D_data/velocity/parallel_velocity/ua-6_2D')\n",
    "XD_uIon7 = Data2D(XD0130_mesh, './Data/XDP6/2D_data/velocity/parallel_velocity/ua-7_2D')\n",
    "XD_uIon8 = Data2D(XD0130_mesh, './Data/XDP6/2D_data/velocity/parallel_velocity/ua-8_2D')\n",
    "\n",
    "\n",
    "# Carbon density for C1+ ~ C6+\n",
    "SD_nIon3 = Data2D(SD0203_mesh, './Data/SDP6/2D_data/density/n_ion/na-3_2D')\n",
    "SD_nIon4 = Data2D(SD0203_mesh, './Data/SDP6/2D_data/density/n_ion/na-4_2D')\n",
    "SD_nIon5 = Data2D(SD0203_mesh, './Data/SDP6/2D_data/density/n_ion/na-5_2D')\n",
    "SD_nIon6 = Data2D(SD0203_mesh, './Data/SDP6/2D_data/density/n_ion/na-6_2D')\n",
    "SD_nIon7 = Data2D(SD0203_mesh, './Data/SDP6/2D_data/density/n_ion/na-7_2D')\n",
    "SD_nIon8 = Data2D(SD0203_mesh, './Data/SDP6/2D_data/density/n_ion/na-8_2D')\n",
    "\n",
    "FS_nIon3 = Data2D(FS0308_mesh, './Data/FSP6/2D_data/density/n_ion/na-3_2D')\n",
    "FS_nIon4 = Data2D(FS0308_mesh, './Data/FSP6/2D_data/density/n_ion/na-4_2D')\n",
    "FS_nIon5 = Data2D(FS0308_mesh, './Data/FSP6/2D_data/density/n_ion/na-5_2D')\n",
    "FS_nIon6 = Data2D(FS0308_mesh, './Data/FSP6/2D_data/density/n_ion/na-6_2D')\n",
    "FS_nIon7 = Data2D(FS0308_mesh, './Data/FSP6/2D_data/density/n_ion/na-7_2D')\n",
    "FS_nIon8 = Data2D(FS0308_mesh, './Data/FSP6/2D_data/density/n_ion/na-8_2D')\n",
    "\n",
    "XD_nIon3 = Data2D(XD0130_mesh, './Data/XDP6/2D_data/density/n_ion/na-3_2D')\n",
    "XD_nIon4 = Data2D(XD0130_mesh, './Data/XDP6/2D_data/density/n_ion/na-4_2D')\n",
    "XD_nIon5 = Data2D(XD0130_mesh, './Data/XDP6/2D_data/density/n_ion/na-5_2D')\n",
    "XD_nIon6 = Data2D(XD0130_mesh, './Data/XDP6/2D_data/density/n_ion/na-6_2D')\n",
    "XD_nIon7 = Data2D(XD0130_mesh, './Data/XDP6/2D_data/density/n_ion/na-7_2D')\n",
    "XD_nIon8 = Data2D(XD0130_mesh, './Data/XDP6/2D_data/density/n_ion/na-8_2D')"
   ]
  },
  {
   "cell_type": "code",
   "execution_count": 5,
   "metadata": {},
   "outputs": [],
   "source": [
    "# electron temperature\n",
    "SD_te = Data2D(SD0203_mesh, './Data/SDP6/2D_data/temperature/T_electron/te_2D')\n",
    "\n",
    "FS_te = Data2D(FS0308_mesh, './Data/FSP6/2D_data/temperature/T_electron/te_2D')\n",
    "\n",
    "XD_te = Data2D(XD0130_mesh, './Data/XDP6/2D_data/temperature/T_electron/te_2D')"
   ]
  },
  {
   "cell_type": "markdown",
   "metadata": {},
   "source": [
    "some preparation calculation"
   ]
  },
  {
   "cell_type": "code",
   "execution_count": 6,
   "metadata": {},
   "outputs": [],
   "source": [
    "# take out the outer divertor part\n",
    "\n",
    "# te\n",
    "SD_te_outerdiv = numpy.transpose(SD_te.IyIx[:, SD0203_mesh.ixcut[1]:])\n",
    "\n",
    "FS_te_outerdiv = numpy.transpose(FS_te.IyIx[:, FS0308_mesh.ixcut[1]:])\n",
    "\n",
    "XD_te_outerdiv = numpy.transpose(XD_te.IyIx[:, XD0130_mesh.ixcut[1]:])\n"
   ]
  },
  {
   "cell_type": "markdown",
   "metadata": {},
   "source": [
    "calculate carbon velocity"
   ]
  },
  {
   "cell_type": "code",
   "execution_count": 7,
   "metadata": {},
   "outputs": [],
   "source": [
    "# first calculate total carbon ion density for later use\n",
    "SD_nCarbonIon = SD_nIon3.IyIx + SD_nIon4.IyIx + SD_nIon5.IyIx + SD_nIon6.IyIx + SD_nIon7.IyIx + SD_nIon8.IyIx\n",
    "\n",
    "FS_nCarbonIon = FS_nIon3.IyIx + FS_nIon4.IyIx + FS_nIon5.IyIx + FS_nIon6.IyIx + FS_nIon7.IyIx + FS_nIon8.IyIx\n",
    "\n",
    "XD_nCarbonIon = XD_nIon3.IyIx + XD_nIon4.IyIx + XD_nIon5.IyIx + XD_nIon6.IyIx + XD_nIon7.IyIx + XD_nIon8.IyIx"
   ]
  },
  {
   "cell_type": "code",
   "execution_count": null,
   "metadata": {},
   "outputs": [],
   "source": [
    "# then calculate the average carbon ion velocity\n",
    "\n",
    "SD_uParallelCarbon = (SD_uIon3.IyIx * SD_nIon3.IyIx + SD_uIon4.IyIx * SD_nIon4.IyIx + SD_uIon5.IyIx * SD_nIon5.IyIx\n",
    "                    + SD_uIon6.IyIx * SD_nIon6.IyIx + SD_uIon7.IyIx * SD_nIon7.IyIx + SD_uIon8.IyIx * SD_nIon8.IyIx)/SD_nCarbonIon\n",
    "\n",
    "FS_uParallelCarbon = (FS_uIon3.IyIx * FS_nIon3.IyIx + FS_uIon4.IyIx * FS_nIon4.IyIx + FS_uIon5.IyIx * FS_nIon5.IyIx\n",
    "                    + FS_uIon6.IyIx * FS_nIon6.IyIx + FS_uIon7.IyIx * FS_nIon7.IyIx + FS_uIon8.IyIx * FS_nIon8.IyIx)/FS_nCarbonIon\n",
    "\n",
    "XD_uParallelCarbon = (XD_uIon3.IyIx * XD_nIon3.IyIx + XD_uIon4.IyIx * XD_nIon4.IyIx + XD_uIon5.IyIx * XD_nIon5.IyIx\n",
    "                    + XD_uIon6.IyIx * XD_nIon6.IyIx + XD_uIon7.IyIx * XD_nIon7.IyIx + XD_uIon8.IyIx * XD_nIon8.IyIx)/XD_nCarbonIon"
   ]
  },
  {
   "cell_type": "markdown",
   "metadata": {},
   "source": [
    "take out the outer divertor part"
   ]
  },
  {
   "cell_type": "code",
   "execution_count": null,
   "metadata": {},
   "outputs": [],
   "source": [
    "SD_uParallelCarbon_outerdiv = numpy.transpose(SD_uParallelCarbon[:, SD0203_mesh.ixcut[1]:])\n",
    "\n",
    "FS_uParallelCarbon_outerdiv = numpy.transpose(FS_uParallelCarbon[:, FS0308_mesh.ixcut[1]:])\n",
    "\n",
    "XD_uParallelCarbon_outerdiv = numpy.transpose(XD_uParallelCarbon[:, XD0130_mesh.ixcut[1]:])"
   ]
  },
  {
   "cell_type": "markdown",
   "metadata": {},
   "source": [
    "compare carbon velocity"
   ]
  },
  {
   "cell_type": "code",
   "execution_count": 8,
   "metadata": {},
   "outputs": [
    {
     "name": "stdout",
     "output_type": "stream",
     "text": [
      "20773.923925317347\n",
      "16237.38366366467\n",
      "25563.76505465035\n",
      "-32492.26906423357\n",
      "-36235.35599349713\n",
      "-33186.411769180995\n"
     ]
    }
   ],
   "source": [
    "print(SD_uParallelCarbon_outerdiv.max())\n",
    "print(FS_uParallelCarbon_outerdiv.max())\n",
    "print(XD_uParallelCarbon_outerdiv.max())\n",
    "\n",
    "print(SD_uParallelCarbon_outerdiv.min())\n",
    "print(FS_uParallelCarbon_outerdiv.min())\n",
    "print(XD_uParallelCarbon_outerdiv.min())"
   ]
  },
  {
   "cell_type": "code",
   "execution_count": null,
   "metadata": {},
   "outputs": [],
   "source": []
  },
  {
   "cell_type": "markdown",
   "metadata": {},
   "source": [
    "# start attempting plots"
   ]
  },
  {
   "cell_type": "code",
   "execution_count": 9,
   "metadata": {},
   "outputs": [],
   "source": [
    "import matplotlib.pyplot as plt"
   ]
  },
  {
   "cell_type": "markdown",
   "metadata": {},
   "source": [
    "## do scatter plots"
   ]
  },
  {
   "cell_type": "markdown",
   "metadata": {},
   "source": [
    "rescale the velocity unit to km/s"
   ]
  },
  {
   "cell_type": "code",
   "execution_count": 11,
   "metadata": {},
   "outputs": [],
   "source": [
    "SD_uParallelCarbon_outerdiv_rescale = SD_uParallelCarbon_outerdiv / 1e3\n",
    "FS_uParallelCarbon_outerdiv_rescale = FS_uParallelCarbon_outerdiv / 1e3\n",
    "XD_uParallelCarbon_outerdiv_rescale = XD_uParallelCarbon_outerdiv / 1e3"
   ]
  },
  {
   "cell_type": "markdown",
   "metadata": {},
   "source": [
    "the data along flux tubes within first 1mm radially out from the separatrix"
   ]
  },
  {
   "cell_type": "code",
   "execution_count": 10,
   "metadata": {},
   "outputs": [],
   "source": [
    "%%capture\n",
    "\n",
    "fig_1, ax_1 = plt.subplots()"
   ]
  },
  {
   "cell_type": "code",
   "execution_count": 12,
   "metadata": {},
   "outputs": [],
   "source": [
    "%%capture\n",
    "\n",
    "ax_1.scatter(SD_te_outerdiv[:, SD0203_mesh.iycut : 19], SD_uParallelCarbon_outerdiv_rescale[:, SD0203_mesh.iycut : 19], c = \"w\", marker = \"s\", edgecolors = \"r\")\n",
    "ax_1.scatter(FS_te_outerdiv[:, FS0308_mesh.iycut : 17], FS_uParallelCarbon_outerdiv_rescale[:, FS0308_mesh.iycut : 17], c = \"w\", marker = \"^\", edgecolors = \"m\")\n",
    "ax_1.scatter(XD_te_outerdiv[:, XD0130_mesh.iycut : 21], XD_uParallelCarbon_outerdiv_rescale[:, XD0130_mesh.iycut : 21], c = \"w\", marker = \".\", edgecolors = \"b\")"
   ]
  },
  {
   "cell_type": "markdown",
   "metadata": {},
   "source": [
    "add legend using scatter plot trick"
   ]
  },
  {
   "cell_type": "code",
   "execution_count": 23,
   "metadata": {},
   "outputs": [],
   "source": [
    "%%capture\n",
    "\n",
    "ax_1_legend_marker_SD = ax_1.scatter([2.5], [21], c = \"w\", marker = \"s\", edgecolors = \"r\")\n",
    "ax_1_legend_marker_FS = ax_1.scatter([2.5], [16], c = \"w\", marker = \"^\", edgecolors = \"m\")\n",
    "ax_1_legend_marker_XD = ax_1.scatter([2.5], [11], c = \"w\", marker = \".\", edgecolors = \"b\")"
   ]
  },
  {
   "cell_type": "markdown",
   "metadata": {},
   "source": [
    "add legend text"
   ]
  },
  {
   "cell_type": "code",
   "execution_count": 26,
   "metadata": {},
   "outputs": [],
   "source": [
    "ax_1_legend_text_SD = ax_1.text(3, 20, \"SD10\")\n",
    "ax_1_legend_text_FS = ax_1.text(3, 15, \"SD20\")\n",
    "ax_1_legend_text_XD = ax_1.text(3, 10, \"XD\")"
   ]
  },
  {
   "cell_type": "markdown",
   "metadata": {},
   "source": [
    "set the axes label"
   ]
  },
  {
   "cell_type": "code",
   "execution_count": 28,
   "metadata": {},
   "outputs": [],
   "source": [
    "%%capture\n",
    "ax_1.set_xlabel(\"Te (eV)\")\n",
    "ax_1.set_ylabel(\"carbon ion parallel velocity (km/s)\")"
   ]
  },
  {
   "cell_type": "markdown",
   "metadata": {},
   "source": [
    "add some explanation text"
   ]
  },
  {
   "cell_type": "code",
   "execution_count": 29,
   "metadata": {},
   "outputs": [],
   "source": [
    "ax_1_explain_text = ax_1.text(10, 16, \"0 < R - $R_{sep}$ < 1mm at OMP\")\n",
    "ax_1_explain_text.set_fontsize(12)"
   ]
  },
  {
   "cell_type": "code",
   "execution_count": 24,
   "metadata": {},
   "outputs": [],
   "source": [
    "ax_1.set_xbound(1, 30)\n",
    "ax_1.set_ybound(-35, 25)"
   ]
  },
  {
   "cell_type": "code",
   "execution_count": 30,
   "metadata": {},
   "outputs": [
    {
     "data": {
      "image/png": "[encoded data removed]",
      "text/plain": [
       "<Figure size 432x288 with 1 Axes>"
      ]
     },
     "execution_count": 30,
     "metadata": {},
     "output_type": "execute_result"
    }
   ],
   "source": [
    "fig_1"
   ]
  },
  {
   "cell_type": "code",
   "execution_count": 31,
   "metadata": {},
   "outputs": [],
   "source": [
    "fig_1.savefig('uParallelCIonP6-1mm_Scatter.svg', format='svg', bbox_inches='tight')"
   ]
  },
  {
   "cell_type": "code",
   "execution_count": null,
   "metadata": {},
   "outputs": [],
   "source": []
  },
  {
   "cell_type": "code",
   "execution_count": null,
   "metadata": {},
   "outputs": [],
   "source": []
  },
  {
   "cell_type": "markdown",
   "metadata": {},
   "source": [
    "the data along flux tubes within 1 ~ 2mm radially out from the separatrix"
   ]
  },
  {
   "cell_type": "code",
   "execution_count": 32,
   "metadata": {},
   "outputs": [],
   "source": [
    "%%capture\n",
    "\n",
    "fig_2, ax_2 = plt.subplots()"
   ]
  },
  {
   "cell_type": "code",
   "execution_count": 33,
   "metadata": {},
   "outputs": [],
   "source": [
    "%%capture\n",
    "\n",
    "ax_2.scatter(SD_te_outerdiv[:, 19 : 22], SD_uParallelCarbon_outerdiv_rescale[:, 19 : 22], c = \"w\", marker = \"s\", edgecolors = \"r\")\n",
    "ax_2.scatter(FS_te_outerdiv[:, 17 : 20], FS_uParallelCarbon_outerdiv_rescale[:, 17 : 20], c = \"w\", marker = \"^\", edgecolors = \"m\")\n",
    "ax_2.scatter(XD_te_outerdiv[:, 21 : 24], XD_uParallelCarbon_outerdiv_rescale[:, 21 : 24], c = \"w\", marker = \".\", edgecolors = \"b\")"
   ]
  },
  {
   "cell_type": "markdown",
   "metadata": {},
   "source": [
    "add legend using scatter plot trick"
   ]
  },
  {
   "cell_type": "code",
   "execution_count": 37,
   "metadata": {},
   "outputs": [],
   "source": [
    "%%capture\n",
    "\n",
    "ax_2_legend_marker_SD = ax_2.scatter([2.5], [21], c = \"w\", marker = \"s\", edgecolors = \"r\")\n",
    "ax_2_legend_marker_FS = ax_2.scatter([2.5], [16], c = \"w\", marker = \"^\", edgecolors = \"m\")\n",
    "ax_2_legend_marker_XD = ax_2.scatter([2.5], [11], c = \"w\", marker = \".\", edgecolors = \"b\")"
   ]
  },
  {
   "cell_type": "markdown",
   "metadata": {},
   "source": [
    "add legend text"
   ]
  },
  {
   "cell_type": "code",
   "execution_count": 38,
   "metadata": {},
   "outputs": [],
   "source": [
    "ax_2_legend_text_SD = ax_2.text(3, 20, \"SD10\")\n",
    "ax_2_legend_text_FS = ax_2.text(3, 15, \"SD20\")\n",
    "ax_2_legend_text_XD = ax_2.text(3, 10, \"XD\")"
   ]
  },
  {
   "cell_type": "markdown",
   "metadata": {},
   "source": [
    "set the axes label"
   ]
  },
  {
   "cell_type": "code",
   "execution_count": 39,
   "metadata": {},
   "outputs": [],
   "source": [
    "%%capture\n",
    "ax_2.set_xlabel(\"Te (eV)\")\n",
    "ax_2.set_ylabel(\"carbon ion parallel velocity (km/s)\")"
   ]
  },
  {
   "cell_type": "markdown",
   "metadata": {},
   "source": [
    "add some explanation text"
   ]
  },
  {
   "cell_type": "code",
   "execution_count": 40,
   "metadata": {},
   "outputs": [],
   "source": [
    "ax_2_explain_text = ax_2.text(10, 16, \"1mm < R - $R_{sep}$ < 2mm at OMP\")\n",
    "ax_2_explain_text.set_fontsize(12)"
   ]
  },
  {
   "cell_type": "code",
   "execution_count": 42,
   "metadata": {},
   "outputs": [],
   "source": [
    "ax_2.set_xbound(1, 30)\n",
    "ax_2.set_ybound(-35, 25)"
   ]
  },
  {
   "cell_type": "code",
   "execution_count": 43,
   "metadata": {},
   "outputs": [
    {
     "data": {
      "image/png": "[encoded data removed]",
      "text/plain": [
       "<Figure size 432x288 with 1 Axes>"
      ]
     },
     "execution_count": 43,
     "metadata": {},
     "output_type": "execute_result"
    }
   ],
   "source": [
    "fig_2"
   ]
  },
  {
   "cell_type": "code",
   "execution_count": 44,
   "metadata": {},
   "outputs": [],
   "source": [
    "fig_2.savefig('uParallelCIonP6-2mm_Scatter.svg', format='svg', bbox_inches='tight')"
   ]
  },
  {
   "cell_type": "code",
   "execution_count": null,
   "metadata": {},
   "outputs": [],
   "source": []
  }
 ],
 "metadata": {
  "kernelspec": {
   "display_name": "Python 3",
   "language": "python",
   "name": "python3"
  },
  "language_info": {
   "codemirror_mode": {
    "name": "ipython",
    "version": 3
   },
   "file_extension": ".py",
   "mimetype": "text/x-python",
   "name": "python",
   "nbconvert_exporter": "python",
   "pygments_lexer": "ipython3",
   "version": "3.6.7"
  }
 },
 "nbformat": 4,
 "nbformat_minor": 2
}
