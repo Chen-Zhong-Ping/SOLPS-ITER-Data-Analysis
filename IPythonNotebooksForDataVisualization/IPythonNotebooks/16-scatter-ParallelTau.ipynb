{
 "cells": [
  {
   "cell_type": "code",
   "execution_count": 1,
   "metadata": {},
   "outputs": [],
   "source": [
    "from packages.data_classes.data2D import Data2D\n",
    "from packages.data_classes.mesh import Mesh\n",
    "from packages.plot_classes.tangram import Tangram"
   ]
  },
  {
   "cell_type": "code",
   "execution_count": 2,
   "metadata": {},
   "outputs": [],
   "source": [
    "import numpy"
   ]
  },
  {
   "cell_type": "code",
   "execution_count": 3,
   "metadata": {},
   "outputs": [],
   "source": [
    "SD0203_mesh = Mesh('./Data/Geometry/SD/S20190203@25-6-66_24-6.v001.sno')\n",
    "FS0308_mesh = Mesh('./Data/Geometry/FS/S20190308@25-10-50_25-6.v001.sno')\n",
    "XD0130_mesh = Mesh('./Data/Geometry/XD/X20190130@31-12-68_26-6.v001.sno')"
   ]
  },
  {
   "cell_type": "markdown",
   "metadata": {},
   "source": [
    "be careful! data2D reads in IyIx order but quadmesh has to drawn in IxIy order to take care of the cuts!"
   ]
  },
  {
   "cell_type": "code",
   "execution_count": 4,
   "metadata": {},
   "outputs": [],
   "source": [
    "# poloidal cell length (in meters)\n",
    "\n",
    "SD_hx = Data2D(SD0203_mesh, './Data/SDP6/2D_data/geometry/hx_2D')\n",
    "\n",
    "FS_hx = Data2D(FS0308_mesh, './Data/FSP6/2D_data/geometry/hx_2D')\n",
    "\n",
    "XD_hx = Data2D(XD0130_mesh, './Data/XDP6/2D_data/geometry/hx_2D')"
   ]
  },
  {
   "cell_type": "code",
   "execution_count": 5,
   "metadata": {},
   "outputs": [],
   "source": [
    "# import magnetic field components for calculation\n",
    "\n",
    "# b poloidal\n",
    "SD_bx = Data2D(SD0203_mesh, './Data/SDP6/2D_data/geometry/bx_2D')\n",
    "\n",
    "FS_bx = Data2D(FS0308_mesh, './Data/FSP6/2D_data/geometry/bx_2D')\n",
    "\n",
    "XD_bx = Data2D(XD0130_mesh, './Data/XDP6/2D_data/geometry/bx_2D')\n",
    "\n",
    "\n",
    "# b total\n",
    "SD_bb = Data2D(SD0203_mesh, './Data/SDP6/2D_data/geometry/bb_2D')\n",
    "\n",
    "FS_bb = Data2D(FS0308_mesh, './Data/FSP6/2D_data/geometry/bb_2D')\n",
    "\n",
    "XD_bb = Data2D(XD0130_mesh, './Data/XDP6/2D_data/geometry/bb_2D')"
   ]
  },
  {
   "cell_type": "code",
   "execution_count": 6,
   "metadata": {},
   "outputs": [],
   "source": [
    "# Carbon parallel velocity for C1+ ~ C6+\n",
    "SD_uIon3 = Data2D(SD0203_mesh, './Data/SDP6/2D_data/velocity/parallel_velocity/ua-3_2D')\n",
    "SD_uIon4 = Data2D(SD0203_mesh, './Data/SDP6/2D_data/velocity/parallel_velocity/ua-4_2D')\n",
    "SD_uIon5 = Data2D(SD0203_mesh, './Data/SDP6/2D_data/velocity/parallel_velocity/ua-5_2D')\n",
    "SD_uIon6 = Data2D(SD0203_mesh, './Data/SDP6/2D_data/velocity/parallel_velocity/ua-6_2D')\n",
    "SD_uIon7 = Data2D(SD0203_mesh, './Data/SDP6/2D_data/velocity/parallel_velocity/ua-7_2D')\n",
    "SD_uIon8 = Data2D(SD0203_mesh, './Data/SDP6/2D_data/velocity/parallel_velocity/ua-8_2D')\n",
    "\n",
    "FS_uIon3 = Data2D(FS0308_mesh, './Data/FSP6/2D_data/velocity/parallel_velocity/ua-3_2D')\n",
    "FS_uIon4 = Data2D(FS0308_mesh, './Data/FSP6/2D_data/velocity/parallel_velocity/ua-4_2D')\n",
    "FS_uIon5 = Data2D(FS0308_mesh, './Data/FSP6/2D_data/velocity/parallel_velocity/ua-5_2D')\n",
    "FS_uIon6 = Data2D(FS0308_mesh, './Data/FSP6/2D_data/velocity/parallel_velocity/ua-6_2D')\n",
    "FS_uIon7 = Data2D(FS0308_mesh, './Data/FSP6/2D_data/velocity/parallel_velocity/ua-7_2D')\n",
    "FS_uIon8 = Data2D(FS0308_mesh, './Data/FSP6/2D_data/velocity/parallel_velocity/ua-8_2D')\n",
    "\n",
    "XD_uIon3 = Data2D(XD0130_mesh, './Data/XDP6/2D_data/velocity/parallel_velocity/ua-3_2D')\n",
    "XD_uIon4 = Data2D(XD0130_mesh, './Data/XDP6/2D_data/velocity/parallel_velocity/ua-4_2D')\n",
    "XD_uIon5 = Data2D(XD0130_mesh, './Data/XDP6/2D_data/velocity/parallel_velocity/ua-5_2D')\n",
    "XD_uIon6 = Data2D(XD0130_mesh, './Data/XDP6/2D_data/velocity/parallel_velocity/ua-6_2D')\n",
    "XD_uIon7 = Data2D(XD0130_mesh, './Data/XDP6/2D_data/velocity/parallel_velocity/ua-7_2D')\n",
    "XD_uIon8 = Data2D(XD0130_mesh, './Data/XDP6/2D_data/velocity/parallel_velocity/ua-8_2D')\n",
    "\n",
    "\n",
    "# Carbon density for C1+ ~ C6+\n",
    "SD_nIon3 = Data2D(SD0203_mesh, './Data/SDP6/2D_data/density/n_ion/na-3_2D')\n",
    "SD_nIon4 = Data2D(SD0203_mesh, './Data/SDP6/2D_data/density/n_ion/na-4_2D')\n",
    "SD_nIon5 = Data2D(SD0203_mesh, './Data/SDP6/2D_data/density/n_ion/na-5_2D')\n",
    "SD_nIon6 = Data2D(SD0203_mesh, './Data/SDP6/2D_data/density/n_ion/na-6_2D')\n",
    "SD_nIon7 = Data2D(SD0203_mesh, './Data/SDP6/2D_data/density/n_ion/na-7_2D')\n",
    "SD_nIon8 = Data2D(SD0203_mesh, './Data/SDP6/2D_data/density/n_ion/na-8_2D')\n",
    "\n",
    "FS_nIon3 = Data2D(FS0308_mesh, './Data/FSP6/2D_data/density/n_ion/na-3_2D')\n",
    "FS_nIon4 = Data2D(FS0308_mesh, './Data/FSP6/2D_data/density/n_ion/na-4_2D')\n",
    "FS_nIon5 = Data2D(FS0308_mesh, './Data/FSP6/2D_data/density/n_ion/na-5_2D')\n",
    "FS_nIon6 = Data2D(FS0308_mesh, './Data/FSP6/2D_data/density/n_ion/na-6_2D')\n",
    "FS_nIon7 = Data2D(FS0308_mesh, './Data/FSP6/2D_data/density/n_ion/na-7_2D')\n",
    "FS_nIon8 = Data2D(FS0308_mesh, './Data/FSP6/2D_data/density/n_ion/na-8_2D')\n",
    "\n",
    "XD_nIon3 = Data2D(XD0130_mesh, './Data/XDP6/2D_data/density/n_ion/na-3_2D')\n",
    "XD_nIon4 = Data2D(XD0130_mesh, './Data/XDP6/2D_data/density/n_ion/na-4_2D')\n",
    "XD_nIon5 = Data2D(XD0130_mesh, './Data/XDP6/2D_data/density/n_ion/na-5_2D')\n",
    "XD_nIon6 = Data2D(XD0130_mesh, './Data/XDP6/2D_data/density/n_ion/na-6_2D')\n",
    "XD_nIon7 = Data2D(XD0130_mesh, './Data/XDP6/2D_data/density/n_ion/na-7_2D')\n",
    "XD_nIon8 = Data2D(XD0130_mesh, './Data/XDP6/2D_data/density/n_ion/na-8_2D')"
   ]
  },
  {
   "cell_type": "code",
   "execution_count": 7,
   "metadata": {},
   "outputs": [],
   "source": [
    "# electron density\n",
    "SD_ne = Data2D(SD0203_mesh, './Data/SDP6/2D_data/density/n_electron/ne_2D')\n",
    "\n",
    "FS_ne = Data2D(FS0308_mesh, './Data/FSP6/2D_data/density/n_electron/ne_2D')\n",
    "\n",
    "XD_ne = Data2D(XD0130_mesh, './Data/XDP6/2D_data/density/n_electron/ne_2D')"
   ]
  },
  {
   "cell_type": "code",
   "execution_count": 8,
   "metadata": {},
   "outputs": [],
   "source": [
    "# electron temperature\n",
    "SD_te = Data2D(SD0203_mesh, './Data/SDP6/2D_data/temperature/T_electron/te_2D')\n",
    "\n",
    "FS_te = Data2D(FS0308_mesh, './Data/FSP6/2D_data/temperature/T_electron/te_2D')\n",
    "\n",
    "XD_te = Data2D(XD0130_mesh, './Data/XDP6/2D_data/temperature/T_electron/te_2D')"
   ]
  },
  {
   "cell_type": "markdown",
   "metadata": {},
   "source": [
    "calculate carbon velocity"
   ]
  },
  {
   "cell_type": "code",
   "execution_count": 9,
   "metadata": {},
   "outputs": [],
   "source": [
    "# first calculate total carbon ion density for later use\n",
    "SD_nCarbonIon = SD_nIon3.IyIx + SD_nIon4.IyIx + SD_nIon5.IyIx + SD_nIon6.IyIx + SD_nIon7.IyIx + SD_nIon8.IyIx\n",
    "\n",
    "FS_nCarbonIon = FS_nIon3.IyIx + FS_nIon4.IyIx + FS_nIon5.IyIx + FS_nIon6.IyIx + FS_nIon7.IyIx + FS_nIon8.IyIx\n",
    "\n",
    "XD_nCarbonIon = XD_nIon3.IyIx + XD_nIon4.IyIx + XD_nIon5.IyIx + XD_nIon6.IyIx + XD_nIon7.IyIx + XD_nIon8.IyIx"
   ]
  },
  {
   "cell_type": "code",
   "execution_count": 10,
   "metadata": {},
   "outputs": [],
   "source": [
    "# then calculate the average carbon ion parallel velocity\n",
    "\n",
    "SD_uParallelCarbon = (SD_uIon3.IyIx * SD_nIon3.IyIx + SD_uIon4.IyIx * SD_nIon4.IyIx + SD_uIon5.IyIx * SD_nIon5.IyIx\n",
    "                    + SD_uIon6.IyIx * SD_nIon6.IyIx + SD_uIon7.IyIx * SD_nIon7.IyIx + SD_uIon8.IyIx * SD_nIon8.IyIx)/SD_nCarbonIon\n",
    "\n",
    "FS_uParallelCarbon = (FS_uIon3.IyIx * FS_nIon3.IyIx + FS_uIon4.IyIx * FS_nIon4.IyIx + FS_uIon5.IyIx * FS_nIon5.IyIx\n",
    "                    + FS_uIon6.IyIx * FS_nIon6.IyIx + FS_uIon7.IyIx * FS_nIon7.IyIx + FS_uIon8.IyIx * FS_nIon8.IyIx)/FS_nCarbonIon\n",
    "\n",
    "XD_uParallelCarbon = (XD_uIon3.IyIx * XD_nIon3.IyIx + XD_uIon4.IyIx * XD_nIon4.IyIx + XD_uIon5.IyIx * XD_nIon5.IyIx\n",
    "                    + XD_uIon6.IyIx * XD_nIon6.IyIx + XD_uIon7.IyIx * XD_nIon7.IyIx + XD_uIon8.IyIx * XD_nIon8.IyIx)/XD_nCarbonIon"
   ]
  },
  {
   "cell_type": "markdown",
   "metadata": {},
   "source": [
    "projection poloidal cell length to distance along field line"
   ]
  },
  {
   "cell_type": "code",
   "execution_count": 11,
   "metadata": {},
   "outputs": [],
   "source": [
    "# dl\n",
    "\n",
    "SD_dl = SD_hx.IyIx * SD_bb.IyIx / (SD_bx.IyIx)\n",
    "\n",
    "FS_dl = FS_hx.IyIx * FS_bb.IyIx / (FS_bx.IyIx)\n",
    "\n",
    "XD_dl = XD_hx.IyIx * XD_bb.IyIx / (XD_bx.IyIx)"
   ]
  },
  {
   "cell_type": "markdown",
   "metadata": {},
   "source": [
    "calculate dt parallel for each cell"
   ]
  },
  {
   "cell_type": "code",
   "execution_count": 12,
   "metadata": {},
   "outputs": [],
   "source": [
    "SD_dt = SD_dl / SD_uParallelCarbon\n",
    "\n",
    "FS_dt = FS_dl / FS_uParallelCarbon\n",
    "\n",
    "XD_dt = XD_dl / XD_uParallelCarbon"
   ]
  },
  {
   "cell_type": "markdown",
   "metadata": {},
   "source": [
    "#### \"integrate\" dt to get the tau"
   ]
  },
  {
   "cell_type": "markdown",
   "metadata": {},
   "source": [
    "first integrate d_t to the cell \"before\""
   ]
  },
  {
   "cell_type": "code",
   "execution_count": 13,
   "metadata": {},
   "outputs": [
    {
     "name": "stdout",
     "output_type": "stream",
     "text": [
      "32\n",
      "31\n",
      "99\n",
      "98\n"
     ]
    }
   ],
   "source": [
    "# check array sizes\n",
    "\n",
    "print(len(SD_dt))\n",
    "print(SD0203_mesh.ny)\n",
    "\n",
    "print(len(SD_dt[0]))\n",
    "print(SD0203_mesh.nx)"
   ]
  },
  {
   "cell_type": "code",
   "execution_count": 14,
   "metadata": {},
   "outputs": [],
   "source": [
    "# initialize an all 0 array, in the IyIx order\n",
    "\n",
    "SD_dt_integral = numpy.zeros((len(SD_dt), len(SD_dt[0])))\n",
    "\n",
    "FS_dt_integral = numpy.zeros((len(FS_dt), len(FS_dt[0])))\n",
    "\n",
    "XD_dt_integral = numpy.zeros((len(XD_dt), len(XD_dt[0])))"
   ]
  },
  {
   "cell_type": "code",
   "execution_count": 15,
   "metadata": {},
   "outputs": [],
   "source": [
    "# integrate using for loop\n",
    "# this one is integrate from the outer target to inner\n",
    "# in case one want's to do inner target or to handle double null case, better to take out the divertor part first\n",
    "\n",
    "def integrate_dt(dt, dt_integral):\n",
    "    for r in range(len(dt)):\n",
    "        for c in range(len(dt[0]) - 2, -1, -1):    # notice we are doing it in reverse order from the outer divertor\n",
    "            dt_integral[r][c] = dt_integral[r][c + 1] + dt[r][c + 1]\n",
    "            \n",
    "integrate_dt(SD_dt, SD_dt_integral)\n",
    "\n",
    "integrate_dt(FS_dt, FS_dt_integral)\n",
    "\n",
    "integrate_dt(XD_dt, XD_dt_integral)"
   ]
  },
  {
   "cell_type": "markdown",
   "metadata": {},
   "source": [
    "then calculate tau due to parallel transport"
   ]
  },
  {
   "cell_type": "code",
   "execution_count": 16,
   "metadata": {},
   "outputs": [],
   "source": [
    "# adding half of the dt of each cell plus the integration to the cell \"before\"\n",
    "\n",
    "SD_tauParallel = SD_dt_integral + SD_dt / 2\n",
    "\n",
    "FS_tauParallel = FS_dt_integral + FS_dt / 2\n",
    "\n",
    "XD_tauParallel = XD_dt_integral + XD_dt / 2"
   ]
  },
  {
   "cell_type": "code",
   "execution_count": null,
   "metadata": {},
   "outputs": [],
   "source": []
  },
  {
   "cell_type": "markdown",
   "metadata": {},
   "source": [
    "#### calculate n\\*tau"
   ]
  },
  {
   "cell_type": "code",
   "execution_count": 17,
   "metadata": {},
   "outputs": [],
   "source": [
    "SD_neTauParallel = SD_tauParallel * SD_ne.IyIx\n",
    "\n",
    "FS_neTauParallel = FS_tauParallel * FS_ne.IyIx\n",
    "\n",
    "XD_neTauParallel = XD_tauParallel * XD_ne.IyIx"
   ]
  },
  {
   "cell_type": "markdown",
   "metadata": {},
   "source": [
    "take out the outer divertor part and transpose"
   ]
  },
  {
   "cell_type": "code",
   "execution_count": 18,
   "metadata": {},
   "outputs": [],
   "source": [
    "# ntau\n",
    "\n",
    "SD_neTauParallel_outerdiv = numpy.transpose(SD_neTauParallel[:, SD0203_mesh.ixcut[1]:])\n",
    "\n",
    "FS_neTauParallel_outerdiv = numpy.transpose(FS_neTauParallel[:, FS0308_mesh.ixcut[1]:])\n",
    "\n",
    "XD_neTauParallel_outerdiv = numpy.transpose(XD_neTauParallel[:, XD0130_mesh.ixcut[1]:])"
   ]
  },
  {
   "cell_type": "code",
   "execution_count": 19,
   "metadata": {},
   "outputs": [],
   "source": [
    "# te outer divertor\n",
    "SD_te_outerdiv = numpy.transpose(SD_te.IyIx[:, SD0203_mesh.ixcut[1]:])\n",
    "\n",
    "FS_te_outerdiv = numpy.transpose(FS_te.IyIx[:, FS0308_mesh.ixcut[1]:])\n",
    "\n",
    "XD_te_outerdiv = numpy.transpose(XD_te.IyIx[:, XD0130_mesh.ixcut[1]:])"
   ]
  },
  {
   "cell_type": "code",
   "execution_count": null,
   "metadata": {},
   "outputs": [],
   "source": []
  },
  {
   "cell_type": "code",
   "execution_count": null,
   "metadata": {},
   "outputs": [],
   "source": []
  },
  {
   "cell_type": "code",
   "execution_count": null,
   "metadata": {},
   "outputs": [],
   "source": []
  },
  {
   "cell_type": "markdown",
   "metadata": {},
   "source": []
  },
  {
   "cell_type": "markdown",
   "metadata": {},
   "source": [
    "# start attempting plots"
   ]
  },
  {
   "cell_type": "markdown",
   "metadata": {},
   "source": [
    "## prepare figure and its axes"
   ]
  },
  {
   "cell_type": "code",
   "execution_count": 20,
   "metadata": {},
   "outputs": [],
   "source": [
    "import matplotlib.pyplot as plt"
   ]
  },
  {
   "cell_type": "markdown",
   "metadata": {},
   "source": [
    "### do scatter plots"
   ]
  },
  {
   "cell_type": "markdown",
   "metadata": {},
   "source": [
    "the data along flux tubes within lambda_q radially out from the separatrix"
   ]
  },
  {
   "cell_type": "code",
   "execution_count": 21,
   "metadata": {},
   "outputs": [],
   "source": [
    "%%capture\n",
    "\n",
    "fig_1, ax_1 = plt.subplots()"
   ]
  },
  {
   "cell_type": "code",
   "execution_count": 29,
   "metadata": {},
   "outputs": [],
   "source": [
    "%%capture\n",
    "\n",
    "ax_1.scatter(SD_te_outerdiv[:, SD0203_mesh.iycut : 22], SD_neTauParallel_outerdiv[:, SD0203_mesh.iycut : 22], c = \"w\", marker = \"s\", edgecolors = \"r\")\n",
    "ax_1.scatter(FS_te_outerdiv[:, FS0308_mesh.iycut : 20], FS_neTauParallel_outerdiv[:, FS0308_mesh.iycut : 20], c = \"w\", marker = \"^\", edgecolors = \"m\")\n",
    "ax_1.scatter(XD_te_outerdiv[:, XD0130_mesh.iycut : 24], XD_neTauParallel_outerdiv[:, XD0130_mesh.iycut : 24], c = \"w\", marker = \".\", edgecolors = \"b\")"
   ]
  },
  {
   "cell_type": "markdown",
   "metadata": {},
   "source": [
    "add legend using scatter plot trick"
   ]
  },
  {
   "cell_type": "code",
   "execution_count": 39,
   "metadata": {},
   "outputs": [],
   "source": [
    "%%capture\n",
    "\n",
    "ax_1_legend_marker_SD = ax_1.scatter([40], [4e14], c = \"w\", marker = \"s\", edgecolors = \"r\")\n",
    "ax_1_legend_marker_FS = ax_1.scatter([40], [2e14], c = \"w\", marker = \"^\", edgecolors = \"m\")\n",
    "ax_1_legend_marker_XD = ax_1.scatter([40], [1e14], c = \"w\", marker = \".\", edgecolors = \"b\")"
   ]
  },
  {
   "cell_type": "code",
   "execution_count": 38,
   "metadata": {},
   "outputs": [],
   "source": [
    "ax_1_legend_marker_SD.remove()\n",
    "ax_1_legend_marker_FS.remove()\n",
    "ax_1_legend_marker_XD.remove()"
   ]
  },
  {
   "cell_type": "markdown",
   "metadata": {},
   "source": [
    "add legend text"
   ]
  },
  {
   "cell_type": "code",
   "execution_count": 43,
   "metadata": {},
   "outputs": [],
   "source": [
    "ax_1_legend_text_SD = ax_1.text(42, 4e14, \"SD10\")\n",
    "ax_1_legend_text_FS = ax_1.text(42, 2e14, \"SD20\")\n",
    "ax_1_legend_text_XD = ax_1.text(42, 1e14, \"XD\")"
   ]
  },
  {
   "cell_type": "code",
   "execution_count": 47,
   "metadata": {},
   "outputs": [],
   "source": [
    "ax_1_legend_text_SD.set_position((42, 3.5e14))\n",
    "ax_1_legend_text_FS.set_position((42, 1.8e14))\n",
    "ax_1_legend_text_XD.set_position((42, 9e13))"
   ]
  },
  {
   "cell_type": "markdown",
   "metadata": {},
   "source": [
    "set the axes label"
   ]
  },
  {
   "cell_type": "code",
   "execution_count": 49,
   "metadata": {},
   "outputs": [],
   "source": [
    "%%capture\n",
    "ax_1.set_xlabel(\"Te (eV)\")\n",
    "ax_1.set_ylabel(r\"$n_{e}\\tau$ for carbon parallel transport ($m^{-3}$s)\")"
   ]
  },
  {
   "cell_type": "markdown",
   "metadata": {},
   "source": [
    "add explanation text"
   ]
  },
  {
   "cell_type": "code",
   "execution_count": 50,
   "metadata": {},
   "outputs": [],
   "source": [
    "ax_1_explain_text = ax_1.text(5, 1.5e17, \"data along flux tubes within $\\lambda_{q}$ at OMP\")\n",
    "ax_1_explain_text.set_fontsize(12)"
   ]
  },
  {
   "cell_type": "code",
   "execution_count": 52,
   "metadata": {},
   "outputs": [],
   "source": [
    "ax_1_explain_text.set_position((5, 1.8e17))"
   ]
  },
  {
   "cell_type": "code",
   "execution_count": 30,
   "metadata": {},
   "outputs": [],
   "source": [
    "ax_1.set_yscale(\"log\")"
   ]
  },
  {
   "cell_type": "code",
   "execution_count": 41,
   "metadata": {},
   "outputs": [],
   "source": [
    "ax_1.set_xbound(0, 50)\n",
    "ax_1.set_ybound(5e13, 5e17)"
   ]
  },
  {
   "cell_type": "code",
   "execution_count": 54,
   "metadata": {},
   "outputs": [],
   "source": [
    "ax_1.set_position([0.1, 0.1, 0.9, 0.9])"
   ]
  },
  {
   "cell_type": "code",
   "execution_count": 55,
   "metadata": {},
   "outputs": [
    {
     "data": {
      "image/png": "[encoded data removed]",
      "text/plain": [
       "<Figure size 432x288 with 1 Axes>"
      ]
     },
     "execution_count": 55,
     "metadata": {},
     "output_type": "execute_result"
    }
   ],
   "source": [
    "fig_1"
   ]
  },
  {
   "cell_type": "code",
   "execution_count": null,
   "metadata": {},
   "outputs": [],
   "source": []
  },
  {
   "cell_type": "code",
   "execution_count": 56,
   "metadata": {},
   "outputs": [],
   "source": [
    "fig_1.savefig('neTauCarbonParallelP6-lq_Scatter.svg', format='svg', bbox_inches='tight')"
   ]
  },
  {
   "cell_type": "code",
   "execution_count": null,
   "metadata": {},
   "outputs": [],
   "source": []
  },
  {
   "cell_type": "code",
   "execution_count": null,
   "metadata": {},
   "outputs": [],
   "source": []
  }
 ],
 "metadata": {
  "kernelspec": {
   "display_name": "Python 3",
   "language": "python",
   "name": "python3"
  },
  "language_info": {
   "codemirror_mode": {
    "name": "ipython",
    "version": 3
   },
   "file_extension": ".py",
   "mimetype": "text/x-python",
   "name": "python",
   "nbconvert_exporter": "python",
   "pygments_lexer": "ipython3",
   "version": "3.6.7"
  }
 },
 "nbformat": 4,
 "nbformat_minor": 2
}
