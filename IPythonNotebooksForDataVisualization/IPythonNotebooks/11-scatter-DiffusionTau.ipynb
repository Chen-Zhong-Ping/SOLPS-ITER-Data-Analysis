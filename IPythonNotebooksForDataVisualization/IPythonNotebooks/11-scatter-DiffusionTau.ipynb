{
 "cells": [
  {
   "cell_type": "code",
   "execution_count": 1,
   "metadata": {},
   "outputs": [],
   "source": [
    "from packages.data_classes.data2D import Data2D\n",
    "from packages.data_classes.mesh import Mesh\n",
    "from packages.plot_classes.tangram import Tangram"
   ]
  },
  {
   "cell_type": "code",
   "execution_count": 2,
   "metadata": {},
   "outputs": [],
   "source": [
    "import numpy"
   ]
  },
  {
   "cell_type": "code",
   "execution_count": 3,
   "metadata": {},
   "outputs": [],
   "source": [
    "SD0203_mesh = Mesh('./Data/Geometry/SD/S20190203@25-6-66_24-6.v001.sno')\n",
    "FS0308_mesh = Mesh('./Data/Geometry/FS/S20190308@25-10-50_25-6.v001.sno')\n",
    "XD0130_mesh = Mesh('./Data/Geometry/XD/X20190130@31-12-68_26-6.v001.sno')"
   ]
  },
  {
   "cell_type": "markdown",
   "metadata": {},
   "source": [
    "be careful! data2D reads in IyIx order but quadmesh has to drawn in IxIy order to take care of the cuts!"
   ]
  },
  {
   "cell_type": "code",
   "execution_count": 4,
   "metadata": {},
   "outputs": [],
   "source": [
    "# cell z-coordinate (in meters)\n",
    "\n",
    "SD_cz = Data2D(SD0203_mesh, './Data/SDP6/2D_data/geometry/cz_2D')\n",
    "\n",
    "FS_cz = Data2D(FS0308_mesh, './Data/FSP6/2D_data/geometry/cz_2D')\n",
    "\n",
    "XD_cz = Data2D(XD0130_mesh, './Data/XDP6/2D_data/geometry/cz_2D')"
   ]
  },
  {
   "cell_type": "code",
   "execution_count": 5,
   "metadata": {},
   "outputs": [],
   "source": [
    "# electron temperature\n",
    "SD_te = Data2D(SD0203_mesh, './Data/SDP6/2D_data/temperature/T_electron/te_2D')\n",
    "\n",
    "FS_te = Data2D(FS0308_mesh, './Data/FSP6/2D_data/temperature/T_electron/te_2D')\n",
    "\n",
    "XD_te = Data2D(XD0130_mesh, './Data/XDP6/2D_data/temperature/T_electron/te_2D')"
   ]
  },
  {
   "cell_type": "code",
   "execution_count": 6,
   "metadata": {},
   "outputs": [],
   "source": [
    "# electron density\n",
    "SD_ne = Data2D(SD0203_mesh, './Data/SDP6/2D_data/density/n_electron/ne_2D')\n",
    "\n",
    "FS_ne = Data2D(FS0308_mesh, './Data/FSP6/2D_data/density/n_electron/ne_2D')\n",
    "\n",
    "XD_ne = Data2D(XD0130_mesh, './Data/XDP6/2D_data/density/n_electron/ne_2D')"
   ]
  },
  {
   "cell_type": "markdown",
   "metadata": {},
   "source": [
    "calculate dz from target"
   ]
  },
  {
   "cell_type": "code",
   "execution_count": 5,
   "metadata": {},
   "outputs": [
    {
     "name": "stdout",
     "output_type": "stream",
     "text": [
      "-1.36300069095\n",
      "-1.36300069095\n",
      "-1.36300075055\n"
     ]
    }
   ],
   "source": [
    "print(SD_cz.IyIx.min())\n",
    "print(FS_cz.IyIx.min())\n",
    "print(XD_cz.IyIx.min())"
   ]
  },
  {
   "cell_type": "code",
   "execution_count": 7,
   "metadata": {},
   "outputs": [],
   "source": [
    "# dz from target\n",
    "\n",
    "SD_dz = SD_cz.IyIx - SD_cz.IyIx.min()\n",
    "\n",
    "FS_dz = FS_cz.IyIx - FS_cz.IyIx.min()\n",
    "\n",
    "XD_dz = XD_cz.IyIx - XD_cz.IyIx.min()"
   ]
  },
  {
   "cell_type": "markdown",
   "metadata": {},
   "source": [
    "calculate tau due to perpendicular diffusion"
   ]
  },
  {
   "cell_type": "code",
   "execution_count": 8,
   "metadata": {},
   "outputs": [],
   "source": [
    "SD_tauDiffusion = SD_dz * SD_dz / 0.15\n",
    "\n",
    "FS_tauDiffusion = FS_dz * FS_dz / 0.15\n",
    "\n",
    "XD_tauDiffusion = XD_dz * XD_dz / 0.15"
   ]
  },
  {
   "cell_type": "markdown",
   "metadata": {},
   "source": [
    "calculate n\\*tau"
   ]
  },
  {
   "cell_type": "code",
   "execution_count": 9,
   "metadata": {},
   "outputs": [],
   "source": [
    "SD_neTauDiffusion = SD_tauDiffusion * SD_ne.IyIx\n",
    "\n",
    "FS_neTauDiffusion = FS_tauDiffusion * FS_ne.IyIx\n",
    "\n",
    "XD_neTauDiffusion = XD_tauDiffusion * XD_ne.IyIx"
   ]
  },
  {
   "cell_type": "markdown",
   "metadata": {},
   "source": [
    "take out the outer divertor part and transpose"
   ]
  },
  {
   "cell_type": "code",
   "execution_count": 10,
   "metadata": {},
   "outputs": [],
   "source": [
    "# ntau\n",
    "\n",
    "SD_neTauDiffusion_outerdiv = numpy.transpose(SD_neTauDiffusion[:, SD0203_mesh.ixcut[1]:])\n",
    "\n",
    "FS_neTauDiffusion_outerdiv = numpy.transpose(FS_neTauDiffusion[:, FS0308_mesh.ixcut[1]:])\n",
    "\n",
    "XD_neTauDiffusion_outerdiv = numpy.transpose(XD_neTauDiffusion[:, XD0130_mesh.ixcut[1]:])"
   ]
  },
  {
   "cell_type": "code",
   "execution_count": 8,
   "metadata": {},
   "outputs": [],
   "source": [
    "\n",
    "#SD_tauDiffusion_outerdiv = numpy.transpose(SD_tauDiffusion[:, SD0203_mesh.ixcut[1]:])\n",
    "\n",
    "#FS_tauDiffusion_outerdiv = numpy.transpose(FS_tauDiffusion[:, FS0308_mesh.ixcut[1]:])\n",
    "\n",
    "#XD_tauDiffusion_outerdiv = numpy.transpose(XD_tauDiffusion[:, XD0130_mesh.ixcut[1]:])"
   ]
  },
  {
   "cell_type": "code",
   "execution_count": 11,
   "metadata": {},
   "outputs": [],
   "source": [
    "# te outer divertor\n",
    "SD_te_outerdiv = numpy.transpose(SD_te.IyIx[:, SD0203_mesh.ixcut[1]:])\n",
    "\n",
    "FS_te_outerdiv = numpy.transpose(FS_te.IyIx[:, FS0308_mesh.ixcut[1]:])\n",
    "\n",
    "XD_te_outerdiv = numpy.transpose(XD_te.IyIx[:, XD0130_mesh.ixcut[1]:])"
   ]
  },
  {
   "cell_type": "code",
   "execution_count": null,
   "metadata": {},
   "outputs": [],
   "source": []
  },
  {
   "cell_type": "code",
   "execution_count": null,
   "metadata": {},
   "outputs": [],
   "source": []
  },
  {
   "cell_type": "code",
   "execution_count": null,
   "metadata": {},
   "outputs": [],
   "source": []
  },
  {
   "cell_type": "markdown",
   "metadata": {},
   "source": []
  },
  {
   "cell_type": "markdown",
   "metadata": {},
   "source": [
    "# start attempting plots"
   ]
  },
  {
   "cell_type": "markdown",
   "metadata": {},
   "source": [
    "## prepare figure and its axes"
   ]
  },
  {
   "cell_type": "code",
   "execution_count": 12,
   "metadata": {},
   "outputs": [],
   "source": [
    "import matplotlib.pyplot as plt"
   ]
  },
  {
   "cell_type": "markdown",
   "metadata": {},
   "source": [
    "### do scatter plots"
   ]
  },
  {
   "cell_type": "markdown",
   "metadata": {},
   "source": [
    "the data along flux tubes within lambda_q radially out from the separatrix"
   ]
  },
  {
   "cell_type": "code",
   "execution_count": 13,
   "metadata": {},
   "outputs": [],
   "source": [
    "%%capture\n",
    "\n",
    "fig_1, ax_1 = plt.subplots()"
   ]
  },
  {
   "cell_type": "code",
   "execution_count": 73,
   "metadata": {},
   "outputs": [],
   "source": [
    "%%capture\n",
    "\n",
    "ax_1.scatter(SD_te_outerdiv[:, SD0203_mesh.iycut : 22], SD_neTauDiffusion_outerdiv[:, SD0203_mesh.iycut : 22], c = \"w\", marker = \"s\", edgecolors = \"r\")\n",
    "ax_1.scatter(FS_te_outerdiv[:, FS0308_mesh.iycut : 20], FS_neTauDiffusion_outerdiv[:, FS0308_mesh.iycut : 20], c = \"w\", marker = \"^\", edgecolors = \"m\")\n",
    "ax_1.scatter(XD_te_outerdiv[:, XD0130_mesh.iycut : 22], XD_neTauDiffusion_outerdiv[:, XD0130_mesh.iycut : 22], c = \"w\", marker = \".\", edgecolors = \"b\")"
   ]
  },
  {
   "cell_type": "markdown",
   "metadata": {},
   "source": [
    "add legend using scatter plot trick"
   ]
  },
  {
   "cell_type": "code",
   "execution_count": 74,
   "metadata": {},
   "outputs": [],
   "source": [
    "%%capture\n",
    "\n",
    "ax_1_legend_marker_SD = ax_1.scatter([40], [3e15], c = \"w\", marker = \"s\", edgecolors = \"r\")\n",
    "ax_1_legend_marker_FS = ax_1.scatter([40], [1e15], c = \"w\", marker = \"^\", edgecolors = \"m\")\n",
    "ax_1_legend_marker_XD = ax_1.scatter([40], [3e14], c = \"w\", marker = \".\", edgecolors = \"b\")"
   ]
  },
  {
   "cell_type": "markdown",
   "metadata": {},
   "source": [
    "add legend text"
   ]
  },
  {
   "cell_type": "code",
   "execution_count": 75,
   "metadata": {},
   "outputs": [],
   "source": [
    "ax_1_legend_text_SD = ax_1.text(42, 2.5e15, \"SD10\")\n",
    "ax_1_legend_text_FS = ax_1.text(42, 8e14, \"SD20\")\n",
    "ax_1_legend_text_XD = ax_1.text(42, 2.5e14, \"XD\")"
   ]
  },
  {
   "cell_type": "code",
   "execution_count": 76,
   "metadata": {},
   "outputs": [],
   "source": [
    "ax_1_legend_text_SD.set_position((42, 2.4e15))\n",
    "ax_1_legend_text_FS.set_position((42, 7.7e14))\n",
    "ax_1_legend_text_XD.set_position((42, 2.3e14))"
   ]
  },
  {
   "cell_type": "markdown",
   "metadata": {},
   "source": [
    "set the axes label"
   ]
  },
  {
   "cell_type": "code",
   "execution_count": 77,
   "metadata": {},
   "outputs": [],
   "source": [
    "%%capture\n",
    "ax_1.set_xlabel(\"Te (eV)\")\n",
    "ax_1.set_ylabel(r\"$n_{e}\\tau$ for carbon perpendicular diffusion ($m^{-3}$s)\")"
   ]
  },
  {
   "cell_type": "markdown",
   "metadata": {},
   "source": [
    "add explanation text"
   ]
  },
  {
   "cell_type": "code",
   "execution_count": 78,
   "metadata": {},
   "outputs": [],
   "source": [
    "ax_1_explain_text = ax_1.text(15, 2e13, \"data along flux tubes within $\\lambda_{q}$ at OMP\")\n",
    "ax_1_explain_text.set_fontsize(12)"
   ]
  },
  {
   "cell_type": "code",
   "execution_count": 54,
   "metadata": {},
   "outputs": [],
   "source": [
    "ax_1_explain_text.set_position((16, 2e13))"
   ]
  },
  {
   "cell_type": "code",
   "execution_count": 79,
   "metadata": {},
   "outputs": [],
   "source": [
    "ax_1.set_yscale(\"log\")"
   ]
  },
  {
   "cell_type": "code",
   "execution_count": 80,
   "metadata": {},
   "outputs": [],
   "source": [
    "ax_1.set_xbound(0, 50)\n",
    "ax_1.set_ybound(1e13, 5e19)"
   ]
  },
  {
   "cell_type": "code",
   "execution_count": 81,
   "metadata": {},
   "outputs": [],
   "source": [
    "ax_1.set_position([0.1, 0.1, 0.9, 0.9])"
   ]
  },
  {
   "cell_type": "code",
   "execution_count": 82,
   "metadata": {},
   "outputs": [
    {
     "data": {
      "image/png": "[encoded data removed]",
      "text/plain": [
       "<Figure size 432x288 with 1 Axes>"
      ]
     },
     "execution_count": 82,
     "metadata": {},
     "output_type": "execute_result"
    }
   ],
   "source": [
    "fig_1"
   ]
  },
  {
   "cell_type": "code",
   "execution_count": null,
   "metadata": {},
   "outputs": [],
   "source": []
  },
  {
   "cell_type": "code",
   "execution_count": 83,
   "metadata": {},
   "outputs": [],
   "source": [
    "fig_1.savefig('neTauCarbonDiffusionP6-lq_Scatter.svg', format='svg', bbox_inches='tight')"
   ]
  },
  {
   "cell_type": "code",
   "execution_count": null,
   "metadata": {},
   "outputs": [],
   "source": []
  },
  {
   "cell_type": "code",
   "execution_count": null,
   "metadata": {},
   "outputs": [],
   "source": []
  },
  {
   "cell_type": "markdown",
   "metadata": {},
   "source": [
    "the data along flux tubes within 1 ~ 2mm radially out from the separatrix"
   ]
  },
  {
   "cell_type": "code",
   "execution_count": 57,
   "metadata": {},
   "outputs": [],
   "source": [
    "%%capture\n",
    "\n",
    "fig_2, ax_2 = plt.subplots()"
   ]
  },
  {
   "cell_type": "code",
   "execution_count": 60,
   "metadata": {},
   "outputs": [],
   "source": [
    "%%capture\n",
    "\n",
    "ax_2.scatter(SD_te_outerdiv[:, 19 : 22], SD_IonSourceDensityC_outerdiv[:, 19 : 22], c = \"w\", marker = \"s\", edgecolors = \"r\")\n",
    "ax_2.scatter(FS_te_outerdiv[:, 17 : 20], FS_IonSourceDensityC_outerdiv[:, 17 : 20], c = \"w\", marker = \"^\", edgecolors = \"m\")\n",
    "ax_2.scatter(XD_te_outerdiv[:, 21 : 24], XD_IonSourceDensityC_outerdiv[:, 21 : 24], c = \"w\", marker = \".\", edgecolors = \"b\")"
   ]
  },
  {
   "cell_type": "markdown",
   "metadata": {},
   "source": [
    "add legend using scatter plot trick"
   ]
  },
  {
   "cell_type": "code",
   "execution_count": 68,
   "metadata": {},
   "outputs": [],
   "source": [
    "%%capture\n",
    "\n",
    "ax_2_legend_marker_SD = ax_2.scatter([35.5], [1e24], c = \"w\", marker = \"s\", edgecolors = \"r\")\n",
    "ax_2_legend_marker_FS = ax_2.scatter([35.5], [1e23], c = \"w\", marker = \"^\", edgecolors = \"m\")\n",
    "ax_2_legend_marker_XD = ax_2.scatter([35.5], [1e22], c = \"w\", marker = \".\", edgecolors = \"b\")"
   ]
  },
  {
   "cell_type": "markdown",
   "metadata": {},
   "source": [
    "add legend text"
   ]
  },
  {
   "cell_type": "code",
   "execution_count": 69,
   "metadata": {},
   "outputs": [],
   "source": [
    "ax_2_legend_text_SD = ax_2.text(36.1, 6e23, \"SD10\")\n",
    "ax_2_legend_text_FS = ax_2.text(36.1, 6e22, \"SD20\")\n",
    "ax_2_legend_text_XD = ax_2.text(36.1, 6e21, \"XD\")"
   ]
  },
  {
   "cell_type": "code",
   "execution_count": 47,
   "metadata": {},
   "outputs": [],
   "source": [
    "ax_2_legend_text_SD.set_position((36.1, 6e23))\n",
    "ax_2_legend_text_FS.set_position((36.1, 6e22))\n",
    "ax_2_legend_text_XD.set_position((36.1, 6e21))"
   ]
  },
  {
   "cell_type": "markdown",
   "metadata": {},
   "source": [
    "set the axes label"
   ]
  },
  {
   "cell_type": "code",
   "execution_count": 70,
   "metadata": {},
   "outputs": [],
   "source": [
    "%%capture\n",
    "ax_2.set_xlabel(\"Te (eV)\")\n",
    "ax_2.set_ylabel(\"carbon ionization source density ($m^{-3}$$s^{-1}$)\")"
   ]
  },
  {
   "cell_type": "markdown",
   "metadata": {},
   "source": [
    "add explanation text"
   ]
  },
  {
   "cell_type": "code",
   "execution_count": 71,
   "metadata": {},
   "outputs": [],
   "source": [
    "ax_2_explain_text = ax_2.text(16, 8e15, \"1mm < R - $R_{sep}$ < 2mm at OMP\")\n",
    "ax_2_explain_text.set_fontsize(12)"
   ]
  },
  {
   "cell_type": "code",
   "execution_count": 54,
   "metadata": {},
   "outputs": [],
   "source": [
    "ax_2_explain_text.set_position((12.5, 6e23))"
   ]
  },
  {
   "cell_type": "code",
   "execution_count": 61,
   "metadata": {},
   "outputs": [],
   "source": [
    "ax_2.set_yscale(\"log\")"
   ]
  },
  {
   "cell_type": "code",
   "execution_count": 72,
   "metadata": {},
   "outputs": [],
   "source": [
    "ax_2.set_xbound(5, 40)\n",
    "ax_2.set_ybound(1e15, 1e25)"
   ]
  },
  {
   "cell_type": "code",
   "execution_count": 74,
   "metadata": {},
   "outputs": [],
   "source": [
    "ax_2.set_position([0.1, 0.1, 0.9, 0.9])"
   ]
  },
  {
   "cell_type": "code",
   "execution_count": 75,
   "metadata": {},
   "outputs": [
    {
     "data": {
      "image/png": "[encoded data removed]",
      "text/plain": [
       "<Figure size 432x288 with 1 Axes>"
      ]
     },
     "execution_count": 75,
     "metadata": {},
     "output_type": "execute_result"
    }
   ],
   "source": [
    "fig_2"
   ]
  },
  {
   "cell_type": "code",
   "execution_count": null,
   "metadata": {},
   "outputs": [],
   "source": []
  },
  {
   "cell_type": "code",
   "execution_count": 76,
   "metadata": {},
   "outputs": [],
   "source": [
    "fig_2.savefig('CIonizationSourceDensityP6-2mm_Scatter.svg', format='svg', bbox_inches='tight')"
   ]
  },
  {
   "cell_type": "code",
   "execution_count": null,
   "metadata": {},
   "outputs": [],
   "source": []
  }
 ],
 "metadata": {
  "kernelspec": {
   "display_name": "Python 3",
   "language": "python",
   "name": "python3"
  },
  "language_info": {
   "codemirror_mode": {
    "name": "ipython",
    "version": 3
   },
   "file_extension": ".py",
   "mimetype": "text/x-python",
   "name": "python",
   "nbconvert_exporter": "python",
   "pygments_lexer": "ipython3",
   "version": "3.6.7"
  }
 },
 "nbformat": 4,
 "nbformat_minor": 2
}
