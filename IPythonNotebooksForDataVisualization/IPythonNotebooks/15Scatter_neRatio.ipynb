{
 "cells": [
  {
   "cell_type": "code",
   "execution_count": 1,
   "metadata": {},
   "outputs": [],
   "source": [
    "from packages.data_classes.data2D import Data2D\n",
    "from packages.data_classes.mesh import Mesh\n",
    "from packages.plot_classes.tangram import Tangram"
   ]
  },
  {
   "cell_type": "code",
   "execution_count": 2,
   "metadata": {},
   "outputs": [],
   "source": [
    "import numpy"
   ]
  },
  {
   "cell_type": "code",
   "execution_count": 3,
   "metadata": {},
   "outputs": [],
   "source": [
    "SD0203_mesh = Mesh('./Data/Geometry/SD/S20190203@25-6-66_24-6.v001.sno')\n",
    "FS0308_mesh = Mesh('./Data/Geometry/FS/S20190308@25-10-50_25-6.v001.sno')\n",
    "XD0130_mesh = Mesh('./Data/Geometry/XD/X20190130@31-12-68_26-6.v001.sno')"
   ]
  },
  {
   "cell_type": "markdown",
   "metadata": {},
   "source": [
    "be careful! data2D reads in IyIx order but quadmesh has to drawn in IxIy order to take care of the cuts!"
   ]
  },
  {
   "cell_type": "code",
   "execution_count": 4,
   "metadata": {},
   "outputs": [],
   "source": [
    "# deuterium neutral density\n",
    "SD_nNeutD = Data2D(SD0203_mesh, './Data/SDP6/2D_data/density/n_neutral/dab2-0_2D')\n",
    "\n",
    "FS_nNeutD = Data2D(FS0308_mesh, './Data/FSP6/2D_data/density/n_neutral/dab2-0_2D')\n",
    "\n",
    "XD_nNeutD = Data2D(XD0130_mesh, './Data/XDP6/2D_data/density/n_neutral/dab2-0_2D')"
   ]
  },
  {
   "cell_type": "code",
   "execution_count": 5,
   "metadata": {},
   "outputs": [],
   "source": [
    "# electron density\n",
    "SD_ne = Data2D(SD0203_mesh, './Data/SDP6/2D_data/density/n_electron/ne_2D')\n",
    "\n",
    "FS_ne = Data2D(FS0308_mesh, './Data/FSP6/2D_data/density/n_electron/ne_2D')\n",
    "\n",
    "XD_ne = Data2D(XD0130_mesh, './Data/XDP6/2D_data/density/n_electron/ne_2D')"
   ]
  },
  {
   "cell_type": "code",
   "execution_count": 6,
   "metadata": {},
   "outputs": [],
   "source": [
    "# electron temperature\n",
    "SD_te = Data2D(SD0203_mesh, './Data/SDP6/2D_data/temperature/T_electron/te_2D')\n",
    "\n",
    "FS_te = Data2D(FS0308_mesh, './Data/FSP6/2D_data/temperature/T_electron/te_2D')\n",
    "\n",
    "XD_te = Data2D(XD0130_mesh, './Data/XDP6/2D_data/temperature/T_electron/te_2D')"
   ]
  },
  {
   "cell_type": "markdown",
   "metadata": {},
   "source": [
    "some preparation calculation"
   ]
  },
  {
   "cell_type": "markdown",
   "metadata": {},
   "source": [
    "calculate ratio"
   ]
  },
  {
   "cell_type": "code",
   "execution_count": 8,
   "metadata": {},
   "outputs": [],
   "source": [
    "SD_D2eRatio = SD_nNeutD.IyIx / SD_ne.IyIx\n",
    "\n",
    "FS_D2eRatio = FS_nNeutD.IyIx / FS_ne.IyIx\n",
    "\n",
    "XD_D2eRatio = XD_nNeutD.IyIx / XD_ne.IyIx"
   ]
  },
  {
   "cell_type": "markdown",
   "metadata": {},
   "source": [
    "take out the outer divertor part"
   ]
  },
  {
   "cell_type": "code",
   "execution_count": 9,
   "metadata": {},
   "outputs": [],
   "source": [
    "SD_D2eRatio_outerdiv = numpy.transpose(SD_D2eRatio[:, SD0203_mesh.ixcut[1]:])\n",
    "\n",
    "FS_D2eRatio_outerdiv = numpy.transpose(FS_D2eRatio[:, FS0308_mesh.ixcut[1]:])\n",
    "\n",
    "XD_D2eRatio_outerdiv = numpy.transpose(XD_D2eRatio[:, XD0130_mesh.ixcut[1]:])"
   ]
  },
  {
   "cell_type": "code",
   "execution_count": 10,
   "metadata": {},
   "outputs": [],
   "source": [
    "# te\n",
    "SD_te_outerdiv = numpy.transpose(SD_te.IyIx[:, SD0203_mesh.ixcut[1]:])\n",
    "\n",
    "FS_te_outerdiv = numpy.transpose(FS_te.IyIx[:, FS0308_mesh.ixcut[1]:])\n",
    "\n",
    "XD_te_outerdiv = numpy.transpose(XD_te.IyIx[:, XD0130_mesh.ixcut[1]:])"
   ]
  },
  {
   "cell_type": "markdown",
   "metadata": {},
   "source": [
    "take a look at the data range"
   ]
  },
  {
   "cell_type": "code",
   "execution_count": null,
   "metadata": {},
   "outputs": [],
   "source": []
  },
  {
   "cell_type": "markdown",
   "metadata": {},
   "source": [
    "# start attempting plots"
   ]
  },
  {
   "cell_type": "markdown",
   "metadata": {},
   "source": [
    "## prepare figure and its axes"
   ]
  },
  {
   "cell_type": "code",
   "execution_count": 11,
   "metadata": {},
   "outputs": [],
   "source": [
    "import matplotlib.pyplot as plt"
   ]
  },
  {
   "cell_type": "markdown",
   "metadata": {},
   "source": [
    "## do scatter plots"
   ]
  },
  {
   "cell_type": "code",
   "execution_count": null,
   "metadata": {},
   "outputs": [],
   "source": []
  },
  {
   "cell_type": "markdown",
   "metadata": {},
   "source": [
    "### D neutral to e density ratio"
   ]
  },
  {
   "cell_type": "markdown",
   "metadata": {},
   "source": [
    "look at Te < 40 eV range"
   ]
  },
  {
   "cell_type": "code",
   "execution_count": 12,
   "metadata": {},
   "outputs": [],
   "source": [
    "%%capture\n",
    "\n",
    "fig_1, ax_1 = plt.subplots()"
   ]
  },
  {
   "cell_type": "markdown",
   "metadata": {},
   "source": [
    "the data along flux tubes within 1 lambda q radially out from the separatrix"
   ]
  },
  {
   "cell_type": "code",
   "execution_count": 40,
   "metadata": {},
   "outputs": [],
   "source": [
    "%%capture\n",
    "\n",
    "ax_1.scatter(SD_te_outerdiv[:, SD0203_mesh.iycut : 22], SD_D2eRatio_outerdiv[:, SD0203_mesh.iycut : 22], c = \"w\", marker = \"s\", edgecolors = \"r\")\n",
    "ax_1.scatter(FS_te_outerdiv[:, FS0308_mesh.iycut : 20], FS_D2eRatio_outerdiv[:, FS0308_mesh.iycut : 20], c = \"w\", marker = \"^\", edgecolors = \"m\")\n",
    "ax_1.scatter(XD_te_outerdiv[:, XD0130_mesh.iycut : 24], XD_D2eRatio_outerdiv[:, XD0130_mesh.iycut : 24], c = \"w\", marker = \".\", edgecolors = \"b\")"
   ]
  },
  {
   "cell_type": "markdown",
   "metadata": {},
   "source": [
    "add legend using scatter plot trick"
   ]
  },
  {
   "cell_type": "code",
   "execution_count": 61,
   "metadata": {},
   "outputs": [],
   "source": [
    "%%capture\n",
    "\n",
    "ax_1_legend_marker_SD = ax_1.scatter([39], [5e-3], c = \"w\", marker = \"s\", edgecolors = \"r\")\n",
    "ax_1_legend_marker_FS = ax_1.scatter([39], [3.6e-3], c = \"w\", marker = \"^\", edgecolors = \"m\")\n",
    "ax_1_legend_marker_XD = ax_1.scatter([39], [2.5e-3], c = \"w\", marker = \".\", edgecolors = \"b\")"
   ]
  },
  {
   "cell_type": "code",
   "execution_count": 60,
   "metadata": {},
   "outputs": [],
   "source": [
    "ax_1_legend_marker_SD.remove()\n",
    "ax_1_legend_marker_FS.remove()\n",
    "ax_1_legend_marker_XD.remove()"
   ]
  },
  {
   "cell_type": "markdown",
   "metadata": {},
   "source": [
    "add legend text"
   ]
  },
  {
   "cell_type": "code",
   "execution_count": 64,
   "metadata": {},
   "outputs": [],
   "source": [
    "ax_1_legend_text_SD = ax_1.text(40, 4.6e-3, \"SD10\")\n",
    "ax_1_legend_text_FS = ax_1.text(40, 3.3e-3, \"SD20\")\n",
    "ax_1_legend_text_XD = ax_1.text(40, 2.3e-3, \"XD\")"
   ]
  },
  {
   "cell_type": "markdown",
   "metadata": {},
   "source": [
    "set the axes label"
   ]
  },
  {
   "cell_type": "code",
   "execution_count": 66,
   "metadata": {},
   "outputs": [],
   "source": [
    "%%capture\n",
    "ax_1.set_xlabel(\"Te (eV)\")\n",
    "ax_1.set_ylabel(\"neutral deuterium / electron density ratio\")"
   ]
  },
  {
   "cell_type": "markdown",
   "metadata": {},
   "source": [
    "add some explanation text"
   ]
  },
  {
   "cell_type": "code",
   "execution_count": 44,
   "metadata": {},
   "outputs": [],
   "source": [
    "ax_1_explain_text = ax_1.text(20, 5e-3, \"data along flux tubes within $\\lambda_{q}$ at OMP\")\n",
    "ax_1_explain_text.set_fontsize(12)"
   ]
  },
  {
   "cell_type": "code",
   "execution_count": 49,
   "metadata": {},
   "outputs": [],
   "source": [
    "ax_1_explain_text.set_position([20, 7e-3])"
   ]
  },
  {
   "cell_type": "code",
   "execution_count": 41,
   "metadata": {},
   "outputs": [],
   "source": [
    "ax_1.set_yscale(\"log\")"
   ]
  },
  {
   "cell_type": "code",
   "execution_count": 62,
   "metadata": {},
   "outputs": [],
   "source": [
    "ax_1.set_xbound(5, 45)\n",
    "ax_1.set_ybound(1e-4, 1e-2)"
   ]
  },
  {
   "cell_type": "code",
   "execution_count": 36,
   "metadata": {},
   "outputs": [],
   "source": [
    "ax_1.invert_yaxis()"
   ]
  },
  {
   "cell_type": "code",
   "execution_count": 67,
   "metadata": {},
   "outputs": [],
   "source": [
    "ax_1.set_position([0.1, 0.1, 0.9, 0.9])"
   ]
  },
  {
   "cell_type": "code",
   "execution_count": 68,
   "metadata": {},
   "outputs": [
    {
     "data": {
      "image/png": "[encoded data removed]",
      "text/plain": [
       "<Figure size 432x288 with 1 Axes>"
      ]
     },
     "execution_count": 68,
     "metadata": {},
     "output_type": "execute_result"
    }
   ],
   "source": [
    "fig_1"
   ]
  },
  {
   "cell_type": "code",
   "execution_count": null,
   "metadata": {},
   "outputs": [],
   "source": []
  },
  {
   "cell_type": "code",
   "execution_count": 69,
   "metadata": {},
   "outputs": [],
   "source": [
    "fig_1.savefig('D2eRatioP6-lq_Scatter.svg', format='svg', bbox_inches='tight')"
   ]
  },
  {
   "cell_type": "code",
   "execution_count": null,
   "metadata": {},
   "outputs": [],
   "source": []
  },
  {
   "cell_type": "code",
   "execution_count": 38,
   "metadata": {},
   "outputs": [],
   "source": [
    "ax_1.clear()"
   ]
  },
  {
   "cell_type": "code",
   "execution_count": null,
   "metadata": {},
   "outputs": [],
   "source": []
  },
  {
   "cell_type": "code",
   "execution_count": null,
   "metadata": {},
   "outputs": [],
   "source": []
  },
  {
   "cell_type": "code",
   "execution_count": null,
   "metadata": {},
   "outputs": [],
   "source": []
  }
 ],
 "metadata": {
  "kernelspec": {
   "display_name": "Python 3",
   "language": "python",
   "name": "python3"
  },
  "language_info": {
   "codemirror_mode": {
    "name": "ipython",
    "version": 3
   },
   "file_extension": ".py",
   "mimetype": "text/x-python",
   "name": "python",
   "nbconvert_exporter": "python",
   "pygments_lexer": "ipython3",
   "version": "3.6.7"
  }
 },
 "nbformat": 4,
 "nbformat_minor": 2
}
