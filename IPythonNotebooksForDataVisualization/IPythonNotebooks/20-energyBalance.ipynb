{
 "cells": [
  {
   "cell_type": "code",
   "execution_count": 1,
   "metadata": {},
   "outputs": [],
   "source": [
    "from packages.data_classes.data2D import Data2D\n",
    "from packages.data_classes.mesh import Mesh\n",
    "from packages.plot_classes.tangram import Tangram"
   ]
  },
  {
   "cell_type": "code",
   "execution_count": 2,
   "metadata": {},
   "outputs": [],
   "source": [
    "import numpy"
   ]
  },
  {
   "cell_type": "code",
   "execution_count": 3,
   "metadata": {},
   "outputs": [],
   "source": [
    "SD0203_mesh = Mesh('./Data/Geometry/SD/S20190203@25-6-66_24-6.v001.sno')\n",
    "FS0308_mesh = Mesh('./Data/Geometry/FS/S20190308@25-10-50_25-6.v001.sno')\n",
    "XD0130_mesh = Mesh('./Data/Geometry/XD/X20190130@31-12-68_26-6.v001.sno')"
   ]
  },
  {
   "cell_type": "markdown",
   "metadata": {},
   "source": [
    "be careful! data2D reads in IyIx order but quadmesh has to drawn in IxIy order to take care of the cuts!"
   ]
  },
  {
   "cell_type": "markdown",
   "metadata": {},
   "source": [
    "## \"Heat\" flux"
   ]
  },
  {
   "cell_type": "markdown",
   "metadata": {},
   "source": [
    "### poloical heat flux"
   ]
  },
  {
   "cell_type": "markdown",
   "metadata": {},
   "source": [
    "#### electron poloidal heat flux"
   ]
  },
  {
   "cell_type": "code",
   "execution_count": 4,
   "metadata": {},
   "outputs": [],
   "source": [
    "SD_fhex = Data2D(SD0203_mesh, './Data/SDP6/2D_data/energy_flux/heat_flux/fhex_2D')\n",
    "\n",
    "FS_fhex = Data2D(FS0308_mesh, './Data/FSP6/2D_data/energy_flux/heat_flux/fhex_2D')\n",
    "\n",
    "XD_fhex = Data2D(XD0130_mesh, './Data/XDP6/2D_data/energy_flux/heat_flux/fhex_2D')"
   ]
  },
  {
   "cell_type": "markdown",
   "metadata": {},
   "source": [
    "at the throat"
   ]
  },
  {
   "cell_type": "code",
   "execution_count": 10,
   "metadata": {},
   "outputs": [
    {
     "name": "stdout",
     "output_type": "stream",
     "text": [
      "1.7365278850835681\n",
      "2.4849069670636483\n",
      "1.1261455573072119\n"
     ]
    }
   ],
   "source": [
    "print(numpy.sum(numpy.transpose(SD_fhex.IyIx)[SD0203_mesh.ixcut[1]][SD0203_mesh.iycut : ])/1e6)\n",
    "print(numpy.sum(numpy.transpose(FS_fhex.IyIx)[FS0308_mesh.ixcut[1]][FS0308_mesh.iycut : ])/1e6)\n",
    "print(numpy.sum(numpy.transpose(XD_fhex.IyIx)[XD0130_mesh.ixcut[1]][XD0130_mesh.iycut : ])/1e6)"
   ]
  },
  {
   "cell_type": "markdown",
   "metadata": {},
   "source": [
    "at the target"
   ]
  },
  {
   "cell_type": "code",
   "execution_count": 11,
   "metadata": {},
   "outputs": [
    {
     "name": "stdout",
     "output_type": "stream",
     "text": [
      "0.3665912263686419\n",
      "0.37075185744135064\n",
      "0.5067219148207213\n"
     ]
    }
   ],
   "source": [
    "print(numpy.sum(numpy.transpose(SD_fhex.IyIx)[-1][SD0203_mesh.iycut : ])/1e6)\n",
    "print(numpy.sum(numpy.transpose(FS_fhex.IyIx)[-1][FS0308_mesh.iycut : ])/1e6)\n",
    "print(numpy.sum(numpy.transpose(XD_fhex.IyIx)[-1][XD0130_mesh.iycut : ])/1e6)"
   ]
  },
  {
   "cell_type": "markdown",
   "metadata": {},
   "source": [
    "#### ion poloical heat flux"
   ]
  },
  {
   "cell_type": "code",
   "execution_count": 12,
   "metadata": {},
   "outputs": [],
   "source": [
    "SD_fhix = Data2D(SD0203_mesh, './Data/SDP6/2D_data/energy_flux/heat_flux/fhix_2D')\n",
    "\n",
    "FS_fhix = Data2D(FS0308_mesh, './Data/FSP6/2D_data/energy_flux/heat_flux/fhix_2D')\n",
    "\n",
    "XD_fhix = Data2D(XD0130_mesh, './Data/XDP6/2D_data/energy_flux/heat_flux/fhix_2D')"
   ]
  },
  {
   "cell_type": "markdown",
   "metadata": {},
   "source": [
    "at the throat"
   ]
  },
  {
   "cell_type": "code",
   "execution_count": 13,
   "metadata": {},
   "outputs": [
    {
     "name": "stdout",
     "output_type": "stream",
     "text": [
      "0.22505170689917373\n",
      "0.3050218425340907\n",
      "0.7522998112999396\n"
     ]
    }
   ],
   "source": [
    "print(numpy.sum(numpy.transpose(SD_fhix.IyIx)[SD0203_mesh.ixcut[1]][SD0203_mesh.iycut : ])/1e6)\n",
    "print(numpy.sum(numpy.transpose(FS_fhix.IyIx)[FS0308_mesh.ixcut[1]][FS0308_mesh.iycut : ])/1e6)\n",
    "print(numpy.sum(numpy.transpose(XD_fhix.IyIx)[XD0130_mesh.ixcut[1]][XD0130_mesh.iycut : ])/1e6)"
   ]
  },
  {
   "cell_type": "markdown",
   "metadata": {},
   "source": [
    "at the target"
   ]
  },
  {
   "cell_type": "code",
   "execution_count": 14,
   "metadata": {},
   "outputs": [
    {
     "name": "stdout",
     "output_type": "stream",
     "text": [
      "0.2590688419124485\n",
      "0.34698218105651923\n",
      "0.31033127453865855\n"
     ]
    }
   ],
   "source": [
    "print(numpy.sum(numpy.transpose(SD_fhix.IyIx)[-1][SD0203_mesh.iycut : ])/1e6)\n",
    "print(numpy.sum(numpy.transpose(FS_fhix.IyIx)[-1][FS0308_mesh.iycut : ])/1e6)\n",
    "print(numpy.sum(numpy.transpose(XD_fhix.IyIx)[-1][XD0130_mesh.iycut : ])/1e6)"
   ]
  },
  {
   "cell_type": "markdown",
   "metadata": {},
   "source": [
    "### radial heat flux"
   ]
  },
  {
   "cell_type": "markdown",
   "metadata": {},
   "source": [
    "#### electron radial heat flux"
   ]
  },
  {
   "cell_type": "code",
   "execution_count": 15,
   "metadata": {},
   "outputs": [],
   "source": [
    "SD_fhey = Data2D(SD0203_mesh, './Data/SDP6/2D_data/energy_flux/heat_flux/fhey_2D')\n",
    "\n",
    "FS_fhey = Data2D(FS0308_mesh, './Data/FSP6/2D_data/energy_flux/heat_flux/fhey_2D')\n",
    "\n",
    "XD_fhey = Data2D(XD0130_mesh, './Data/XDP6/2D_data/energy_flux/heat_flux/fhey_2D')"
   ]
  },
  {
   "cell_type": "markdown",
   "metadata": {},
   "source": [
    "at the separatrix"
   ]
  },
  {
   "cell_type": "code",
   "execution_count": 18,
   "metadata": {},
   "outputs": [
    {
     "name": "stdout",
     "output_type": "stream",
     "text": [
      "-0.2075180303814628\n",
      "-0.21122030244451048\n",
      "-0.04819466327000833\n"
     ]
    }
   ],
   "source": [
    "print(numpy.sum(SD_fhey.IyIx[SD0203_mesh.iycut][SD0203_mesh.ixcut[1] : ])/1e6)\n",
    "print(numpy.sum(FS_fhey.IyIx[FS0308_mesh.iycut][FS0308_mesh.ixcut[1] : ])/1e6)\n",
    "print(numpy.sum(XD_fhey.IyIx[XD0130_mesh.iycut][XD0130_mesh.ixcut[1] : ])/1e6)"
   ]
  },
  {
   "cell_type": "markdown",
   "metadata": {},
   "source": [
    "at the north boundary"
   ]
  },
  {
   "cell_type": "code",
   "execution_count": 19,
   "metadata": {},
   "outputs": [
    {
     "name": "stdout",
     "output_type": "stream",
     "text": [
      "0.012994945150453121\n",
      "0.0034141005690550164\n",
      "0.004794047470497643\n"
     ]
    }
   ],
   "source": [
    "print(numpy.sum(SD_fhey.IyIx[-1][SD0203_mesh.ixcut[1] : ])/1e6)\n",
    "print(numpy.sum(FS_fhey.IyIx[-1][FS0308_mesh.ixcut[1] : ])/1e6)\n",
    "print(numpy.sum(XD_fhey.IyIx[-1][XD0130_mesh.ixcut[1] : ])/1e6)"
   ]
  },
  {
   "cell_type": "markdown",
   "metadata": {},
   "source": [
    "#### ion radial heat flux"
   ]
  },
  {
   "cell_type": "code",
   "execution_count": 21,
   "metadata": {},
   "outputs": [],
   "source": [
    "SD_fhiy = Data2D(SD0203_mesh, './Data/SDP6/2D_data/energy_flux/heat_flux/fhiy_2D')\n",
    "\n",
    "FS_fhiy = Data2D(FS0308_mesh, './Data/FSP6/2D_data/energy_flux/heat_flux/fhiy_2D')\n",
    "\n",
    "XD_fhiy = Data2D(XD0130_mesh, './Data/XDP6/2D_data/energy_flux/heat_flux/fhiy_2D')"
   ]
  },
  {
   "cell_type": "markdown",
   "metadata": {},
   "source": [
    "at the separatrix"
   ]
  },
  {
   "cell_type": "code",
   "execution_count": 22,
   "metadata": {},
   "outputs": [
    {
     "name": "stdout",
     "output_type": "stream",
     "text": [
      "-0.1494458683842761\n",
      "-0.162582426830065\n",
      "-0.057526486117975215\n"
     ]
    }
   ],
   "source": [
    "print(numpy.sum(SD_fhiy.IyIx[SD0203_mesh.iycut][SD0203_mesh.ixcut[1] : ])/1e6)\n",
    "print(numpy.sum(FS_fhiy.IyIx[FS0308_mesh.iycut][FS0308_mesh.ixcut[1] : ])/1e6)\n",
    "print(numpy.sum(XD_fhiy.IyIx[XD0130_mesh.iycut][XD0130_mesh.ixcut[1] : ])/1e6)"
   ]
  },
  {
   "cell_type": "markdown",
   "metadata": {},
   "source": [
    "at the north boundary"
   ]
  },
  {
   "cell_type": "code",
   "execution_count": 23,
   "metadata": {},
   "outputs": [
    {
     "name": "stdout",
     "output_type": "stream",
     "text": [
      "0.016495658794470524\n",
      "0.004367768267642717\n",
      "0.010363986626728309\n"
     ]
    }
   ],
   "source": [
    "print(numpy.sum(SD_fhiy.IyIx[-1][SD0203_mesh.ixcut[1] : ])/1e6)\n",
    "print(numpy.sum(FS_fhiy.IyIx[-1][FS0308_mesh.ixcut[1] : ])/1e6)\n",
    "print(numpy.sum(XD_fhiy.IyIx[-1][XD0130_mesh.ixcut[1] : ])/1e6)"
   ]
  },
  {
   "cell_type": "code",
   "execution_count": null,
   "metadata": {},
   "outputs": [],
   "source": []
  },
  {
   "cell_type": "markdown",
   "metadata": {},
   "source": [
    "## Parallel Kinetic Energy Flux"
   ]
  },
  {
   "cell_type": "markdown",
   "metadata": {},
   "source": [
    "### poloidal parallel kinetic energy flux"
   ]
  },
  {
   "cell_type": "markdown",
   "metadata": {},
   "source": [
    "#### ion parallel kinetic energy flux"
   ]
  },
  {
   "cell_type": "code",
   "execution_count": 24,
   "metadata": {},
   "outputs": [],
   "source": [
    "SD_fhmx = Data2D(SD0203_mesh, './Data/SDP6/2D_data/energy_flux/parallel_kinetic_energy_flux/fhmx-sumz_2D')\n",
    "\n",
    "FS_fhmx = Data2D(FS0308_mesh, './Data/FSP6/2D_data/energy_flux/parallel_kinetic_energy_flux/fhmx-sumz_2D')\n",
    "\n",
    "XD_fhmx = Data2D(XD0130_mesh, './Data/XDP6/2D_data/energy_flux/parallel_kinetic_energy_flux/fhmx-sumz_2D')"
   ]
  },
  {
   "cell_type": "markdown",
   "metadata": {},
   "source": [
    "at the throat"
   ]
  },
  {
   "cell_type": "code",
   "execution_count": 25,
   "metadata": {},
   "outputs": [
    {
     "name": "stdout",
     "output_type": "stream",
     "text": [
      "0.0013041644330484342\n",
      "0.0036129303531823296\n",
      "0.0006229835888035228\n"
     ]
    }
   ],
   "source": [
    "print(numpy.sum(numpy.transpose(SD_fhmx.IyIx)[SD0203_mesh.ixcut[1]][SD0203_mesh.iycut : ])/1e6)\n",
    "print(numpy.sum(numpy.transpose(FS_fhmx.IyIx)[FS0308_mesh.ixcut[1]][FS0308_mesh.iycut : ])/1e6)\n",
    "print(numpy.sum(numpy.transpose(XD_fhmx.IyIx)[XD0130_mesh.ixcut[1]][XD0130_mesh.iycut : ])/1e6)"
   ]
  },
  {
   "cell_type": "markdown",
   "metadata": {},
   "source": [
    "at the target"
   ]
  },
  {
   "cell_type": "code",
   "execution_count": 26,
   "metadata": {},
   "outputs": [
    {
     "name": "stdout",
     "output_type": "stream",
     "text": [
      "0.08776241253612825\n",
      "0.10704582023992736\n",
      "0.10900717864563798\n"
     ]
    }
   ],
   "source": [
    "print(numpy.sum(numpy.transpose(SD_fhmx.IyIx)[-1][SD0203_mesh.iycut : ])/1e6)\n",
    "print(numpy.sum(numpy.transpose(FS_fhmx.IyIx)[-1][FS0308_mesh.iycut : ])/1e6)\n",
    "print(numpy.sum(numpy.transpose(XD_fhmx.IyIx)[-1][XD0130_mesh.iycut : ])/1e6)"
   ]
  },
  {
   "cell_type": "markdown",
   "metadata": {},
   "source": [
    "### radial parallel kinetic energy  flux"
   ]
  },
  {
   "cell_type": "markdown",
   "metadata": {},
   "source": [
    "#### ion radial parallel kinetic energy  flux"
   ]
  },
  {
   "cell_type": "code",
   "execution_count": 27,
   "metadata": {},
   "outputs": [],
   "source": [
    "SD_fhmy = Data2D(SD0203_mesh, './Data/SDP6/2D_data/energy_flux/parallel_kinetic_energy_flux/fhmy-sumz_2D')\n",
    "\n",
    "FS_fhmy = Data2D(FS0308_mesh, './Data/FSP6/2D_data/energy_flux/parallel_kinetic_energy_flux/fhmy-sumz_2D')\n",
    "\n",
    "XD_fhmy = Data2D(XD0130_mesh, './Data/XDP6/2D_data/energy_flux/parallel_kinetic_energy_flux/fhmy-sumz_2D')"
   ]
  },
  {
   "cell_type": "markdown",
   "metadata": {},
   "source": [
    "at the separatrix"
   ]
  },
  {
   "cell_type": "code",
   "execution_count": 28,
   "metadata": {},
   "outputs": [
    {
     "name": "stdout",
     "output_type": "stream",
     "text": [
      "0.00017492200393621248\n",
      "0.00022519751158714632\n",
      "0.00026465102840544734\n"
     ]
    }
   ],
   "source": [
    "print(numpy.sum(SD_fhmy.IyIx[SD0203_mesh.iycut][SD0203_mesh.ixcut[1] : ])/1e6)\n",
    "print(numpy.sum(FS_fhmy.IyIx[FS0308_mesh.iycut][FS0308_mesh.ixcut[1] : ])/1e6)\n",
    "print(numpy.sum(XD_fhmy.IyIx[XD0130_mesh.iycut][XD0130_mesh.ixcut[1] : ])/1e6)"
   ]
  },
  {
   "cell_type": "markdown",
   "metadata": {},
   "source": [
    "at the north boundary"
   ]
  },
  {
   "cell_type": "code",
   "execution_count": 29,
   "metadata": {},
   "outputs": [
    {
     "name": "stdout",
     "output_type": "stream",
     "text": [
      "0.00036627847064595016\n",
      "0.0001775725716934979\n",
      "4.800065787382866e-05\n"
     ]
    }
   ],
   "source": [
    "print(numpy.sum(SD_fhmy.IyIx[-1][SD0203_mesh.ixcut[1] : ])/1e6)\n",
    "print(numpy.sum(FS_fhmy.IyIx[-1][FS0308_mesh.ixcut[1] : ])/1e6)\n",
    "print(numpy.sum(XD_fhmy.IyIx[-1][XD0130_mesh.ixcut[1] : ])/1e6)"
   ]
  },
  {
   "cell_type": "code",
   "execution_count": null,
   "metadata": {},
   "outputs": [],
   "source": []
  },
  {
   "cell_type": "code",
   "execution_count": null,
   "metadata": {},
   "outputs": [],
   "source": []
  },
  {
   "cell_type": "markdown",
   "metadata": {},
   "source": [
    "## Ionization Potential Energy Flux"
   ]
  },
  {
   "cell_type": "markdown",
   "metadata": {},
   "source": [
    "### poloidal Ionization Potential energy flux"
   ]
  },
  {
   "cell_type": "markdown",
   "metadata": {},
   "source": [
    "#### ion poloidal Ionization Potential energy flux"
   ]
  },
  {
   "cell_type": "code",
   "execution_count": 30,
   "metadata": {},
   "outputs": [],
   "source": [
    "SD_fhpx = Data2D(SD0203_mesh, './Data/SDP6/2D_data/energy_flux/ionization_potential_energy_flux/fhpx-sumz_2D')\n",
    "\n",
    "FS_fhpx = Data2D(FS0308_mesh, './Data/FSP6/2D_data/energy_flux/ionization_potential_energy_flux/fhpx-sumz_2D')\n",
    "\n",
    "XD_fhpx = Data2D(XD0130_mesh, './Data/XDP6/2D_data/energy_flux/ionization_potential_energy_flux/fhpx-sumz_2D')"
   ]
  },
  {
   "cell_type": "markdown",
   "metadata": {},
   "source": [
    "at the throat"
   ]
  },
  {
   "cell_type": "code",
   "execution_count": 31,
   "metadata": {},
   "outputs": [
    {
     "name": "stdout",
     "output_type": "stream",
     "text": [
      "0.0025413246489246794\n",
      "0.01259481520617941\n",
      "0.002832816836097827\n"
     ]
    }
   ],
   "source": [
    "print(numpy.sum(numpy.transpose(SD_fhpx.IyIx)[SD0203_mesh.ixcut[1]][SD0203_mesh.iycut : ])/1e6)\n",
    "print(numpy.sum(numpy.transpose(FS_fhpx.IyIx)[FS0308_mesh.ixcut[1]][FS0308_mesh.iycut : ])/1e6)\n",
    "print(numpy.sum(numpy.transpose(XD_fhpx.IyIx)[XD0130_mesh.ixcut[1]][XD0130_mesh.iycut : ])/1e6)"
   ]
  },
  {
   "cell_type": "markdown",
   "metadata": {},
   "source": [
    "at the target"
   ]
  },
  {
   "cell_type": "code",
   "execution_count": 32,
   "metadata": {},
   "outputs": [
    {
     "name": "stdout",
     "output_type": "stream",
     "text": [
      "0.4548931879092352\n",
      "0.8429402359792744\n",
      "0.23557725707585467\n"
     ]
    }
   ],
   "source": [
    "print(numpy.sum(numpy.transpose(SD_fhpx.IyIx)[-1][SD0203_mesh.iycut : ])/1e6)\n",
    "print(numpy.sum(numpy.transpose(FS_fhpx.IyIx)[-1][FS0308_mesh.iycut : ])/1e6)\n",
    "print(numpy.sum(numpy.transpose(XD_fhpx.IyIx)[-1][XD0130_mesh.iycut : ])/1e6)"
   ]
  },
  {
   "cell_type": "markdown",
   "metadata": {},
   "source": [
    "### radial Ionization Potential energy  flux"
   ]
  },
  {
   "cell_type": "markdown",
   "metadata": {},
   "source": [
    "#### ion radial Ionization Potential energy  flux"
   ]
  },
  {
   "cell_type": "code",
   "execution_count": 33,
   "metadata": {},
   "outputs": [],
   "source": [
    "SD_fhpy = Data2D(SD0203_mesh, './Data/SDP6/2D_data/energy_flux/ionization_potential_energy_flux/fhpy-sumz_2D')\n",
    "\n",
    "FS_fhpy = Data2D(FS0308_mesh, './Data/FSP6/2D_data/energy_flux/ionization_potential_energy_flux/fhpy-sumz_2D')\n",
    "\n",
    "XD_fhpy = Data2D(XD0130_mesh, './Data/XDP6/2D_data/energy_flux/ionization_potential_energy_flux/fhpy-sumz_2D')"
   ]
  },
  {
   "cell_type": "markdown",
   "metadata": {},
   "source": [
    "at the separatrix"
   ]
  },
  {
   "cell_type": "code",
   "execution_count": 34,
   "metadata": {},
   "outputs": [
    {
     "name": "stdout",
     "output_type": "stream",
     "text": [
      "-0.00037365164193359544\n",
      "-0.001893191983998193\n",
      "0.0006832492491033195\n"
     ]
    }
   ],
   "source": [
    "print(numpy.sum(SD_fhpy.IyIx[SD0203_mesh.iycut][SD0203_mesh.ixcut[1] : ])/1e6)\n",
    "print(numpy.sum(FS_fhpy.IyIx[FS0308_mesh.iycut][FS0308_mesh.ixcut[1] : ])/1e6)\n",
    "print(numpy.sum(XD_fhpy.IyIx[XD0130_mesh.iycut][XD0130_mesh.ixcut[1] : ])/1e6)"
   ]
  },
  {
   "cell_type": "markdown",
   "metadata": {},
   "source": [
    "at the north boundary"
   ]
  },
  {
   "cell_type": "code",
   "execution_count": 35,
   "metadata": {},
   "outputs": [
    {
     "name": "stdout",
     "output_type": "stream",
     "text": [
      "0.003745632685289316\n",
      "0.002049083379994672\n",
      "0.001133092085889601\n"
     ]
    }
   ],
   "source": [
    "print(numpy.sum(SD_fhpy.IyIx[-1][SD0203_mesh.ixcut[1] : ])/1e6)\n",
    "print(numpy.sum(FS_fhpy.IyIx[-1][FS0308_mesh.ixcut[1] : ])/1e6)\n",
    "print(numpy.sum(XD_fhpy.IyIx[-1][XD0130_mesh.ixcut[1] : ])/1e6)"
   ]
  },
  {
   "cell_type": "code",
   "execution_count": null,
   "metadata": {},
   "outputs": [],
   "source": []
  }
 ],
 "metadata": {
  "kernelspec": {
   "display_name": "Python 3",
   "language": "python",
   "name": "python3"
  },
  "language_info": {
   "codemirror_mode": {
    "name": "ipython",
    "version": 3
   },
   "file_extension": ".py",
   "mimetype": "text/x-python",
   "name": "python",
   "nbconvert_exporter": "python",
   "pygments_lexer": "ipython3",
   "version": "3.6.7"
  }
 },
 "nbformat": 4,
 "nbformat_minor": 2
}
