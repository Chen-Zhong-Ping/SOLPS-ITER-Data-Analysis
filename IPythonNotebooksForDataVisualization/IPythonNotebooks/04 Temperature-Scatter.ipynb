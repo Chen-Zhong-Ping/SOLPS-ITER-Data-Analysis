{
 "cells": [
  {
   "cell_type": "code",
   "execution_count": 1,
   "metadata": {},
   "outputs": [],
   "source": [
    "from packages.data_classes.data2D import Data2D\n",
    "from packages.data_classes.mesh import Mesh\n",
    "from packages.plot_classes.tangram import Tangram"
   ]
  },
  {
   "cell_type": "code",
   "execution_count": 2,
   "metadata": {},
   "outputs": [],
   "source": [
    "import numpy"
   ]
  },
  {
   "cell_type": "code",
   "execution_count": 3,
   "metadata": {},
   "outputs": [],
   "source": [
    "SD0203_mesh = Mesh('./Data/Geometry/SD/S20190203@25-6-66_24-6.v001.sno')\n",
    "FS0308_mesh = Mesh('./Data/Geometry/FS/S20190308@25-10-50_25-6.v001.sno')\n",
    "XD0130_mesh = Mesh('./Data/Geometry/XD/X20190130@31-12-68_26-6.v001.sno')"
   ]
  },
  {
   "cell_type": "markdown",
   "metadata": {},
   "source": [
    "be careful! data2D reads in IyIx order but quadmesh has to drawn in IxIy order to take care of the cuts!"
   ]
  },
  {
   "cell_type": "code",
   "execution_count": 4,
   "metadata": {},
   "outputs": [],
   "source": [
    "# electron temperature\n",
    "SD_te = Data2D(SD0203_mesh, './Data/SDP6/2D_data/temperature/T_electron/te_2D')\n",
    "\n",
    "FS_te = Data2D(FS0308_mesh, './Data/FSP6/2D_data/temperature/T_electron/te_2D')\n",
    "\n",
    "XD_te = Data2D(XD0130_mesh, './Data/XDP6/2D_data/temperature/T_electron/te_2D')"
   ]
  },
  {
   "cell_type": "code",
   "execution_count": 5,
   "metadata": {},
   "outputs": [],
   "source": [
    "# connection length\n",
    "SD_conn = Data2D(SD0203_mesh, './Data/SDP6/2D_data/geometry/conn_2D')\n",
    "\n",
    "FS_conn = Data2D(FS0308_mesh, './Data/FSP6/2D_data/geometry/conn_2D')\n",
    "\n",
    "XD_conn = Data2D(XD0130_mesh, './Data/XDP6/2D_data/geometry/conn_2D')"
   ]
  },
  {
   "cell_type": "markdown",
   "metadata": {},
   "source": [
    "some preparation calculation"
   ]
  },
  {
   "cell_type": "code",
   "execution_count": 6,
   "metadata": {},
   "outputs": [],
   "source": [
    "# take out the outer divertor part\n",
    "\n",
    "# te\n",
    "SD_te_outerdiv = numpy.transpose(SD_te.IyIx[:, SD0203_mesh.ixcut[1]:])\n",
    "\n",
    "FS_te_outerdiv = numpy.transpose(FS_te.IyIx[:, FS0308_mesh.ixcut[1]:])\n",
    "\n",
    "XD_te_outerdiv = numpy.transpose(XD_te.IyIx[:, XD0130_mesh.ixcut[1]:])\n",
    "\n",
    "# conn\n",
    "\n",
    "SD_conn_outerdiv = numpy.transpose(SD_conn.IyIx[:, SD0203_mesh.ixcut[1]:])\n",
    "\n",
    "FS_conn_outerdiv = numpy.transpose(FS_conn.IyIx[:, FS0308_mesh.ixcut[1]:])\n",
    "\n",
    "XD_conn_outerdiv = numpy.transpose(XD_conn.IyIx[:, XD0130_mesh.ixcut[1]:])"
   ]
  },
  {
   "cell_type": "markdown",
   "metadata": {},
   "source": [
    "compare electron temperature"
   ]
  },
  {
   "cell_type": "markdown",
   "metadata": {},
   "source": [
    "# start attempting plots"
   ]
  },
  {
   "cell_type": "markdown",
   "metadata": {},
   "source": [
    "## do scatter plots"
   ]
  },
  {
   "cell_type": "markdown",
   "metadata": {},
   "source": [
    "## prepare figure and its axes"
   ]
  },
  {
   "cell_type": "code",
   "execution_count": 7,
   "metadata": {},
   "outputs": [],
   "source": [
    "import matplotlib.pyplot as plt"
   ]
  },
  {
   "cell_type": "markdown",
   "metadata": {},
   "source": [
    "te vs connection length"
   ]
  },
  {
   "cell_type": "markdown",
   "metadata": {},
   "source": [
    "the data along flux tubes ~ 0.2mm radially out from the separatrix"
   ]
  },
  {
   "cell_type": "code",
   "execution_count": 9,
   "metadata": {},
   "outputs": [
    {
     "name": "stdout",
     "output_type": "stream",
     "text": [
      "7\n",
      "7\n",
      "7\n"
     ]
    }
   ],
   "source": [
    "print(SD0203_mesh.iycut)\n",
    "print(FS0308_mesh.iycut)\n",
    "print(XD0130_mesh.iycut)"
   ]
  },
  {
   "cell_type": "code",
   "execution_count": 8,
   "metadata": {},
   "outputs": [],
   "source": [
    "%%capture\n",
    "\n",
    "fig_1, ax_1 = plt.subplots()"
   ]
  },
  {
   "cell_type": "code",
   "execution_count": 10,
   "metadata": {},
   "outputs": [],
   "source": [
    "%%capture\n",
    "\n",
    "ax_1.scatter(SD_conn_outerdiv[:, 10 : 12], SD_te_outerdiv[:, 10 : 12], c = \"w\", marker = \"s\", edgecolors = \"r\")\n",
    "ax_1.scatter(FS_conn_outerdiv[:, 10 : 12], FS_te_outerdiv[:, 10 : 12], c = \"w\", marker = \"^\", edgecolors = \"m\")\n",
    "ax_1.scatter(XD_conn_outerdiv[:, 11 : 13], XD_te_outerdiv[:, 11 : 13], c = \"w\", marker = \".\", edgecolors = \"b\")"
   ]
  },
  {
   "cell_type": "markdown",
   "metadata": {},
   "source": [
    "add legend using scatter plot trick"
   ]
  },
  {
   "cell_type": "code",
   "execution_count": 13,
   "metadata": {},
   "outputs": [],
   "source": [
    "%%capture\n",
    "\n",
    "ax_1_legend_marker_SD = ax_1.scatter([4], [20], c = \"w\", marker = \"s\", edgecolors = \"r\")\n",
    "ax_1_legend_marker_FS = ax_1.scatter([4], [15], c = \"w\", marker = \"^\", edgecolors = \"m\")\n",
    "ax_1_legend_marker_XD = ax_1.scatter([4], [10], c = \"w\", marker = \".\", edgecolors = \"b\")"
   ]
  },
  {
   "cell_type": "markdown",
   "metadata": {},
   "source": [
    "add legend text"
   ]
  },
  {
   "cell_type": "code",
   "execution_count": 16,
   "metadata": {},
   "outputs": [],
   "source": [
    "ax_1_legend_text_SD = ax_1.text(4.16, 19, \"SD10\")\n",
    "ax_1_legend_text_FS = ax_1.text(4.16, 14, \"SD20\")\n",
    "ax_1_legend_text_XD = ax_1.text(4.16, 9, \"XD\")"
   ]
  },
  {
   "cell_type": "markdown",
   "metadata": {},
   "source": [
    "set the axes label"
   ]
  },
  {
   "cell_type": "code",
   "execution_count": 18,
   "metadata": {},
   "outputs": [],
   "source": [
    "%%capture\n",
    "ax_1.set_xlabel(\"connection lenth from strike point (m)\")\n",
    "ax_1.set_ylabel(\"Te (eV)\")"
   ]
  },
  {
   "cell_type": "markdown",
   "metadata": {},
   "source": [
    "add explanation text"
   ]
  },
  {
   "cell_type": "code",
   "execution_count": 19,
   "metadata": {},
   "outputs": [],
   "source": [
    "ax_1_explain_text = ax_1.text(0, 45, \"R - $R_{sep}$ ~ 0.25mm at OMP\")\n",
    "ax_1_explain_text.set_fontsize(12)"
   ]
  },
  {
   "cell_type": "code",
   "execution_count": 21,
   "metadata": {},
   "outputs": [],
   "source": [
    "ax_1_explain_text.set_position([0, 45])"
   ]
  },
  {
   "cell_type": "code",
   "execution_count": 14,
   "metadata": {},
   "outputs": [],
   "source": [
    "ax_1.set_xbound(-0.3, 5)\n",
    "ax_1.set_ybound(0, 50)"
   ]
  },
  {
   "cell_type": "code",
   "execution_count": 23,
   "metadata": {},
   "outputs": [],
   "source": [
    "ax_1.set_position([0.1, 0.1, 0.9, 0.9])"
   ]
  },
  {
   "cell_type": "code",
   "execution_count": 24,
   "metadata": {},
   "outputs": [
    {
     "data": {
      "image/png": "[encoded data removed]",
      "text/plain": [
       "<Figure size 432x288 with 1 Axes>"
      ]
     },
     "execution_count": 24,
     "metadata": {},
     "output_type": "execute_result"
    }
   ],
   "source": [
    "fig_1"
   ]
  },
  {
   "cell_type": "code",
   "execution_count": 25,
   "metadata": {},
   "outputs": [],
   "source": [
    "fig_1.savefig('TeP6-Scatter.svg', format='svg', bbox_inches='tight')"
   ]
  },
  {
   "cell_type": "code",
   "execution_count": null,
   "metadata": {},
   "outputs": [],
   "source": []
  },
  {
   "cell_type": "code",
   "execution_count": null,
   "metadata": {},
   "outputs": [],
   "source": []
  }
 ],
 "metadata": {
  "kernelspec": {
   "display_name": "Python 3",
   "language": "python",
   "name": "python3"
  },
  "language_info": {
   "codemirror_mode": {
    "name": "ipython",
    "version": 3
   },
   "file_extension": ".py",
   "mimetype": "text/x-python",
   "name": "python",
   "nbconvert_exporter": "python",
   "pygments_lexer": "ipython3",
   "version": "3.6.7"
  }
 },
 "nbformat": 4,
 "nbformat_minor": 2
}
