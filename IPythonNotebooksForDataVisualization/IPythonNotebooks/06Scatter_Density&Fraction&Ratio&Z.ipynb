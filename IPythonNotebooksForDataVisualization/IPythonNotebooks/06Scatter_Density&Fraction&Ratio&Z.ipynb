{
 "cells": [
  {
   "cell_type": "code",
   "execution_count": 1,
   "metadata": {},
   "outputs": [],
   "source": [
    "from packages.data_classes.data2D import Data2D\n",
    "from packages.data_classes.mesh import Mesh\n",
    "from packages.plot_classes.tangram import Tangram"
   ]
  },
  {
   "cell_type": "code",
   "execution_count": 2,
   "metadata": {},
   "outputs": [],
   "source": [
    "import numpy"
   ]
  },
  {
   "cell_type": "code",
   "execution_count": 3,
   "metadata": {},
   "outputs": [],
   "source": [
    "SD0203_mesh = Mesh('./Data/Geometry/SD/S20190203@25-6-66_24-6.v001.sno')\n",
    "FS0308_mesh = Mesh('./Data/Geometry/FS/S20190308@25-10-50_25-6.v001.sno')\n",
    "XD0130_mesh = Mesh('./Data/Geometry/XD/X20190130@31-12-68_26-6.v001.sno')"
   ]
  },
  {
   "cell_type": "markdown",
   "metadata": {},
   "source": [
    "be careful! data2D reads in IyIx order but quadmesh has to drawn in IxIy order to take care of the cuts!"
   ]
  },
  {
   "cell_type": "code",
   "execution_count": 4,
   "metadata": {},
   "outputs": [],
   "source": [
    "# Carbon density for C1+ ~ C6+\n",
    "SD_nIon3 = Data2D(SD0203_mesh, './Data/SDP6/2D_data/density/n_ion/na-3_2D')\n",
    "SD_nIon4 = Data2D(SD0203_mesh, './Data/SDP6/2D_data/density/n_ion/na-4_2D')\n",
    "SD_nIon5 = Data2D(SD0203_mesh, './Data/SDP6/2D_data/density/n_ion/na-5_2D')\n",
    "SD_nIon6 = Data2D(SD0203_mesh, './Data/SDP6/2D_data/density/n_ion/na-6_2D')\n",
    "SD_nIon7 = Data2D(SD0203_mesh, './Data/SDP6/2D_data/density/n_ion/na-7_2D')\n",
    "SD_nIon8 = Data2D(SD0203_mesh, './Data/SDP6/2D_data/density/n_ion/na-8_2D')\n",
    "\n",
    "FS_nIon3 = Data2D(FS0308_mesh, './Data/FSP6/2D_data/density/n_ion/na-3_2D')\n",
    "FS_nIon4 = Data2D(FS0308_mesh, './Data/FSP6/2D_data/density/n_ion/na-4_2D')\n",
    "FS_nIon5 = Data2D(FS0308_mesh, './Data/FSP6/2D_data/density/n_ion/na-5_2D')\n",
    "FS_nIon6 = Data2D(FS0308_mesh, './Data/FSP6/2D_data/density/n_ion/na-6_2D')\n",
    "FS_nIon7 = Data2D(FS0308_mesh, './Data/FSP6/2D_data/density/n_ion/na-7_2D')\n",
    "FS_nIon8 = Data2D(FS0308_mesh, './Data/FSP6/2D_data/density/n_ion/na-8_2D')\n",
    "\n",
    "XD_nIon3 = Data2D(XD0130_mesh, './Data/XDP6/2D_data/density/n_ion/na-3_2D')\n",
    "XD_nIon4 = Data2D(XD0130_mesh, './Data/XDP6/2D_data/density/n_ion/na-4_2D')\n",
    "XD_nIon5 = Data2D(XD0130_mesh, './Data/XDP6/2D_data/density/n_ion/na-5_2D')\n",
    "XD_nIon6 = Data2D(XD0130_mesh, './Data/XDP6/2D_data/density/n_ion/na-6_2D')\n",
    "XD_nIon7 = Data2D(XD0130_mesh, './Data/XDP6/2D_data/density/n_ion/na-7_2D')\n",
    "XD_nIon8 = Data2D(XD0130_mesh, './Data/XDP6/2D_data/density/n_ion/na-8_2D')\n",
    "\n",
    "# electron density\n",
    "SD_ne = Data2D(SD0203_mesh, './Data/SDP6/2D_data/density/n_electron/ne_2D')\n",
    "\n",
    "FS_ne = Data2D(FS0308_mesh, './Data/FSP6/2D_data/density/n_electron/ne_2D')\n",
    "\n",
    "XD_ne = Data2D(XD0130_mesh, './Data/XDP6/2D_data/density/n_electron/ne_2D')"
   ]
  },
  {
   "cell_type": "code",
   "execution_count": 5,
   "metadata": {},
   "outputs": [],
   "source": [
    "# carbon neutral density\n",
    "SD_nNeutC = Data2D(SD0203_mesh, './Data/SDP6/2D_data/density/n_neutral/dab2-1_2D')\n",
    "\n",
    "FS_nNeutC = Data2D(FS0308_mesh, './Data/FSP6/2D_data/density/n_neutral/dab2-1_2D')\n",
    "\n",
    "XD_nNeutC = Data2D(XD0130_mesh, './Data/XDP6/2D_data/density/n_neutral/dab2-1_2D')\n",
    "\n",
    "# deuterium neutral density\n",
    "SD_nNeutD = Data2D(SD0203_mesh, './Data/SDP6/2D_data/density/n_neutral/dab2-0_2D')\n",
    "\n",
    "FS_nNeutD = Data2D(FS0308_mesh, './Data/FSP6/2D_data/density/n_neutral/dab2-0_2D')\n",
    "\n",
    "XD_nNeutD = Data2D(XD0130_mesh, './Data/XDP6/2D_data/density/n_neutral/dab2-0_2D')"
   ]
  },
  {
   "cell_type": "code",
   "execution_count": 6,
   "metadata": {},
   "outputs": [],
   "source": [
    "# electron temperature\n",
    "SD_te = Data2D(SD0203_mesh, './Data/SDP6/2D_data/temperature/T_electron/te_2D')\n",
    "\n",
    "FS_te = Data2D(FS0308_mesh, './Data/FSP6/2D_data/temperature/T_electron/te_2D')\n",
    "\n",
    "XD_te = Data2D(XD0130_mesh, './Data/XDP6/2D_data/temperature/T_electron/te_2D')"
   ]
  },
  {
   "cell_type": "markdown",
   "metadata": {},
   "source": [
    "some preparation calculation"
   ]
  },
  {
   "cell_type": "code",
   "execution_count": 7,
   "metadata": {},
   "outputs": [],
   "source": [
    "# te\n",
    "SD_te_outerdiv = numpy.transpose(SD_te.IyIx[:, SD0203_mesh.ixcut[1]:])\n",
    "\n",
    "FS_te_outerdiv = numpy.transpose(FS_te.IyIx[:, FS0308_mesh.ixcut[1]:])\n",
    "\n",
    "XD_te_outerdiv = numpy.transpose(XD_te.IyIx[:, XD0130_mesh.ixcut[1]:])"
   ]
  },
  {
   "cell_type": "code",
   "execution_count": 8,
   "metadata": {},
   "outputs": [],
   "source": [
    "# total carbon ion density\n",
    "SD_nCarbon_outerdiv = numpy.transpose(SD_nIon3.IyIx[:, SD0203_mesh.ixcut[1]:]\n",
    "                                      + SD_nIon4.IyIx[:, SD0203_mesh.ixcut[1]:]\n",
    "                                      + SD_nIon5.IyIx[:, SD0203_mesh.ixcut[1]:]\n",
    "                                      + SD_nIon6.IyIx[:, SD0203_mesh.ixcut[1]:]\n",
    "                                      + SD_nIon7.IyIx[:, SD0203_mesh.ixcut[1]:]\n",
    "                                      + SD_nIon8.IyIx[:, SD0203_mesh.ixcut[1]:])\n",
    "\n",
    "FS_nCarbon_outerdiv = numpy.transpose(FS_nIon3.IyIx[:, FS0308_mesh.ixcut[1]:]\n",
    "                                      + FS_nIon4.IyIx[:, FS0308_mesh.ixcut[1]:]\n",
    "                                      + FS_nIon5.IyIx[:, FS0308_mesh.ixcut[1]:]\n",
    "                                      + FS_nIon6.IyIx[:, FS0308_mesh.ixcut[1]:]\n",
    "                                      + FS_nIon7.IyIx[:, FS0308_mesh.ixcut[1]:]\n",
    "                                      + FS_nIon8.IyIx[:, FS0308_mesh.ixcut[1]:])\n",
    "\n",
    "XD_nCarbon_outerdiv = numpy.transpose(XD_nIon3.IyIx[:, XD0130_mesh.ixcut[1]:]\n",
    "                                      + XD_nIon4.IyIx[:, XD0130_mesh.ixcut[1]:]\n",
    "                                      + XD_nIon5.IyIx[:, XD0130_mesh.ixcut[1]:]\n",
    "                                      + XD_nIon6.IyIx[:, XD0130_mesh.ixcut[1]:]\n",
    "                                      + XD_nIon7.IyIx[:, XD0130_mesh.ixcut[1]:]\n",
    "                                      + XD_nIon8.IyIx[:, XD0130_mesh.ixcut[1]:])\n",
    "\n",
    "# electron density\n",
    "SD_ne_outerdiv = numpy.transpose(SD_ne.IyIx[:, SD0203_mesh.ixcut[1]:])\n",
    "\n",
    "FS_ne_outerdiv = numpy.transpose(FS_ne.IyIx[:, FS0308_mesh.ixcut[1]:])\n",
    "\n",
    "XD_ne_outerdiv = numpy.transpose(XD_ne.IyIx[:, XD0130_mesh.ixcut[1]:])"
   ]
  },
  {
   "cell_type": "code",
   "execution_count": 9,
   "metadata": {},
   "outputs": [],
   "source": [
    "# carbon neutral density\n",
    "SD_nNeutC_outerdiv = numpy.transpose(SD_nNeutC.IyIx[:, SD0203_mesh.ixcut[1]:])\n",
    "\n",
    "FS_nNeutC_outerdiv = numpy.transpose(FS_nNeutC.IyIx[:, FS0308_mesh.ixcut[1]:])\n",
    "\n",
    "XD_nNeutC_outerdiv = numpy.transpose(XD_nNeutC.IyIx[:, XD0130_mesh.ixcut[1]:])\n",
    "\n",
    "\n",
    "# deuterium neutral density\n",
    "SD_nNeutD_outerdiv = numpy.transpose(SD_nNeutD.IyIx[:, SD0203_mesh.ixcut[1]:])\n",
    "\n",
    "FS_nNeutD_outerdiv = numpy.transpose(FS_nNeutD.IyIx[:, FS0308_mesh.ixcut[1]:])\n",
    "\n",
    "XD_nNeutD_outerdiv = numpy.transpose(XD_nNeutD.IyIx[:, XD0130_mesh.ixcut[1]:])"
   ]
  },
  {
   "cell_type": "markdown",
   "metadata": {},
   "source": [
    "compare density"
   ]
  },
  {
   "cell_type": "code",
   "execution_count": 6,
   "metadata": {},
   "outputs": [
    {
     "name": "stdout",
     "output_type": "stream",
     "text": [
      "3.1010488127519412e+19\n",
      "4.105531038184574e+19\n",
      "2.969388299008435e+19\n",
      "1.7990710527777e+21\n",
      "2.2471744212315e+21\n",
      "1.1764425141513e+21\n"
     ]
    }
   ],
   "source": [
    "print(SD_nCarbon_outerdiv.max())\n",
    "print(FS_nCarbon_outerdiv.max())\n",
    "print(XD_nCarbon_outerdiv.max())\n",
    "\n",
    "print(SD_ne_outerdiv.max())\n",
    "print(FS_ne_outerdiv.max())\n",
    "print(XD_ne_outerdiv.max())"
   ]
  },
  {
   "cell_type": "markdown",
   "metadata": {},
   "source": [
    "calculate D neutral to electron density ratio unit $10^{-3}$ (for scatter plot in Te 10~30 eV range)"
   ]
  },
  {
   "cell_type": "code",
   "execution_count": 10,
   "metadata": {},
   "outputs": [],
   "source": [
    "SD_D2eRatio_outerdiv = (SD_nNeutD_outerdiv/SD_ne_outerdiv) * 1000\n",
    "\n",
    "FS_D2eRatio_outerdiv = (FS_nNeutD_outerdiv/FS_ne_outerdiv) * 1000\n",
    "\n",
    "XD_D2eRatio_outerdiv = (XD_nNeutD_outerdiv/XD_ne_outerdiv) * 1000"
   ]
  },
  {
   "cell_type": "markdown",
   "metadata": {},
   "source": [
    "take a look at the data range"
   ]
  },
  {
   "cell_type": "code",
   "execution_count": 8,
   "metadata": {},
   "outputs": [
    {
     "name": "stdout",
     "output_type": "stream",
     "text": [
      "34.416265760056426\n",
      "198.38359384787603\n",
      "15.963202918924155\n"
     ]
    }
   ],
   "source": [
    "print(SD_D2eRatio_outerdiv.max())\n",
    "print(FS_D2eRatio_outerdiv.max())\n",
    "print(XD_D2eRatio_outerdiv.max())"
   ]
  },
  {
   "cell_type": "markdown",
   "metadata": {},
   "source": [
    "calculate Carbon ion fraction unit $10^{-3}$"
   ]
  },
  {
   "cell_type": "code",
   "execution_count": 7,
   "metadata": {},
   "outputs": [],
   "source": [
    "SD_CarbonIonFraction_outerdiv = (SD_nCarbon_outerdiv/SD_ne_outerdiv) * 1000\n",
    "FS_CarbonIonFraction_outerdiv = (FS_nCarbon_outerdiv/FS_ne_outerdiv) * 1000\n",
    "XD_CarbonIonFraction_outerdiv = (XD_nCarbon_outerdiv/XD_ne_outerdiv) * 1000"
   ]
  },
  {
   "cell_type": "markdown",
   "metadata": {},
   "source": [
    "take a look at the data range"
   ]
  },
  {
   "cell_type": "code",
   "execution_count": 10,
   "metadata": {
    "scrolled": true
   },
   "outputs": [
    {
     "name": "stdout",
     "output_type": "stream",
     "text": [
      "60.418956248906724\n",
      "97.6777446020749\n",
      "64.11311510002093\n"
     ]
    }
   ],
   "source": [
    "print(SD_CarbonIonFraction_outerdiv.max())\n",
    "print(FS_CarbonIonFraction_outerdiv.max())\n",
    "print(XD_CarbonIonFraction_outerdiv.max())"
   ]
  },
  {
   "cell_type": "code",
   "execution_count": null,
   "metadata": {},
   "outputs": [],
   "source": []
  },
  {
   "cell_type": "markdown",
   "metadata": {},
   "source": [
    "calculate carbon Z"
   ]
  },
  {
   "cell_type": "code",
   "execution_count": 8,
   "metadata": {},
   "outputs": [],
   "source": [
    "# first sum up all charge\n",
    "# note that I can do the following because all data_2D arrays are numpy arrays, so + and * will be math rather than list cat\n",
    "SD_CarbonCharge_outerdiv = numpy.transpose((SD_nIon3.IyIx\n",
    "                                          + 2*SD_nIon4.IyIx\n",
    "                                          + 3*SD_nIon5.IyIx\n",
    "                                          + 4*SD_nIon6.IyIx\n",
    "                                          + 5*SD_nIon7.IyIx\n",
    "                                          + 6*SD_nIon8.IyIx)[:, SD0203_mesh.ixcut[1]:])\n",
    "\n",
    "FS_CarbonCharge_outerdiv = numpy.transpose((FS_nIon3.IyIx\n",
    "                                          + 2*FS_nIon4.IyIx\n",
    "                                          + 3*FS_nIon5.IyIx\n",
    "                                          + 4*FS_nIon6.IyIx\n",
    "                                          + 5*FS_nIon7.IyIx\n",
    "                                          + 6*FS_nIon8.IyIx)[:, FS0308_mesh.ixcut[1]:])\n",
    "\n",
    "XD_CarbonCharge_outerdiv = numpy.transpose((XD_nIon3.IyIx\n",
    "                                          + 2*XD_nIon4.IyIx\n",
    "                                          + 3*XD_nIon5.IyIx\n",
    "                                          + 4*XD_nIon6.IyIx\n",
    "                                          + 5*XD_nIon7.IyIx\n",
    "                                          + 6*XD_nIon8.IyIx)[:, XD0130_mesh.ixcut[1]:])\n",
    "\n",
    "# <Z> Carbon without neutral\n",
    "SD_ZCarbon_pureIon_outerdiv = SD_CarbonCharge_outerdiv/SD_nCarbon_outerdiv\n",
    "\n",
    "FS_ZCarbon_pureIon_outerdiv = FS_CarbonCharge_outerdiv/FS_nCarbon_outerdiv\n",
    "\n",
    "XD_ZCarbon_pureIon_outerdiv = XD_CarbonCharge_outerdiv/XD_nCarbon_outerdiv\n",
    "\n",
    "\n",
    "# <Z> Carbon with neutral\n",
    "SD_ZCarbon_witnNeut_outerdiv = SD_CarbonCharge_outerdiv/(SD_nCarbon_outerdiv + SD_nNeutC_outerdiv)\n",
    "\n",
    "FS_ZCarbon_witnNeut_outerdiv = FS_CarbonCharge_outerdiv/(FS_nCarbon_outerdiv + FS_nNeutC_outerdiv)\n",
    "\n",
    "XD_ZCarbon_witnNeut_outerdiv = XD_CarbonCharge_outerdiv/(XD_nCarbon_outerdiv + XD_nNeutC_outerdiv)"
   ]
  },
  {
   "cell_type": "markdown",
   "metadata": {},
   "source": [
    "look at data range"
   ]
  },
  {
   "cell_type": "code",
   "execution_count": 78,
   "metadata": {},
   "outputs": [
    {
     "name": "stdout",
     "output_type": "stream",
     "text": [
      "4.262026168254498\n",
      "4.527697504408801\n",
      "4.475368774595861\n",
      "4.262026168254498\n",
      "4.527697504408801\n",
      "4.475368774595861\n"
     ]
    }
   ],
   "source": [
    "print(SD_ZCarbon_pureIon_outerdiv.max())\n",
    "print(FS_ZCarbon_pureIon_outerdiv.max())\n",
    "print(XD_ZCarbon_pureIon_outerdiv.max())\n",
    "\n",
    "print(SD_ZCarbon_witnNeut_outerdiv.max())\n",
    "print(FS_ZCarbon_witnNeut_outerdiv.max())\n",
    "print(XD_ZCarbon_witnNeut_outerdiv.max())"
   ]
  },
  {
   "cell_type": "code",
   "execution_count": 79,
   "metadata": {},
   "outputs": [
    {
     "name": "stdout",
     "output_type": "stream",
     "text": [
      "1.0908290706958088\n",
      "1.0180959488687102\n",
      "1.0840030342213396\n",
      "0.6431255912607305\n",
      "0.4062477574052635\n",
      "0.9304438585303574\n"
     ]
    }
   ],
   "source": [
    "print(SD_ZCarbon_pureIon_outerdiv.min())\n",
    "print(FS_ZCarbon_pureIon_outerdiv.min())\n",
    "print(XD_ZCarbon_pureIon_outerdiv.min())\n",
    "\n",
    "print(SD_ZCarbon_witnNeut_outerdiv.min())\n",
    "print(FS_ZCarbon_witnNeut_outerdiv.min())\n",
    "print(XD_ZCarbon_witnNeut_outerdiv.min())"
   ]
  },
  {
   "cell_type": "markdown",
   "metadata": {},
   "source": [
    "# start attempting plots"
   ]
  },
  {
   "cell_type": "markdown",
   "metadata": {},
   "source": [
    "## prepare figure and its axes"
   ]
  },
  {
   "cell_type": "code",
   "execution_count": 11,
   "metadata": {},
   "outputs": [],
   "source": [
    "import matplotlib.pyplot as plt"
   ]
  },
  {
   "cell_type": "code",
   "execution_count": 12,
   "metadata": {},
   "outputs": [],
   "source": [
    "%%capture\n",
    "\n",
    "fig_1, ax_1 = plt.subplots()"
   ]
  },
  {
   "cell_type": "markdown",
   "metadata": {},
   "source": [
    "## do scatter plots"
   ]
  },
  {
   "cell_type": "markdown",
   "metadata": {},
   "source": [
    "### nD to ne ratio"
   ]
  },
  {
   "cell_type": "markdown",
   "metadata": {},
   "source": [
    "the data along flux tubes within first 1mm radially out from the separatrix"
   ]
  },
  {
   "cell_type": "code",
   "execution_count": 13,
   "metadata": {},
   "outputs": [],
   "source": [
    "%%capture\n",
    "\n",
    "ax_1.scatter(SD_te_outerdiv[:, SD0203_mesh.iycut : 19], SD_D2eRatio_outerdiv[:, SD0203_mesh.iycut : 19], c = \"w\", marker = \"s\", edgecolors = \"r\")\n",
    "ax_1.scatter(FS_te_outerdiv[:, FS0308_mesh.iycut : 17], FS_D2eRatio_outerdiv[:, FS0308_mesh.iycut : 17], c = \"w\", marker = \"^\", edgecolors = \"m\")\n",
    "ax_1.scatter(XD_te_outerdiv[:, XD0130_mesh.iycut : 21], XD_D2eRatio_outerdiv[:, XD0130_mesh.iycut : 21], c = \"w\", marker = \".\", edgecolors = \"b\")"
   ]
  },
  {
   "cell_type": "markdown",
   "metadata": {},
   "source": [
    "add legend using scatter plot trick"
   ]
  },
  {
   "cell_type": "code",
   "execution_count": 14,
   "metadata": {},
   "outputs": [],
   "source": [
    "%%capture\n",
    "\n",
    "ax_1_legend_marker_SD = ax_1.scatter([27.2], [4.0], c = \"w\", marker = \"s\", edgecolors = \"r\")\n",
    "ax_1_legend_marker_FS = ax_1.scatter([27.2], [3.5], c = \"w\", marker = \"^\", edgecolors = \"m\")\n",
    "ax_1_legend_marker_XD = ax_1.scatter([27.2], [3.0], c = \"w\", marker = \".\", edgecolors = \"b\")"
   ]
  },
  {
   "cell_type": "markdown",
   "metadata": {},
   "source": [
    "add legend text"
   ]
  },
  {
   "cell_type": "code",
   "execution_count": 15,
   "metadata": {},
   "outputs": [],
   "source": [
    "ax_1_legend_text_SD = ax_1.text(27.8, 3.95, \"SD10\")\n",
    "ax_1_legend_text_FS = ax_1.text(27.8, 3.45, \"SD20\")\n",
    "ax_1_legend_text_XD = ax_1.text(27.8, 2.95, \"XD\")"
   ]
  },
  {
   "cell_type": "markdown",
   "metadata": {},
   "source": [
    "set the axes label"
   ]
  },
  {
   "cell_type": "code",
   "execution_count": 13,
   "metadata": {},
   "outputs": [],
   "source": [
    "%%capture\n",
    "ax_1.set_xlabel(\"Te (eV)\")\n",
    "ax_1.set_ylabel(\"neutral deuterium / electron density ratio ($10^{-3}$)\")"
   ]
  },
  {
   "cell_type": "markdown",
   "metadata": {},
   "source": [
    "add some explanation text"
   ]
  },
  {
   "cell_type": "code",
   "execution_count": 14,
   "metadata": {},
   "outputs": [],
   "source": [
    "ax_1_explain_text = ax_1.text(15, 4.5, \"0 < R - $R_{sep}$ < 1mm at OMP\")\n",
    "ax_1_explain_text.set_fontsize(12)"
   ]
  },
  {
   "cell_type": "code",
   "execution_count": 15,
   "metadata": {},
   "outputs": [],
   "source": [
    "ax_1.set_xbound(10, 30)\n",
    "ax_1.set_ybound(0, 5)"
   ]
  },
  {
   "cell_type": "code",
   "execution_count": 16,
   "metadata": {},
   "outputs": [
    {
     "data": {
      "image/png": "[encoded data removed]",
      "text/plain": [
       "<Figure size 640x480 with 1 Axes>"
      ]
     },
     "execution_count": 16,
     "metadata": {},
     "output_type": "execute_result"
    }
   ],
   "source": [
    "fig_1"
   ]
  },
  {
   "cell_type": "code",
   "execution_count": null,
   "metadata": {},
   "outputs": [],
   "source": []
  },
  {
   "cell_type": "code",
   "execution_count": 17,
   "metadata": {},
   "outputs": [],
   "source": [
    "fig_1.savefig('nDNeut-neRatioP6-1mm_Scatter.svg', format='svg', bbox_inches='tight')"
   ]
  },
  {
   "cell_type": "code",
   "execution_count": null,
   "metadata": {},
   "outputs": [],
   "source": []
  },
  {
   "cell_type": "code",
   "execution_count": null,
   "metadata": {},
   "outputs": [],
   "source": []
  },
  {
   "cell_type": "markdown",
   "metadata": {},
   "source": [
    "the data along flux tubes within 1~2 mm radially out from the separatrix"
   ]
  },
  {
   "cell_type": "code",
   "execution_count": 18,
   "metadata": {},
   "outputs": [],
   "source": [
    "%%capture\n",
    "\n",
    "fig_2, ax_2 = plt.subplots()"
   ]
  },
  {
   "cell_type": "code",
   "execution_count": 19,
   "metadata": {},
   "outputs": [],
   "source": [
    "%%capture\n",
    "\n",
    "ax_2.scatter(SD_te_outerdiv[:, 19 : 22], SD_D2eRatio_outerdiv[:, 19 : 22], c = \"w\", marker = \"s\", edgecolors = \"r\")\n",
    "ax_2.scatter(FS_te_outerdiv[:, 17 : 20], FS_D2eRatio_outerdiv[:, 17 : 20], c = \"w\", marker = \"^\", edgecolors = \"m\")\n",
    "ax_2.scatter(XD_te_outerdiv[:, 21 : 24], XD_D2eRatio_outerdiv[:, 21 : 24], c = \"w\", marker = \".\", edgecolors = \"b\")"
   ]
  },
  {
   "cell_type": "markdown",
   "metadata": {},
   "source": [
    "add legend using scatter plot trick"
   ]
  },
  {
   "cell_type": "code",
   "execution_count": 38,
   "metadata": {},
   "outputs": [],
   "source": [
    "%%capture\n",
    "\n",
    "ax_2_legend_marker_SD = ax_2.scatter([31], [7.0], c = \"w\", marker = \"s\", edgecolors = \"r\")\n",
    "ax_2_legend_marker_FS = ax_2.scatter([31], [6.0], c = \"w\", marker = \"^\", edgecolors = \"m\")\n",
    "ax_2_legend_marker_XD = ax_2.scatter([31], [5.0], c = \"w\", marker = \".\", edgecolors = \"b\")"
   ]
  },
  {
   "cell_type": "markdown",
   "metadata": {},
   "source": [
    "add legend text"
   ]
  },
  {
   "cell_type": "code",
   "execution_count": 21,
   "metadata": {},
   "outputs": [],
   "source": [
    "ax_2_legend_text_SD = ax_2.text(31.6, 6.85, \"SD10\")\n",
    "ax_2_legend_text_FS = ax_2.text(31.6, 5.85, \"SD20\")\n",
    "ax_2_legend_text_XD = ax_2.text(31.6, 4.85, \"XD\")"
   ]
  },
  {
   "cell_type": "code",
   "execution_count": 43,
   "metadata": {},
   "outputs": [],
   "source": [
    "ax_2_legend_text_SD.set_position((31.6, 6.85))\n",
    "ax_2_legend_text_FS.set_position((31.6, 5.85))\n",
    "ax_2_legend_text_XD.set_position((31.6, 4.85))"
   ]
  },
  {
   "cell_type": "markdown",
   "metadata": {},
   "source": [
    "set the axes label"
   ]
  },
  {
   "cell_type": "code",
   "execution_count": 22,
   "metadata": {},
   "outputs": [],
   "source": [
    "%%capture\n",
    "ax_2.set_xlabel(\"Te (eV)\")\n",
    "ax_2.set_ylabel(\"neutral deuterium / electron density ratio ($10^{-3}$)\")"
   ]
  },
  {
   "cell_type": "markdown",
   "metadata": {},
   "source": [
    "add some explanation text"
   ]
  },
  {
   "cell_type": "code",
   "execution_count": 45,
   "metadata": {},
   "outputs": [],
   "source": [
    "ax_2_explain_text = ax_2.text(17.5, 8.5, \"1mm < R - $R_{sep}$ < 2mm at OMP\")\n",
    "ax_2_explain_text.set_fontsize(12)"
   ]
  },
  {
   "cell_type": "code",
   "execution_count": 39,
   "metadata": {},
   "outputs": [],
   "source": [
    "ax_2.set_xbound(10, 35)\n",
    "ax_2.set_ybound(0, 10)"
   ]
  },
  {
   "cell_type": "code",
   "execution_count": 46,
   "metadata": {},
   "outputs": [
    {
     "data": {
      "image/png": "[encoded data removed]",
      "text/plain": [
       "<Figure size 432x288 with 1 Axes>"
      ]
     },
     "execution_count": 46,
     "metadata": {},
     "output_type": "execute_result"
    }
   ],
   "source": [
    "fig_2"
   ]
  },
  {
   "cell_type": "markdown",
   "metadata": {},
   "source": [
    "to adjust the relative size of the y_label and the axes"
   ]
  },
  {
   "cell_type": "code",
   "execution_count": 49,
   "metadata": {},
   "outputs": [
    {
     "data": {
      "image/png": "[encoded data removed]",
      "text/plain": [
       "<Figure size 432x288 with 1 Axes>"
      ]
     },
     "execution_count": 49,
     "metadata": {},
     "output_type": "execute_result"
    }
   ],
   "source": [
    "ax_2.set_position([0.125, 0.10999999999999999, 0.9, 0.88])\n",
    "fig_2"
   ]
  },
  {
   "cell_type": "code",
   "execution_count": null,
   "metadata": {},
   "outputs": [],
   "source": []
  },
  {
   "cell_type": "code",
   "execution_count": 50,
   "metadata": {},
   "outputs": [],
   "source": [
    "fig_2.savefig('nDNeut-neRatioP6-2mm_Scatter.svg', format='svg', bbox_inches='tight')"
   ]
  },
  {
   "cell_type": "code",
   "execution_count": null,
   "metadata": {},
   "outputs": [],
   "source": []
  },
  {
   "cell_type": "markdown",
   "metadata": {},
   "source": [
    "### Z Carbon"
   ]
  },
  {
   "cell_type": "markdown",
   "metadata": {},
   "source": [
    "the data along flux tubes within first 1mm radially out from the separatrix"
   ]
  },
  {
   "cell_type": "code",
   "execution_count": 17,
   "metadata": {},
   "outputs": [],
   "source": [
    "%%capture\n",
    "\n",
    "fig_5, ax_5 = plt.subplots()"
   ]
  },
  {
   "cell_type": "code",
   "execution_count": 18,
   "metadata": {},
   "outputs": [],
   "source": [
    "%%capture\n",
    "\n",
    "ax_5.scatter(SD_te_outerdiv[:, SD0203_mesh.iycut : 19], SD_ZCarbon_pureIon_outerdiv[:, SD0203_mesh.iycut : 19], c = \"w\", marker = \"s\", edgecolors = \"r\")\n",
    "ax_5.scatter(FS_te_outerdiv[:, FS0308_mesh.iycut : 17], FS_ZCarbon_pureIon_outerdiv[:, FS0308_mesh.iycut : 17], c = \"w\", marker = \"^\", edgecolors = \"m\")\n",
    "ax_5.scatter(XD_te_outerdiv[:, XD0130_mesh.iycut : 21], XD_ZCarbon_pureIon_outerdiv[:, XD0130_mesh.iycut : 21], c = \"w\", marker = \".\", edgecolors = \"b\")"
   ]
  },
  {
   "cell_type": "markdown",
   "metadata": {},
   "source": [
    "add legend using scatter plot trick"
   ]
  },
  {
   "cell_type": "code",
   "execution_count": 34,
   "metadata": {},
   "outputs": [],
   "source": [
    "%%capture\n",
    "\n",
    "ax_5_legend_marker_SD = ax_5.scatter([38.2], [2.8], c = \"w\", marker = \"s\", edgecolors = \"r\")\n",
    "ax_5_legend_marker_FS = ax_5.scatter([38.2], [2.3], c = \"w\", marker = \"^\", edgecolors = \"m\")\n",
    "ax_5_legend_marker_XD = ax_5.scatter([38.2], [1.8], c = \"w\", marker = \".\", edgecolors = \"b\")"
   ]
  },
  {
   "cell_type": "markdown",
   "metadata": {},
   "source": [
    "add legend text"
   ]
  },
  {
   "cell_type": "code",
   "execution_count": 22,
   "metadata": {},
   "outputs": [],
   "source": [
    "ax_5_legend_text_SD = ax_5.text(39, 2.75, \"SD10\")\n",
    "ax_5_legend_text_FS = ax_5.text(39, 2.25, \"SD20\")\n",
    "ax_5_legend_text_XD = ax_5.text(39, 1.75, \"XD\")"
   ]
  },
  {
   "cell_type": "markdown",
   "metadata": {},
   "source": [
    "set the axes label"
   ]
  },
  {
   "cell_type": "code",
   "execution_count": 37,
   "metadata": {},
   "outputs": [],
   "source": [
    "%%capture\n",
    "ax_5.set_xlabel(\"Te (eV)\")\n",
    "ax_5.set_ylabel(\"carbon ion <Z>\")"
   ]
  },
  {
   "cell_type": "markdown",
   "metadata": {},
   "source": [
    "add some explanation text"
   ]
  },
  {
   "cell_type": "code",
   "execution_count": 39,
   "metadata": {},
   "outputs": [],
   "source": [
    "ax_5_explain_text = ax_5.text(12, 1.5, \"0 < R - $R_{sep}$ < 1mm at OMP\")\n",
    "ax_5_explain_text.set_fontsize(12)"
   ]
  },
  {
   "cell_type": "code",
   "execution_count": 35,
   "metadata": {},
   "outputs": [],
   "source": [
    "ax_5.set_xbound(0, 45)\n",
    "ax_5.set_ybound(1.0, 4.5)"
   ]
  },
  {
   "cell_type": "code",
   "execution_count": 40,
   "metadata": {},
   "outputs": [
    {
     "data": {
      "image/png": "[encoded data removed]",
      "text/plain": [
       "<Figure size 432x288 with 1 Axes>"
      ]
     },
     "execution_count": 40,
     "metadata": {},
     "output_type": "execute_result"
    }
   ],
   "source": [
    "fig_5"
   ]
  },
  {
   "cell_type": "code",
   "execution_count": null,
   "metadata": {},
   "outputs": [],
   "source": []
  },
  {
   "cell_type": "code",
   "execution_count": 41,
   "metadata": {},
   "outputs": [],
   "source": [
    "fig_5.savefig('CIon-Z-P6-1mm_Scatter.svg', format='svg', bbox_inches='tight')"
   ]
  },
  {
   "cell_type": "code",
   "execution_count": null,
   "metadata": {},
   "outputs": [],
   "source": []
  },
  {
   "cell_type": "markdown",
   "metadata": {},
   "source": [
    "the data along flux tubes within 1mm ~ 2mm radially out from the separatrix"
   ]
  },
  {
   "cell_type": "code",
   "execution_count": 42,
   "metadata": {},
   "outputs": [],
   "source": [
    "%%capture\n",
    "\n",
    "fig_6, ax_6 = plt.subplots()"
   ]
  },
  {
   "cell_type": "code",
   "execution_count": 43,
   "metadata": {},
   "outputs": [],
   "source": [
    "%%capture\n",
    "\n",
    "ax_6.scatter(SD_te_outerdiv[:, 19 : 22], SD_ZCarbon_pureIon_outerdiv[:, 19 : 22], c = \"w\", marker = \"s\", edgecolors = \"r\")\n",
    "ax_6.scatter(FS_te_outerdiv[:, 17 : 20], FS_ZCarbon_pureIon_outerdiv[:, 17 : 20], c = \"w\", marker = \"^\", edgecolors = \"m\")\n",
    "ax_6.scatter(XD_te_outerdiv[:, 21 : 24], XD_ZCarbon_pureIon_outerdiv[:, 21 : 24], c = \"w\", marker = \".\", edgecolors = \"b\")"
   ]
  },
  {
   "cell_type": "markdown",
   "metadata": {},
   "source": [
    "add legend using scatter plot trick"
   ]
  },
  {
   "cell_type": "code",
   "execution_count": 44,
   "metadata": {},
   "outputs": [],
   "source": [
    "%%capture\n",
    "\n",
    "ax_6_legend_marker_SD = ax_6.scatter([38.2], [2.8], c = \"w\", marker = \"s\", edgecolors = \"r\")\n",
    "ax_6_legend_marker_FS = ax_6.scatter([38.2], [2.3], c = \"w\", marker = \"^\", edgecolors = \"m\")\n",
    "ax_6_legend_marker_XD = ax_6.scatter([38.2], [1.8], c = \"w\", marker = \".\", edgecolors = \"b\")"
   ]
  },
  {
   "cell_type": "markdown",
   "metadata": {},
   "source": [
    "add legend text"
   ]
  },
  {
   "cell_type": "code",
   "execution_count": 45,
   "metadata": {},
   "outputs": [],
   "source": [
    "ax_6_legend_text_SD = ax_6.text(39, 2.75, \"SD10\")\n",
    "ax_6_legend_text_FS = ax_6.text(39, 2.25, \"SD20\")\n",
    "ax_6_legend_text_XD = ax_6.text(39, 1.75, \"XD\")"
   ]
  },
  {
   "cell_type": "markdown",
   "metadata": {},
   "source": [
    "set the axes label"
   ]
  },
  {
   "cell_type": "code",
   "execution_count": 46,
   "metadata": {},
   "outputs": [],
   "source": [
    "%%capture\n",
    "ax_6.set_xlabel(\"Te (eV)\")\n",
    "ax_6.set_ylabel(\"carbon ion <Z>\")"
   ]
  },
  {
   "cell_type": "markdown",
   "metadata": {},
   "source": [
    "add some explanation text"
   ]
  },
  {
   "cell_type": "code",
   "execution_count": 50,
   "metadata": {},
   "outputs": [],
   "source": [
    "ax_6_explain_text = ax_6.text(11, 1.4, \"1mm < R - $R_{sep}$ < 2mm at OMP\")\n",
    "ax_6_explain_text.set_fontsize(12)"
   ]
  },
  {
   "cell_type": "code",
   "execution_count": 51,
   "metadata": {},
   "outputs": [],
   "source": [
    "ax_6.set_xbound(0, 45)\n",
    "ax_6.set_ybound(1.0, 4.5)"
   ]
  },
  {
   "cell_type": "code",
   "execution_count": 56,
   "metadata": {},
   "outputs": [
    {
     "data": {
      "image/png": "[encoded data removed]",
      "text/plain": [
       "<Figure size 432x288 with 1 Axes>"
      ]
     },
     "execution_count": 56,
     "metadata": {},
     "output_type": "execute_result"
    }
   ],
   "source": [
    "fig_6"
   ]
  },
  {
   "cell_type": "code",
   "execution_count": null,
   "metadata": {},
   "outputs": [],
   "source": []
  },
  {
   "cell_type": "code",
   "execution_count": 57,
   "metadata": {},
   "outputs": [],
   "source": [
    "fig_6.savefig('CIon-Z-P6-2mm_Scatter.svg', format='svg', bbox_inches='tight')"
   ]
  },
  {
   "cell_type": "code",
   "execution_count": null,
   "metadata": {},
   "outputs": [],
   "source": []
  },
  {
   "cell_type": "markdown",
   "metadata": {},
   "source": [
    "### Carbon Ion Fraction"
   ]
  },
  {
   "cell_type": "markdown",
   "metadata": {},
   "source": [
    "the data along flux tubes within first 1mm radially out from the separatrix"
   ]
  },
  {
   "cell_type": "code",
   "execution_count": 58,
   "metadata": {},
   "outputs": [],
   "source": [
    "%%capture\n",
    "\n",
    "fig_7, ax_7 = plt.subplots()"
   ]
  },
  {
   "cell_type": "code",
   "execution_count": 60,
   "metadata": {},
   "outputs": [],
   "source": [
    "%%capture\n",
    "\n",
    "ax_7.scatter(SD_te_outerdiv[:, SD0203_mesh.iycut : 19], SD_CarbonIonFraction_outerdiv[:, SD0203_mesh.iycut : 19], c = \"w\", marker = \"s\", edgecolors = \"r\")\n",
    "ax_7.scatter(FS_te_outerdiv[:, FS0308_mesh.iycut : 17], FS_CarbonIonFraction_outerdiv[:, FS0308_mesh.iycut : 17], c = \"w\", marker = \"^\", edgecolors = \"m\")\n",
    "ax_7.scatter(XD_te_outerdiv[:, XD0130_mesh.iycut : 21], XD_CarbonIonFraction_outerdiv[:, XD0130_mesh.iycut : 21], c = \"w\", marker = \".\", edgecolors = \"b\")"
   ]
  },
  {
   "cell_type": "markdown",
   "metadata": {},
   "source": [
    "add legend using scatter plot trick"
   ]
  },
  {
   "cell_type": "code",
   "execution_count": 68,
   "metadata": {},
   "outputs": [],
   "source": [
    "%%capture\n",
    "\n",
    "ax_7_legend_marker_SD = ax_7.scatter([35.2], [20], c = \"w\", marker = \"s\", edgecolors = \"r\")\n",
    "ax_7_legend_marker_FS = ax_7.scatter([35.2], [17], c = \"w\", marker = \"^\", edgecolors = \"m\")\n",
    "ax_7_legend_marker_XD = ax_7.scatter([35.2], [14], c = \"w\", marker = \".\", edgecolors = \"b\")"
   ]
  },
  {
   "cell_type": "markdown",
   "metadata": {},
   "source": [
    "add legend text"
   ]
  },
  {
   "cell_type": "code",
   "execution_count": 71,
   "metadata": {},
   "outputs": [],
   "source": [
    "ax_7_legend_text_SD = ax_7.text(36, 19.5, \"SD10\")\n",
    "ax_7_legend_text_FS = ax_7.text(36, 16.5, \"SD20\")\n",
    "ax_7_legend_text_XD = ax_7.text(36, 13.5, \"XD\")"
   ]
  },
  {
   "cell_type": "markdown",
   "metadata": {},
   "source": [
    "set the axes label"
   ]
  },
  {
   "cell_type": "code",
   "execution_count": 73,
   "metadata": {},
   "outputs": [],
   "source": [
    "%%capture\n",
    "ax_7.set_xlabel(\"Te (eV)\")\n",
    "ax_7.set_ylabel(\"carbon ion fraction ($10^{-3}$)\")"
   ]
  },
  {
   "cell_type": "markdown",
   "metadata": {},
   "source": [
    "add some explanation text"
   ]
  },
  {
   "cell_type": "code",
   "execution_count": 74,
   "metadata": {},
   "outputs": [],
   "source": [
    "ax_7_explain_text = ax_7.text(10, 24, \"0 < R - $R_{sep}$ < 1mm at OMP\")\n",
    "ax_7_explain_text.set_fontsize(12)"
   ]
  },
  {
   "cell_type": "code",
   "execution_count": 69,
   "metadata": {},
   "outputs": [],
   "source": [
    "ax_7.set_xbound(0, 40)\n",
    "ax_7.set_ybound(0.0, 28)"
   ]
  },
  {
   "cell_type": "code",
   "execution_count": 77,
   "metadata": {},
   "outputs": [
    {
     "data": {
      "image/png": "[encoded data removed]",
      "text/plain": [
       "<Figure size 432x288 with 1 Axes>"
      ]
     },
     "execution_count": 77,
     "metadata": {},
     "output_type": "execute_result"
    }
   ],
   "source": [
    "fig_7"
   ]
  },
  {
   "cell_type": "code",
   "execution_count": null,
   "metadata": {},
   "outputs": [],
   "source": []
  },
  {
   "cell_type": "code",
   "execution_count": 78,
   "metadata": {},
   "outputs": [],
   "source": [
    "fig_7.savefig('CIonFractionP6-1mm_Scatter.svg', format='svg', bbox_inches='tight')"
   ]
  },
  {
   "cell_type": "code",
   "execution_count": null,
   "metadata": {},
   "outputs": [],
   "source": []
  },
  {
   "cell_type": "code",
   "execution_count": null,
   "metadata": {},
   "outputs": [],
   "source": []
  },
  {
   "cell_type": "markdown",
   "metadata": {},
   "source": [
    "### nCIon"
   ]
  },
  {
   "cell_type": "markdown",
   "metadata": {},
   "source": [
    "rescale the data"
   ]
  },
  {
   "cell_type": "code",
   "execution_count": 51,
   "metadata": {},
   "outputs": [],
   "source": [
    "SD_nCarbonIon_outerdiv_rescale = SD_nCarbon_outerdiv / 1e18\n",
    "FS_nCarbonIon_outerdiv_rescale = FS_nCarbon_outerdiv / 1e18\n",
    "XD_nCarbonIon_outerdiv_rescale = XD_nCarbon_outerdiv / 1e18"
   ]
  },
  {
   "cell_type": "markdown",
   "metadata": {},
   "source": [
    "the data along flux tubes within first 1mm radially out from the separatrix"
   ]
  },
  {
   "cell_type": "code",
   "execution_count": 52,
   "metadata": {},
   "outputs": [],
   "source": [
    "%%capture\n",
    "\n",
    "fig_11, ax_11 = plt.subplots()"
   ]
  },
  {
   "cell_type": "code",
   "execution_count": 81,
   "metadata": {},
   "outputs": [],
   "source": [
    "%%capture\n",
    "\n",
    "SD_11 = ax_11.scatter(SD_te_outerdiv[:, SD0203_mesh.iycut : 19], SD_nCarbonIon_outerdiv_rescale[:, SD0203_mesh.iycut : 19], c = \"w\", marker = \"s\", edgecolors = \"r\")\n",
    "FS_11 = ax_11.scatter(FS_te_outerdiv[:, FS0308_mesh.iycut : 17], FS_nCarbonIon_outerdiv_rescale[:, FS0308_mesh.iycut : 17], c = \"w\", marker = \"^\", edgecolors = \"m\")\n",
    "XD_11 = ax_11.scatter(XD_te_outerdiv[:, XD0130_mesh.iycut : 21], XD_nCarbonIon_outerdiv_rescale[:, XD0130_mesh.iycut : 21], c = \"w\", marker = \".\", edgecolors = \"b\")"
   ]
  },
  {
   "cell_type": "markdown",
   "metadata": {},
   "source": [
    "add legend using scatter plot trick"
   ]
  },
  {
   "cell_type": "code",
   "execution_count": 95,
   "metadata": {},
   "outputs": [],
   "source": [
    "%%capture\n",
    "\n",
    "ax_11_legend_marker_SD = ax_11.scatter([26.5], [7.0], c = \"w\", marker = \"s\", edgecolors = \"r\")\n",
    "ax_11_legend_marker_FS = ax_11.scatter([26.5], [6.0], c = \"w\", marker = \"^\", edgecolors = \"m\")\n",
    "ax_11_legend_marker_XD = ax_11.scatter([26.5], [5.0], c = \"w\", marker = \".\", edgecolors = \"b\")"
   ]
  },
  {
   "cell_type": "markdown",
   "metadata": {},
   "source": [
    "add legend text"
   ]
  },
  {
   "cell_type": "code",
   "execution_count": 70,
   "metadata": {},
   "outputs": [],
   "source": [
    "ax_11_legend_text_SD = ax_11.text(27.1, 6.85, \"SD10\")\n",
    "ax_11_legend_text_FS = ax_11.text(27.1, 5.85, \"SD20\")\n",
    "ax_11_legend_text_XD = ax_11.text(27.1, 4.85, \"XD\")"
   ]
  },
  {
   "cell_type": "code",
   "execution_count": 99,
   "metadata": {},
   "outputs": [],
   "source": [
    "ax_11_legend_text_SD.set_position((27.1, 6.85))\n",
    "ax_11_legend_text_FS.set_position((27.1, 5.85))\n",
    "ax_11_legend_text_XD.set_position((27.1, 4.85))"
   ]
  },
  {
   "cell_type": "markdown",
   "metadata": {},
   "source": [
    "set the axes label"
   ]
  },
  {
   "cell_type": "code",
   "execution_count": 71,
   "metadata": {},
   "outputs": [],
   "source": [
    "%%capture\n",
    "ax_11.set_xlabel(\"Te (eV)\")\n",
    "ax_11.set_ylabel(\"carbon ion density ($10^{18}m^{-3}$)\")"
   ]
  },
  {
   "cell_type": "markdown",
   "metadata": {},
   "source": [
    "add some explanation text"
   ]
  },
  {
   "cell_type": "code",
   "execution_count": 72,
   "metadata": {},
   "outputs": [],
   "source": [
    "ax_11_explain_text = ax_11.text(10, 8.5, \"0 < R - $R_{sep}$ < 1mm at OMP\")\n",
    "ax_11_explain_text.set_fontsize(12)"
   ]
  },
  {
   "cell_type": "code",
   "execution_count": 93,
   "metadata": {},
   "outputs": [],
   "source": [
    "ax_11_explain_text.set_position((10, 8.5))"
   ]
  },
  {
   "cell_type": "code",
   "execution_count": 97,
   "metadata": {},
   "outputs": [],
   "source": [
    "ax_11.set_xbound(3, 30)\n",
    "ax_11.set_ybound(0, 10)"
   ]
  },
  {
   "cell_type": "code",
   "execution_count": 100,
   "metadata": {},
   "outputs": [
    {
     "data": {
      "image/png": "[encoded data removed]",
      "text/plain": [
       "<Figure size 432x288 with 1 Axes>"
      ]
     },
     "execution_count": 100,
     "metadata": {},
     "output_type": "execute_result"
    }
   ],
   "source": [
    "fig_11"
   ]
  },
  {
   "cell_type": "code",
   "execution_count": null,
   "metadata": {},
   "outputs": [],
   "source": []
  },
  {
   "cell_type": "code",
   "execution_count": 101,
   "metadata": {},
   "outputs": [],
   "source": [
    "fig_11.savefig('nCIonP6-1mm_Scatter.svg', format='svg', bbox_inches='tight')"
   ]
  },
  {
   "cell_type": "code",
   "execution_count": null,
   "metadata": {},
   "outputs": [],
   "source": []
  },
  {
   "cell_type": "code",
   "execution_count": null,
   "metadata": {},
   "outputs": [],
   "source": []
  },
  {
   "cell_type": "markdown",
   "metadata": {},
   "source": [
    "the data along flux tubes within 1~2 mm radially out from the separatrix"
   ]
  },
  {
   "cell_type": "code",
   "execution_count": 102,
   "metadata": {},
   "outputs": [],
   "source": [
    "%%capture\n",
    "\n",
    "fig_12, ax_12 = plt.subplots()"
   ]
  },
  {
   "cell_type": "code",
   "execution_count": 103,
   "metadata": {},
   "outputs": [],
   "source": [
    "%%capture\n",
    "\n",
    "ax_12.scatter(SD_te_outerdiv[:, 19 : 22], SD_nCarbonIon_outerdiv_rescale[:, 19 : 22], c = \"w\", marker = \"s\", edgecolors = \"r\")\n",
    "ax_12.scatter(FS_te_outerdiv[:, 17 : 20], FS_nCarbonIon_outerdiv_rescale[:, 17 : 20], c = \"w\", marker = \"^\", edgecolors = \"m\")\n",
    "ax_12.scatter(XD_te_outerdiv[:, 21 : 24], XD_nCarbonIon_outerdiv_rescale[:, 21 : 24], c = \"w\", marker = \".\", edgecolors = \"b\")"
   ]
  },
  {
   "cell_type": "markdown",
   "metadata": {},
   "source": [
    "add legend using scatter plot trick"
   ]
  },
  {
   "cell_type": "code",
   "execution_count": 121,
   "metadata": {},
   "outputs": [],
   "source": [
    "%%capture\n",
    "\n",
    "ax_12_legend_marker_SD = ax_12.scatter([26.5], [6.0], c = \"w\", marker = \"s\", edgecolors = \"r\")\n",
    "ax_12_legend_marker_FS = ax_12.scatter([26.5], [5.0], c = \"w\", marker = \"^\", edgecolors = \"m\")\n",
    "ax_12_legend_marker_XD = ax_12.scatter([26.5], [4.0], c = \"w\", marker = \".\", edgecolors = \"b\")"
   ]
  },
  {
   "cell_type": "markdown",
   "metadata": {},
   "source": [
    "add legend text"
   ]
  },
  {
   "cell_type": "code",
   "execution_count": 105,
   "metadata": {},
   "outputs": [],
   "source": [
    "ax_12_legend_text_SD = ax_12.text(27.1, 5.85, \"SD10\")\n",
    "ax_12_legend_text_FS = ax_12.text(27.1, 4.85, \"SD20\")\n",
    "ax_12_legend_text_XD = ax_12.text(27.1, 3.85, \"XD\")"
   ]
  },
  {
   "cell_type": "code",
   "execution_count": 122,
   "metadata": {},
   "outputs": [],
   "source": [
    "ax_12_legend_text_SD.set_position((27.1, 5.85))\n",
    "ax_12_legend_text_FS.set_position((27.1, 4.85))\n",
    "ax_12_legend_text_XD.set_position((27.1, 3.85))"
   ]
  },
  {
   "cell_type": "markdown",
   "metadata": {},
   "source": [
    "set the axes label"
   ]
  },
  {
   "cell_type": "code",
   "execution_count": 106,
   "metadata": {},
   "outputs": [],
   "source": [
    "%%capture\n",
    "ax_12.set_xlabel(\"Te (eV)\")\n",
    "ax_12.set_ylabel(\"carbon ion density ($10^{18}m^{-3}$)\")"
   ]
  },
  {
   "cell_type": "markdown",
   "metadata": {},
   "source": [
    "add some explanation text"
   ]
  },
  {
   "cell_type": "code",
   "execution_count": 107,
   "metadata": {},
   "outputs": [],
   "source": [
    "ax_12_explain_text = ax_12.text(11, 7.0, \"1mm < R - $R_{sep}$ < 2mm at OMP\")\n",
    "ax_12_explain_text.set_fontsize(12)"
   ]
  },
  {
   "cell_type": "code",
   "execution_count": 118,
   "metadata": {},
   "outputs": [],
   "source": [
    "ax_12_explain_text.set_position((11, 7.0))"
   ]
  },
  {
   "cell_type": "code",
   "execution_count": 123,
   "metadata": {},
   "outputs": [],
   "source": [
    "ax_12.set_xbound(5, 30)\n",
    "ax_12.set_ybound(0, 8)"
   ]
  },
  {
   "cell_type": "code",
   "execution_count": 124,
   "metadata": {},
   "outputs": [
    {
     "data": {
      "image/png": "[encoded data removed]",
      "text/plain": [
       "<Figure size 432x288 with 1 Axes>"
      ]
     },
     "execution_count": 124,
     "metadata": {},
     "output_type": "execute_result"
    }
   ],
   "source": [
    "fig_12"
   ]
  },
  {
   "cell_type": "markdown",
   "metadata": {},
   "source": [
    "to adjust the relative size of the y_label and the axes"
   ]
  },
  {
   "cell_type": "code",
   "execution_count": 125,
   "metadata": {},
   "outputs": [
    {
     "data": {
      "image/png": "[encoded data removed]",
      "text/plain": [
       "<Figure size 432x288 with 1 Axes>"
      ]
     },
     "execution_count": 125,
     "metadata": {},
     "output_type": "execute_result"
    }
   ],
   "source": [
    "ax_12.set_position([0.125, 0.10999999999999999, 0.9, 0.9])\n",
    "fig_12"
   ]
  },
  {
   "cell_type": "code",
   "execution_count": null,
   "metadata": {},
   "outputs": [],
   "source": []
  },
  {
   "cell_type": "code",
   "execution_count": 126,
   "metadata": {},
   "outputs": [],
   "source": [
    "fig_12.savefig('nCIonP6-2mm_Scatter.svg', format='svg', bbox_inches='tight')"
   ]
  },
  {
   "cell_type": "code",
   "execution_count": null,
   "metadata": {},
   "outputs": [],
   "source": []
  },
  {
   "cell_type": "code",
   "execution_count": null,
   "metadata": {},
   "outputs": [],
   "source": []
  },
  {
   "cell_type": "markdown",
   "metadata": {},
   "source": [
    "### nCNeutral"
   ]
  },
  {
   "cell_type": "markdown",
   "metadata": {},
   "source": [
    "rescale the data"
   ]
  },
  {
   "cell_type": "code",
   "execution_count": 16,
   "metadata": {},
   "outputs": [],
   "source": [
    "SD_nNeutC_outerdiv_rescale = SD_nNeutC_outerdiv / 1e10\n",
    "FS_nNeutC_outerdiv_rescale = FS_nNeutC_outerdiv / 1e10\n",
    "XD_nNeutC_outerdiv_rescale = XD_nNeutC_outerdiv / 1e10"
   ]
  },
  {
   "cell_type": "markdown",
   "metadata": {},
   "source": [
    "the data along flux tubes within first 1mm radially out from the separatrix"
   ]
  },
  {
   "cell_type": "code",
   "execution_count": 17,
   "metadata": {},
   "outputs": [],
   "source": [
    "%%capture\n",
    "\n",
    "fig_13, ax_13 = plt.subplots()"
   ]
  },
  {
   "cell_type": "code",
   "execution_count": 18,
   "metadata": {},
   "outputs": [],
   "source": [
    "%%capture\n",
    "\n",
    "SD_13 = ax_13.scatter(SD_te_outerdiv[:, SD0203_mesh.iycut : 19], SD_nNeutC_outerdiv_rescale[:, SD0203_mesh.iycut : 19], c = \"w\", marker = \"s\", edgecolors = \"r\")\n",
    "FS_13 = ax_13.scatter(FS_te_outerdiv[:, FS0308_mesh.iycut : 17], FS_nNeutC_outerdiv_rescale[:, FS0308_mesh.iycut : 17], c = \"w\", marker = \"^\", edgecolors = \"m\")\n",
    "XD_13 = ax_13.scatter(XD_te_outerdiv[:, XD0130_mesh.iycut : 21], XD_nNeutC_outerdiv_rescale[:, XD0130_mesh.iycut : 21], c = \"w\", marker = \".\", edgecolors = \"b\")"
   ]
  },
  {
   "cell_type": "markdown",
   "metadata": {},
   "source": [
    "add legend using scatter plot trick"
   ]
  },
  {
   "cell_type": "code",
   "execution_count": 43,
   "metadata": {},
   "outputs": [],
   "source": [
    "%%capture\n",
    "\n",
    "ax_13_legend_marker_SD = ax_13.scatter([35.8], [1e5], c = \"w\", marker = \"s\", edgecolors = \"r\")\n",
    "ax_13_legend_marker_FS = ax_13.scatter([35.8], [1e4], c = \"w\", marker = \"^\", edgecolors = \"m\")\n",
    "ax_13_legend_marker_XD = ax_13.scatter([35.8], [1e3], c = \"w\", marker = \".\", edgecolors = \"b\")"
   ]
  },
  {
   "cell_type": "code",
   "execution_count": 42,
   "metadata": {},
   "outputs": [],
   "source": [
    "ax_13_legend_marker_SD.remove()\n",
    "ax_13_legend_marker_FS.remove()\n",
    "ax_13_legend_marker_XD.remove()"
   ]
  },
  {
   "cell_type": "markdown",
   "metadata": {},
   "source": [
    "add legend text"
   ]
  },
  {
   "cell_type": "code",
   "execution_count": 21,
   "metadata": {},
   "outputs": [],
   "source": [
    "ax_13_legend_text_SD = ax_13.text(34.8, 0.97e5, \"SD10\")\n",
    "ax_13_legend_text_FS = ax_13.text(34.8, 0.97e4, \"SD20\")\n",
    "ax_13_legend_text_XD = ax_13.text(34.8, 0.97e3, \"XD\")"
   ]
  },
  {
   "cell_type": "code",
   "execution_count": 44,
   "metadata": {},
   "outputs": [],
   "source": [
    "ax_13_legend_text_SD.set_position((36.6, 0.8e5))\n",
    "ax_13_legend_text_FS.set_position((36.6, 0.8e4))\n",
    "ax_13_legend_text_XD.set_position((36.6, 0.8e3))"
   ]
  },
  {
   "cell_type": "markdown",
   "metadata": {},
   "source": [
    "set the axes label"
   ]
  },
  {
   "cell_type": "code",
   "execution_count": 47,
   "metadata": {},
   "outputs": [],
   "source": [
    "%%capture\n",
    "ax_13.set_xlabel(\"Te (eV)\")\n",
    "ax_13.set_ylabel(\"carbon neutral density ($10^{10}m^{-3}$)\")"
   ]
  },
  {
   "cell_type": "markdown",
   "metadata": {},
   "source": [
    "add some explanation text"
   ]
  },
  {
   "cell_type": "code",
   "execution_count": 48,
   "metadata": {},
   "outputs": [],
   "source": [
    "ax_13_explain_text = ax_13.text(13, 1.5e5, \"0 < R - $R_{sep}$ < 1mm at OMP\")\n",
    "ax_13_explain_text.set_fontsize(12)"
   ]
  },
  {
   "cell_type": "code",
   "execution_count": 22,
   "metadata": {},
   "outputs": [],
   "source": [
    "ax_13.set_yscale(\"log\")"
   ]
  },
  {
   "cell_type": "code",
   "execution_count": 45,
   "metadata": {},
   "outputs": [],
   "source": [
    "ax_13.set_xbound(5, 40)\n",
    "ax_13.set_ybound(1, 1e6)"
   ]
  },
  {
   "cell_type": "code",
   "execution_count": 27,
   "metadata": {},
   "outputs": [],
   "source": [
    "ax_13.invert_yaxis()"
   ]
  },
  {
   "cell_type": "code",
   "execution_count": 49,
   "metadata": {},
   "outputs": [
    {
     "data": {
      "image/png": "[encoded data removed]",
      "text/plain": [
       "<Figure size 432x288 with 1 Axes>"
      ]
     },
     "execution_count": 49,
     "metadata": {},
     "output_type": "execute_result"
    }
   ],
   "source": [
    "fig_13"
   ]
  },
  {
   "cell_type": "code",
   "execution_count": null,
   "metadata": {},
   "outputs": [],
   "source": []
  },
  {
   "cell_type": "code",
   "execution_count": 50,
   "metadata": {},
   "outputs": [],
   "source": [
    "fig_13.savefig('nCNeutP6-1mm_Scatter.svg', format='svg', bbox_inches='tight')"
   ]
  },
  {
   "cell_type": "code",
   "execution_count": null,
   "metadata": {},
   "outputs": [],
   "source": []
  },
  {
   "cell_type": "code",
   "execution_count": null,
   "metadata": {},
   "outputs": [],
   "source": []
  },
  {
   "cell_type": "markdown",
   "metadata": {},
   "source": [
    "the data along flux tubes within 1~2 mm radially out from the separatrix"
   ]
  },
  {
   "cell_type": "code",
   "execution_count": 51,
   "metadata": {},
   "outputs": [],
   "source": [
    "%%capture\n",
    "\n",
    "fig_14, ax_14 = plt.subplots()"
   ]
  },
  {
   "cell_type": "code",
   "execution_count": 52,
   "metadata": {},
   "outputs": [],
   "source": [
    "%%capture\n",
    "\n",
    "ax_14.scatter(SD_te_outerdiv[:, 19 : 22], SD_nNeutC_outerdiv_rescale[:, 19 : 22], c = \"w\", marker = \"s\", edgecolors = \"r\")\n",
    "ax_14.scatter(FS_te_outerdiv[:, 17 : 20], FS_nNeutC_outerdiv_rescale[:, 17 : 20], c = \"w\", marker = \"^\", edgecolors = \"m\")\n",
    "ax_14.scatter(XD_te_outerdiv[:, 21 : 24], XD_nNeutC_outerdiv_rescale[:, 21 : 24], c = \"w\", marker = \".\", edgecolors = \"b\")"
   ]
  },
  {
   "cell_type": "markdown",
   "metadata": {},
   "source": [
    "add legend using scatter plot trick"
   ]
  },
  {
   "cell_type": "code",
   "execution_count": 62,
   "metadata": {},
   "outputs": [],
   "source": [
    "%%capture\n",
    "\n",
    "ax_14_legend_marker_SD = ax_14.scatter([40], [1e6], c = \"w\", marker = \"s\", edgecolors = \"r\")\n",
    "ax_14_legend_marker_FS = ax_14.scatter([40], [1e5], c = \"w\", marker = \"^\", edgecolors = \"m\")\n",
    "ax_14_legend_marker_XD = ax_14.scatter([40], [1e4], c = \"w\", marker = \".\", edgecolors = \"b\")"
   ]
  },
  {
   "cell_type": "markdown",
   "metadata": {},
   "source": [
    "add legend text"
   ]
  },
  {
   "cell_type": "code",
   "execution_count": 65,
   "metadata": {},
   "outputs": [],
   "source": [
    "ax_14_legend_text_SD = ax_14.text(40.8, 0.8e6, \"SD10\")\n",
    "ax_14_legend_text_FS = ax_14.text(40.8, 0.8e5, \"SD20\")\n",
    "ax_14_legend_text_XD = ax_14.text(40.8, 0.8e4, \"XD\")"
   ]
  },
  {
   "cell_type": "markdown",
   "metadata": {},
   "source": [
    "set the axes label"
   ]
  },
  {
   "cell_type": "code",
   "execution_count": 67,
   "metadata": {},
   "outputs": [],
   "source": [
    "%%capture\n",
    "ax_14.set_xlabel(\"Te (eV)\")\n",
    "ax_14.set_ylabel(\"carbon neutral density ($10^{10}m^{-3}$)\")"
   ]
  },
  {
   "cell_type": "markdown",
   "metadata": {},
   "source": [
    "add some explanation text"
   ]
  },
  {
   "cell_type": "code",
   "execution_count": 68,
   "metadata": {},
   "outputs": [],
   "source": [
    "ax_14_explain_text = ax_14.text(18, 2e6, \"1mm < R - $R_{sep}$ < 2mm at OMP\")\n",
    "ax_14_explain_text.set_fontsize(12)"
   ]
  },
  {
   "cell_type": "code",
   "execution_count": 72,
   "metadata": {},
   "outputs": [],
   "source": [
    "ax_14_explain_text.set_position((17, 3e6))"
   ]
  },
  {
   "cell_type": "code",
   "execution_count": 54,
   "metadata": {},
   "outputs": [],
   "source": [
    "ax_14.set_yscale(\"log\")"
   ]
  },
  {
   "cell_type": "code",
   "execution_count": 63,
   "metadata": {},
   "outputs": [],
   "source": [
    "ax_14.set_xbound(5, 45)\n",
    "ax_14.set_ybound(1, 1e7)"
   ]
  },
  {
   "cell_type": "code",
   "execution_count": 58,
   "metadata": {},
   "outputs": [],
   "source": [
    "ax_14.invert_yaxis()"
   ]
  },
  {
   "cell_type": "code",
   "execution_count": 73,
   "metadata": {},
   "outputs": [
    {
     "data": {
      "image/png": "[encoded data removed]",
      "text/plain": [
       "<Figure size 432x288 with 1 Axes>"
      ]
     },
     "execution_count": 73,
     "metadata": {},
     "output_type": "execute_result"
    }
   ],
   "source": [
    "fig_14"
   ]
  },
  {
   "cell_type": "markdown",
   "metadata": {},
   "source": [
    "to adjust the relative size of the y_label and the axes"
   ]
  },
  {
   "cell_type": "code",
   "execution_count": 74,
   "metadata": {},
   "outputs": [
    {
     "data": {
      "image/png": "[encoded data removed]",
      "text/plain": [
       "<Figure size 432x288 with 1 Axes>"
      ]
     },
     "execution_count": 74,
     "metadata": {},
     "output_type": "execute_result"
    }
   ],
   "source": [
    "ax_14.set_position([0.125, 0.10999999999999999, 0.9, 0.9])\n",
    "fig_14"
   ]
  },
  {
   "cell_type": "code",
   "execution_count": null,
   "metadata": {},
   "outputs": [],
   "source": []
  },
  {
   "cell_type": "code",
   "execution_count": 75,
   "metadata": {},
   "outputs": [],
   "source": [
    "fig_14.savefig('nCNeutP6-2mm_Scatter.svg', format='svg', bbox_inches='tight')"
   ]
  },
  {
   "cell_type": "code",
   "execution_count": null,
   "metadata": {},
   "outputs": [],
   "source": []
  }
 ],
 "metadata": {
  "kernelspec": {
   "display_name": "Python 3",
   "language": "python",
   "name": "python3"
  },
  "language_info": {
   "codemirror_mode": {
    "name": "ipython",
    "version": 3
   },
   "file_extension": ".py",
   "mimetype": "text/x-python",
   "name": "python",
   "nbconvert_exporter": "python",
   "pygments_lexer": "ipython3",
   "version": "3.6.7"
  }
 },
 "nbformat": 4,
 "nbformat_minor": 2
}
