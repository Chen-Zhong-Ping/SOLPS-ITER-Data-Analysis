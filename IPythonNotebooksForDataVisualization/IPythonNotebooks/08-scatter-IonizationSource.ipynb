{
 "cells": [
  {
   "cell_type": "code",
   "execution_count": 1,
   "metadata": {},
   "outputs": [],
   "source": [
    "from packages.data_classes.data2D import Data2D\n",
    "from packages.data_classes.mesh import Mesh\n",
    "from packages.plot_classes.tangram import Tangram"
   ]
  },
  {
   "cell_type": "code",
   "execution_count": 2,
   "metadata": {},
   "outputs": [],
   "source": [
    "import numpy"
   ]
  },
  {
   "cell_type": "code",
   "execution_count": 3,
   "metadata": {},
   "outputs": [],
   "source": [
    "SD0203_mesh = Mesh('./Data/Geometry/SD/S20190203@25-6-66_24-6.v001.sno')\n",
    "FS0308_mesh = Mesh('./Data/Geometry/FS/S20190308@25-10-50_25-6.v001.sno')\n",
    "XD0130_mesh = Mesh('./Data/Geometry/XD/X20190130@31-12-68_26-6.v001.sno')"
   ]
  },
  {
   "cell_type": "markdown",
   "metadata": {},
   "source": [
    "be careful! data2D reads in IyIx order but quadmesh has to drawn in IxIy order to take care of the cuts!"
   ]
  },
  {
   "cell_type": "code",
   "execution_count": 4,
   "metadata": {},
   "outputs": [],
   "source": [
    "# ionization source for D+ from Eirene\n",
    "SD_brna1 = Data2D(SD0203_mesh, './Data/SDP6/2D_data/particleSource/ionizationSource_fromEirene/brna-1_2D')\n",
    "\n",
    "FS_brna1 = Data2D(FS0308_mesh, './Data/FSP6/2D_data/particleSource/ionizationSource_fromEirene/brna-1_2D')\n",
    "\n",
    "XD_brna1 = Data2D(XD0130_mesh, './Data/XDP6/2D_data/particleSource/ionizationSource_fromEirene/brna-1_2D')"
   ]
  },
  {
   "cell_type": "markdown",
   "metadata": {},
   "source": [
    "special: take a look at the total energy loss due to D ionization"
   ]
  },
  {
   "cell_type": "code",
   "execution_count": 5,
   "metadata": {},
   "outputs": [],
   "source": [
    "# in outer divertor region\n",
    "SD_IonSourceD_outerdiv = SD_brna1.IyIx[SD0203_mesh.iycut : , SD0203_mesh.ixcut[1] : ]\n",
    "\n",
    "FS_IonSourceD_outerdiv = FS_brna1.IyIx[FS0308_mesh.iycut : , FS0308_mesh.ixcut[1] : ]\n",
    "\n",
    "XD_IonSourceD_outerdiv = XD_brna1.IyIx[XD0130_mesh.iycut : , XD0130_mesh.ixcut[1] : ]"
   ]
  },
  {
   "cell_type": "code",
   "execution_count": 7,
   "metadata": {},
   "outputs": [
    {
     "name": "stdout",
     "output_type": "stream",
     "text": [
      "0.44816340861117127\n",
      "0.8175165856737431\n",
      "0.22142510988022762\n"
     ]
    }
   ],
   "source": [
    "# total D+ ionization energy loss(per second) in outer divertor region\n",
    "# 1ev = 1.60218e-19 J\n",
    "\n",
    "print(numpy.sum(SD_IonSourceD_outerdiv) * 13.6 * 1.60218e-19 / 1e6)\n",
    "print(numpy.sum(FS_IonSourceD_outerdiv) * 13.6 * 1.60218e-19 / 1e6)\n",
    "print(numpy.sum(XD_IonSourceD_outerdiv) * 13.6 * 1.60218e-19 / 1e6)"
   ]
  },
  {
   "cell_type": "code",
   "execution_count": 4,
   "metadata": {},
   "outputs": [],
   "source": [
    "# ionization source for C1+ ~ C6+ from Eirene\n",
    "SD_brna3 = Data2D(SD0203_mesh, './Data/SDP6/2D_data/particleSource/ionizationSource_fromEirene/brna-3_2D')\n",
    "SD_brna4 = Data2D(SD0203_mesh, './Data/SDP6/2D_data/particleSource/ionizationSource_fromEirene/brna-4_2D')\n",
    "SD_brna5 = Data2D(SD0203_mesh, './Data/SDP6/2D_data/particleSource/ionizationSource_fromEirene/brna-5_2D')\n",
    "SD_brna6 = Data2D(SD0203_mesh, './Data/SDP6/2D_data/particleSource/ionizationSource_fromEirene/brna-6_2D')\n",
    "SD_brna7 = Data2D(SD0203_mesh, './Data/SDP6/2D_data/particleSource/ionizationSource_fromEirene/brna-7_2D')\n",
    "SD_brna8 = Data2D(SD0203_mesh, './Data/SDP6/2D_data/particleSource/ionizationSource_fromEirene/brna-8_2D')\n",
    "\n",
    "FS_brna3 = Data2D(FS0308_mesh, './Data/FSP6/2D_data/particleSource/ionizationSource_fromEirene/brna-3_2D')\n",
    "FS_brna4 = Data2D(FS0308_mesh, './Data/FSP6/2D_data/particleSource/ionizationSource_fromEirene/brna-4_2D')\n",
    "FS_brna5 = Data2D(FS0308_mesh, './Data/FSP6/2D_data/particleSource/ionizationSource_fromEirene/brna-5_2D')\n",
    "FS_brna6 = Data2D(FS0308_mesh, './Data/FSP6/2D_data/particleSource/ionizationSource_fromEirene/brna-6_2D')\n",
    "FS_brna7 = Data2D(FS0308_mesh, './Data/FSP6/2D_data/particleSource/ionizationSource_fromEirene/brna-7_2D')\n",
    "FS_brna8 = Data2D(FS0308_mesh, './Data/FSP6/2D_data/particleSource/ionizationSource_fromEirene/brna-8_2D')\n",
    "\n",
    "XD_brna3 = Data2D(XD0130_mesh, './Data/XDP6/2D_data/particleSource/ionizationSource_fromEirene/brna-3_2D')\n",
    "XD_brna4 = Data2D(XD0130_mesh, './Data/XDP6/2D_data/particleSource/ionizationSource_fromEirene/brna-4_2D')\n",
    "XD_brna5 = Data2D(XD0130_mesh, './Data/XDP6/2D_data/particleSource/ionizationSource_fromEirene/brna-5_2D')\n",
    "XD_brna6 = Data2D(XD0130_mesh, './Data/XDP6/2D_data/particleSource/ionizationSource_fromEirene/brna-6_2D')\n",
    "XD_brna7 = Data2D(XD0130_mesh, './Data/XDP6/2D_data/particleSource/ionizationSource_fromEirene/brna-7_2D')\n",
    "XD_brna8 = Data2D(XD0130_mesh, './Data/XDP6/2D_data/particleSource/ionizationSource_fromEirene/brna-8_2D')"
   ]
  },
  {
   "cell_type": "code",
   "execution_count": 5,
   "metadata": {},
   "outputs": [],
   "source": [
    "# cell volume\n",
    "SD_vol = Data2D(SD0203_mesh, './Data/SDP6/2D_data/geometry/vol_2D')\n",
    "\n",
    "FS_vol = Data2D(FS0308_mesh, './Data/FSP6/2D_data/geometry/vol_2D')\n",
    "\n",
    "XD_vol = Data2D(XD0130_mesh, './Data/XDP6/2D_data/geometry/vol_2D')"
   ]
  },
  {
   "cell_type": "code",
   "execution_count": 5,
   "metadata": {},
   "outputs": [],
   "source": [
    "# electron density\n",
    "SD_ne = Data2D(SD0203_mesh, './Data/SDP6/2D_data/density/n_electron/ne_2D')\n",
    "\n",
    "FS_ne = Data2D(FS0308_mesh, './Data/FSP6/2D_data/density/n_electron/ne_2D')\n",
    "\n",
    "XD_ne = Data2D(XD0130_mesh, './Data/XDP6/2D_data/density/n_electron/ne_2D')\n"
   ]
  },
  {
   "cell_type": "code",
   "execution_count": 6,
   "metadata": {},
   "outputs": [],
   "source": [
    "# electron temperature\n",
    "SD_te = Data2D(SD0203_mesh, './Data/SDP6/2D_data/temperature/T_electron/te_2D')\n",
    "\n",
    "FS_te = Data2D(FS0308_mesh, './Data/FSP6/2D_data/temperature/T_electron/te_2D')\n",
    "\n",
    "XD_te = Data2D(XD0130_mesh, './Data/XDP6/2D_data/temperature/T_electron/te_2D')"
   ]
  },
  {
   "cell_type": "markdown",
   "metadata": {},
   "source": [
    "calculate ionization source density"
   ]
  },
  {
   "cell_type": "code",
   "execution_count": 7,
   "metadata": {},
   "outputs": [],
   "source": [
    "# total carbon ionization source in all regions\n",
    "\n",
    "SD_IonSourceC = SD_brna3.IyIx + SD_brna4.IyIx + SD_brna5.IyIx + SD_brna6.IyIx + SD_brna7.IyIx + SD_brna8.IyIx\n",
    "\n",
    "FS_IonSourceC = FS_brna3.IyIx + FS_brna4.IyIx + FS_brna5.IyIx + FS_brna6.IyIx + FS_brna7.IyIx + FS_brna8.IyIx\n",
    "\n",
    "XD_IonSourceC = XD_brna3.IyIx + XD_brna4.IyIx + XD_brna5.IyIx + XD_brna6.IyIx + XD_brna7.IyIx + XD_brna8.IyIx\n",
    "\n",
    "# compute source density\n",
    "# carbon ionization source density\n",
    "\n",
    "SD_IonSourceDensityC = SD_IonSourceC/SD_vol.IyIx\n",
    "\n",
    "FS_IonSourceDensityC = FS_IonSourceC/FS_vol.IyIx\n",
    "\n",
    "XD_IonSourceDensityC = XD_IonSourceC/XD_vol.IyIx"
   ]
  },
  {
   "cell_type": "code",
   "execution_count": null,
   "metadata": {},
   "outputs": [],
   "source": [
    "# deuterium ionization source density\n",
    "\n",
    "SD_IonSourceDensityD = SD_brna1.IyIx/SD_vol.IyIx\n",
    "\n",
    "FS_IonSourceDensityD = FS_brna1.IyIx/FS_vol.IyIx\n",
    "\n",
    "XD_IonSourceDensityD = XD_brna1.IyIx/XD_vol.IyIx"
   ]
  },
  {
   "cell_type": "markdown",
   "metadata": {},
   "source": [
    "take out the outer divertor part and transpose"
   ]
  },
  {
   "cell_type": "code",
   "execution_count": 8,
   "metadata": {},
   "outputs": [],
   "source": [
    "# carbon ionization source density outer divertor\n",
    "\n",
    "SD_IonSourceDensityC_outerdiv = numpy.transpose(SD_IonSourceDensityC[:, SD0203_mesh.ixcut[1]:])\n",
    "\n",
    "FS_IonSourceDensityC_outerdiv = numpy.transpose(FS_IonSourceDensityC[:, FS0308_mesh.ixcut[1]:])\n",
    "\n",
    "XD_IonSourceDensityC_outerdiv = numpy.transpose(XD_IonSourceDensityC[:, XD0130_mesh.ixcut[1]:])"
   ]
  },
  {
   "cell_type": "code",
   "execution_count": null,
   "metadata": {},
   "outputs": [],
   "source": [
    "# deuterium ionization source density outer divertor\n",
    "\n",
    "SD_IonSourceDensityD_outerdiv = numpy.transpose(SD_IonSourceDensityD[:, SD0203_mesh.ixcut[1]:])\n",
    "\n",
    "FS_IonSourceDensityD_outerdiv = numpy.transpose(FS_IonSourceDensityD[:, FS0308_mesh.ixcut[1]:])\n",
    "\n",
    "XD_IonSourceDensityD_outerdiv = numpy.transpose(XD_IonSourceDensityD[:, XD0130_mesh.ixcut[1]:])"
   ]
  },
  {
   "cell_type": "code",
   "execution_count": 9,
   "metadata": {},
   "outputs": [],
   "source": [
    "# te outer divertor\n",
    "SD_te_outerdiv = numpy.transpose(SD_te.IyIx[:, SD0203_mesh.ixcut[1]:])\n",
    "\n",
    "FS_te_outerdiv = numpy.transpose(FS_te.IyIx[:, FS0308_mesh.ixcut[1]:])\n",
    "\n",
    "XD_te_outerdiv = numpy.transpose(XD_te.IyIx[:, XD0130_mesh.ixcut[1]:])"
   ]
  },
  {
   "cell_type": "code",
   "execution_count": null,
   "metadata": {},
   "outputs": [],
   "source": [
    "# electron density\n",
    "SD_ne_outerdiv = numpy.transpose(SD_ne.IyIx[:, SD0203_mesh.ixcut[1]:])\n",
    "\n",
    "FS_ne_outerdiv = numpy.transpose(FS_ne.IyIx[:, FS0308_mesh.ixcut[1]:])\n",
    "\n",
    "XD_ne_outerdiv = numpy.transpose(XD_ne.IyIx[:, XD0130_mesh.ixcut[1]:])"
   ]
  },
  {
   "cell_type": "code",
   "execution_count": null,
   "metadata": {},
   "outputs": [],
   "source": [
    "# cell volume\n",
    "SD_vol_outerdiv = numpy.transpose(SD_vol.IyIx[:, SD0203_mesh.ixcut[1]:])\n",
    "\n",
    "FS_vol_outerdiv = numpy.transpose(FS_vol.IyIx[:, FS0308_mesh.ixcut[1]:])\n",
    "\n",
    "XD_vol_outerdiv = numpy.transpose(XD_vol.IyIx[:, XD0130_mesh.ixcut[1]:])"
   ]
  },
  {
   "cell_type": "code",
   "execution_count": null,
   "metadata": {},
   "outputs": [],
   "source": []
  },
  {
   "cell_type": "code",
   "execution_count": null,
   "metadata": {},
   "outputs": [],
   "source": []
  },
  {
   "cell_type": "code",
   "execution_count": null,
   "metadata": {},
   "outputs": [],
   "source": []
  },
  {
   "cell_type": "markdown",
   "metadata": {},
   "source": []
  },
  {
   "cell_type": "markdown",
   "metadata": {},
   "source": [
    "# start attempting plots"
   ]
  },
  {
   "cell_type": "markdown",
   "metadata": {},
   "source": [
    "## prepare figure and its axes"
   ]
  },
  {
   "cell_type": "code",
   "execution_count": 10,
   "metadata": {},
   "outputs": [],
   "source": [
    "import matplotlib.pyplot as plt"
   ]
  },
  {
   "cell_type": "markdown",
   "metadata": {},
   "source": [
    "### do scatter plots"
   ]
  },
  {
   "cell_type": "markdown",
   "metadata": {},
   "source": [
    "carbon ionization source density"
   ]
  },
  {
   "cell_type": "markdown",
   "metadata": {},
   "source": [
    "the data along flux tubes within first 1mm radially out from the separatrix"
   ]
  },
  {
   "cell_type": "code",
   "execution_count": 11,
   "metadata": {},
   "outputs": [],
   "source": [
    "%%capture\n",
    "\n",
    "fig_1, ax_1 = plt.subplots()"
   ]
  },
  {
   "cell_type": "code",
   "execution_count": 24,
   "metadata": {},
   "outputs": [],
   "source": [
    "%%capture\n",
    "\n",
    "ax_1.scatter(SD_te_outerdiv[:, SD0203_mesh.iycut : 19], SD_IonSourceDensityC_outerdiv[:, SD0203_mesh.iycut : 19], c = \"w\", marker = \"s\", edgecolors = \"r\")\n",
    "ax_1.scatter(FS_te_outerdiv[:, FS0308_mesh.iycut : 17], FS_IonSourceDensityC_outerdiv[:, FS0308_mesh.iycut : 17], c = \"w\", marker = \"^\", edgecolors = \"m\")\n",
    "ax_1.scatter(XD_te_outerdiv[:, XD0130_mesh.iycut : 21], XD_IonSourceDensityC_outerdiv[:, XD0130_mesh.iycut : 21], c = \"w\", marker = \".\", edgecolors = \"b\")"
   ]
  },
  {
   "cell_type": "markdown",
   "metadata": {},
   "source": [
    "add legend using scatter plot trick"
   ]
  },
  {
   "cell_type": "code",
   "execution_count": 37,
   "metadata": {},
   "outputs": [],
   "source": [
    "%%capture\n",
    "\n",
    "ax_1_legend_marker_SD = ax_1.scatter([35.5], [1e24], c = \"w\", marker = \"s\", edgecolors = \"r\")\n",
    "ax_1_legend_marker_FS = ax_1.scatter([35.5], [1e23], c = \"w\", marker = \"^\", edgecolors = \"m\")\n",
    "ax_1_legend_marker_XD = ax_1.scatter([35.5], [1e22], c = \"w\", marker = \".\", edgecolors = \"b\")"
   ]
  },
  {
   "cell_type": "markdown",
   "metadata": {},
   "source": [
    "add legend text"
   ]
  },
  {
   "cell_type": "code",
   "execution_count": 40,
   "metadata": {},
   "outputs": [],
   "source": [
    "ax_1_legend_text_SD = ax_1.text(36.1, 8e23, \"SD10\")\n",
    "ax_1_legend_text_FS = ax_1.text(36.1, 8e22, \"SD20\")\n",
    "ax_1_legend_text_XD = ax_1.text(36.1, 8e21, \"XD\")"
   ]
  },
  {
   "cell_type": "code",
   "execution_count": 47,
   "metadata": {},
   "outputs": [],
   "source": [
    "ax_1_legend_text_SD.set_position((36.1, 6e23))\n",
    "ax_1_legend_text_FS.set_position((36.1, 6e22))\n",
    "ax_1_legend_text_XD.set_position((36.1, 6e21))"
   ]
  },
  {
   "cell_type": "markdown",
   "metadata": {},
   "source": [
    "set the axes label"
   ]
  },
  {
   "cell_type": "code",
   "execution_count": 41,
   "metadata": {},
   "outputs": [],
   "source": [
    "%%capture\n",
    "ax_1.set_xlabel(\"Te (eV)\")\n",
    "ax_1.set_ylabel(\"carbon ionization source density ($m^{-3}$$s^{-1}$)\")"
   ]
  },
  {
   "cell_type": "markdown",
   "metadata": {},
   "source": [
    "add explanation text"
   ]
  },
  {
   "cell_type": "code",
   "execution_count": 49,
   "metadata": {},
   "outputs": [],
   "source": [
    "ax_1_explain_text = ax_1.text(10, 6e23, \"0 < R - $R_{sep}$ < 1mm at OMP\")\n",
    "ax_1_explain_text.set_fontsize(12)"
   ]
  },
  {
   "cell_type": "code",
   "execution_count": 54,
   "metadata": {},
   "outputs": [],
   "source": [
    "ax_1_explain_text.set_position((12.5, 6e23))"
   ]
  },
  {
   "cell_type": "code",
   "execution_count": 26,
   "metadata": {},
   "outputs": [],
   "source": [
    "ax_1.set_yscale(\"log\")"
   ]
  },
  {
   "cell_type": "code",
   "execution_count": 38,
   "metadata": {},
   "outputs": [],
   "source": [
    "ax_1.set_xbound(5, 40)\n",
    "ax_1.set_ybound(1e15, 1e25)"
   ]
  },
  {
   "cell_type": "code",
   "execution_count": 52,
   "metadata": {},
   "outputs": [],
   "source": [
    "ax_1.set_position([0.1, 0.1, 0.9, 0.9])"
   ]
  },
  {
   "cell_type": "code",
   "execution_count": 55,
   "metadata": {},
   "outputs": [
    {
     "data": {
      "image/png": "[encoded data removed]",
      "text/plain": [
       "<Figure size 432x288 with 1 Axes>"
      ]
     },
     "execution_count": 55,
     "metadata": {},
     "output_type": "execute_result"
    }
   ],
   "source": [
    "fig_1"
   ]
  },
  {
   "cell_type": "code",
   "execution_count": null,
   "metadata": {},
   "outputs": [],
   "source": []
  },
  {
   "cell_type": "code",
   "execution_count": 56,
   "metadata": {},
   "outputs": [],
   "source": [
    "fig_1.savefig('CIonizationSourceDensityP6-1mm_Scatter.svg', format='svg', bbox_inches='tight')"
   ]
  },
  {
   "cell_type": "code",
   "execution_count": null,
   "metadata": {},
   "outputs": [],
   "source": []
  },
  {
   "cell_type": "code",
   "execution_count": null,
   "metadata": {},
   "outputs": [],
   "source": []
  },
  {
   "cell_type": "markdown",
   "metadata": {},
   "source": [
    "the data along flux tubes within 1 ~ 2mm radially out from the separatrix"
   ]
  },
  {
   "cell_type": "code",
   "execution_count": 57,
   "metadata": {},
   "outputs": [],
   "source": [
    "%%capture\n",
    "\n",
    "fig_2, ax_2 = plt.subplots()"
   ]
  },
  {
   "cell_type": "code",
   "execution_count": 60,
   "metadata": {},
   "outputs": [],
   "source": [
    "%%capture\n",
    "\n",
    "ax_2.scatter(SD_te_outerdiv[:, 19 : 22], SD_IonSourceDensityC_outerdiv[:, 19 : 22], c = \"w\", marker = \"s\", edgecolors = \"r\")\n",
    "ax_2.scatter(FS_te_outerdiv[:, 17 : 20], FS_IonSourceDensityC_outerdiv[:, 17 : 20], c = \"w\", marker = \"^\", edgecolors = \"m\")\n",
    "ax_2.scatter(XD_te_outerdiv[:, 21 : 24], XD_IonSourceDensityC_outerdiv[:, 21 : 24], c = \"w\", marker = \".\", edgecolors = \"b\")"
   ]
  },
  {
   "cell_type": "markdown",
   "metadata": {},
   "source": [
    "add legend using scatter plot trick"
   ]
  },
  {
   "cell_type": "code",
   "execution_count": 68,
   "metadata": {},
   "outputs": [],
   "source": [
    "%%capture\n",
    "\n",
    "ax_2_legend_marker_SD = ax_2.scatter([35.5], [1e24], c = \"w\", marker = \"s\", edgecolors = \"r\")\n",
    "ax_2_legend_marker_FS = ax_2.scatter([35.5], [1e23], c = \"w\", marker = \"^\", edgecolors = \"m\")\n",
    "ax_2_legend_marker_XD = ax_2.scatter([35.5], [1e22], c = \"w\", marker = \".\", edgecolors = \"b\")"
   ]
  },
  {
   "cell_type": "markdown",
   "metadata": {},
   "source": [
    "add legend text"
   ]
  },
  {
   "cell_type": "code",
   "execution_count": 69,
   "metadata": {},
   "outputs": [],
   "source": [
    "ax_2_legend_text_SD = ax_2.text(36.1, 6e23, \"SD10\")\n",
    "ax_2_legend_text_FS = ax_2.text(36.1, 6e22, \"SD20\")\n",
    "ax_2_legend_text_XD = ax_2.text(36.1, 6e21, \"XD\")"
   ]
  },
  {
   "cell_type": "code",
   "execution_count": 47,
   "metadata": {},
   "outputs": [],
   "source": [
    "ax_2_legend_text_SD.set_position((36.1, 6e23))\n",
    "ax_2_legend_text_FS.set_position((36.1, 6e22))\n",
    "ax_2_legend_text_XD.set_position((36.1, 6e21))"
   ]
  },
  {
   "cell_type": "markdown",
   "metadata": {},
   "source": [
    "set the axes label"
   ]
  },
  {
   "cell_type": "code",
   "execution_count": 70,
   "metadata": {},
   "outputs": [],
   "source": [
    "%%capture\n",
    "ax_2.set_xlabel(\"Te (eV)\")\n",
    "ax_2.set_ylabel(\"carbon ionization source density ($m^{-3}$$s^{-1}$)\")"
   ]
  },
  {
   "cell_type": "markdown",
   "metadata": {},
   "source": [
    "add explanation text"
   ]
  },
  {
   "cell_type": "code",
   "execution_count": 71,
   "metadata": {},
   "outputs": [],
   "source": [
    "ax_2_explain_text = ax_2.text(16, 8e15, \"1mm < R - $R_{sep}$ < 2mm at OMP\")\n",
    "ax_2_explain_text.set_fontsize(12)"
   ]
  },
  {
   "cell_type": "code",
   "execution_count": 54,
   "metadata": {},
   "outputs": [],
   "source": [
    "ax_2_explain_text.set_position((12.5, 6e23))"
   ]
  },
  {
   "cell_type": "code",
   "execution_count": 61,
   "metadata": {},
   "outputs": [],
   "source": [
    "ax_2.set_yscale(\"log\")"
   ]
  },
  {
   "cell_type": "code",
   "execution_count": 72,
   "metadata": {},
   "outputs": [],
   "source": [
    "ax_2.set_xbound(5, 40)\n",
    "ax_2.set_ybound(1e15, 1e25)"
   ]
  },
  {
   "cell_type": "code",
   "execution_count": 74,
   "metadata": {},
   "outputs": [],
   "source": [
    "ax_2.set_position([0.1, 0.1, 0.9, 0.9])"
   ]
  },
  {
   "cell_type": "code",
   "execution_count": 75,
   "metadata": {},
   "outputs": [
    {
     "data": {
      "image/png": "[encoded data removed]",
      "text/plain": [
       "<Figure size 432x288 with 1 Axes>"
      ]
     },
     "execution_count": 75,
     "metadata": {},
     "output_type": "execute_result"
    }
   ],
   "source": [
    "fig_2"
   ]
  },
  {
   "cell_type": "code",
   "execution_count": null,
   "metadata": {},
   "outputs": [],
   "source": []
  },
  {
   "cell_type": "code",
   "execution_count": 76,
   "metadata": {},
   "outputs": [],
   "source": [
    "fig_2.savefig('CIonizationSourceDensityP6-2mm_Scatter.svg', format='svg', bbox_inches='tight')"
   ]
  },
  {
   "cell_type": "code",
   "execution_count": null,
   "metadata": {},
   "outputs": [],
   "source": []
  }
 ],
 "metadata": {
  "kernelspec": {
   "display_name": "Python 3",
   "language": "python",
   "name": "python3"
  },
  "language_info": {
   "codemirror_mode": {
    "name": "ipython",
    "version": 3
   },
   "file_extension": ".py",
   "mimetype": "text/x-python",
   "name": "python",
   "nbconvert_exporter": "python",
   "pygments_lexer": "ipython3",
   "version": "3.6.7"
  }
 },
 "nbformat": 4,
 "nbformat_minor": 2
}
