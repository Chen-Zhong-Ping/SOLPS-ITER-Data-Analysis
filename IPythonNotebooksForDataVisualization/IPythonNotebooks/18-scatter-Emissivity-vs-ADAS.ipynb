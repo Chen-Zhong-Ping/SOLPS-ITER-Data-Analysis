{
 "cells": [
  {
   "cell_type": "code",
   "execution_count": 1,
   "metadata": {},
   "outputs": [],
   "source": [
    "from packages.data_classes.data2D import Data2D\n",
    "from packages.data_classes.mesh import Mesh\n",
    "from packages.plot_classes.tangram import Tangram"
   ]
  },
  {
   "cell_type": "code",
   "execution_count": 2,
   "metadata": {},
   "outputs": [],
   "source": [
    "import numpy"
   ]
  },
  {
   "cell_type": "code",
   "execution_count": 3,
   "metadata": {},
   "outputs": [],
   "source": [
    "SD0203_mesh = Mesh('./Data/Geometry/SD/S20190203@25-6-66_24-6.v001.sno')\n",
    "FS0308_mesh = Mesh('./Data/Geometry/FS/S20190308@25-10-50_25-6.v001.sno')\n",
    "XD0130_mesh = Mesh('./Data/Geometry/XD/X20190130@31-12-68_26-6.v001.sno')"
   ]
  },
  {
   "cell_type": "markdown",
   "metadata": {},
   "source": [
    "be careful! data2D reads in IyIx order but quadmesh has to drawn in IxIy order to take care of the cuts!"
   ]
  },
  {
   "cell_type": "code",
   "execution_count": 4,
   "metadata": {},
   "outputs": [],
   "source": [
    "# line radiation for C1+ ~ C5+\n",
    "SD_LineRa3 = Data2D(SD0203_mesh, './Data/SDP6/2D_data/radiation/ion_line_radiation/b2ra-3_2D')\n",
    "SD_LineRa4 = Data2D(SD0203_mesh, './Data/SDP6/2D_data/radiation/ion_line_radiation/b2ra-4_2D')\n",
    "SD_LineRa5 = Data2D(SD0203_mesh, './Data/SDP6/2D_data/radiation/ion_line_radiation/b2ra-5_2D')\n",
    "SD_LineRa6 = Data2D(SD0203_mesh, './Data/SDP6/2D_data/radiation/ion_line_radiation/b2ra-6_2D')\n",
    "SD_LineRa7 = Data2D(SD0203_mesh, './Data/SDP6/2D_data/radiation/ion_line_radiation/b2ra-7_2D')\n",
    "\n",
    "FS_LineRa3 = Data2D(FS0308_mesh, './Data/FSP6/2D_data/radiation/ion_line_radiation/b2ra-3_2D')\n",
    "FS_LineRa4 = Data2D(FS0308_mesh, './Data/FSP6/2D_data/radiation/ion_line_radiation/b2ra-4_2D')\n",
    "FS_LineRa5 = Data2D(FS0308_mesh, './Data/FSP6/2D_data/radiation/ion_line_radiation/b2ra-5_2D')\n",
    "FS_LineRa6 = Data2D(FS0308_mesh, './Data/FSP6/2D_data/radiation/ion_line_radiation/b2ra-6_2D')\n",
    "FS_LineRa7 = Data2D(FS0308_mesh, './Data/FSP6/2D_data/radiation/ion_line_radiation/b2ra-7_2D')\n",
    "\n",
    "XD_LineRa3 = Data2D(XD0130_mesh, './Data/XDP6/2D_data/radiation/ion_line_radiation/b2ra-3_2D')\n",
    "XD_LineRa4 = Data2D(XD0130_mesh, './Data/XDP6/2D_data/radiation/ion_line_radiation/b2ra-4_2D')\n",
    "XD_LineRa5 = Data2D(XD0130_mesh, './Data/XDP6/2D_data/radiation/ion_line_radiation/b2ra-5_2D')\n",
    "XD_LineRa6 = Data2D(XD0130_mesh, './Data/XDP6/2D_data/radiation/ion_line_radiation/b2ra-6_2D')\n",
    "XD_LineRa7 = Data2D(XD0130_mesh, './Data/XDP6/2D_data/radiation/ion_line_radiation/b2ra-7_2D')"
   ]
  },
  {
   "cell_type": "code",
   "execution_count": 5,
   "metadata": {},
   "outputs": [],
   "source": [
    "# Carbon density for C1+ ~ C6+\n",
    "SD_nIon3 = Data2D(SD0203_mesh, './Data/SDP6/2D_data/density/n_ion/na-3_2D')\n",
    "SD_nIon4 = Data2D(SD0203_mesh, './Data/SDP6/2D_data/density/n_ion/na-4_2D')\n",
    "SD_nIon5 = Data2D(SD0203_mesh, './Data/SDP6/2D_data/density/n_ion/na-5_2D')\n",
    "SD_nIon6 = Data2D(SD0203_mesh, './Data/SDP6/2D_data/density/n_ion/na-6_2D')\n",
    "SD_nIon7 = Data2D(SD0203_mesh, './Data/SDP6/2D_data/density/n_ion/na-7_2D')\n",
    "SD_nIon8 = Data2D(SD0203_mesh, './Data/SDP6/2D_data/density/n_ion/na-8_2D')\n",
    "\n",
    "FS_nIon3 = Data2D(FS0308_mesh, './Data/FSP6/2D_data/density/n_ion/na-3_2D')\n",
    "FS_nIon4 = Data2D(FS0308_mesh, './Data/FSP6/2D_data/density/n_ion/na-4_2D')\n",
    "FS_nIon5 = Data2D(FS0308_mesh, './Data/FSP6/2D_data/density/n_ion/na-5_2D')\n",
    "FS_nIon6 = Data2D(FS0308_mesh, './Data/FSP6/2D_data/density/n_ion/na-6_2D')\n",
    "FS_nIon7 = Data2D(FS0308_mesh, './Data/FSP6/2D_data/density/n_ion/na-7_2D')\n",
    "FS_nIon8 = Data2D(FS0308_mesh, './Data/FSP6/2D_data/density/n_ion/na-8_2D')\n",
    "\n",
    "XD_nIon3 = Data2D(XD0130_mesh, './Data/XDP6/2D_data/density/n_ion/na-3_2D')\n",
    "XD_nIon4 = Data2D(XD0130_mesh, './Data/XDP6/2D_data/density/n_ion/na-4_2D')\n",
    "XD_nIon5 = Data2D(XD0130_mesh, './Data/XDP6/2D_data/density/n_ion/na-5_2D')\n",
    "XD_nIon6 = Data2D(XD0130_mesh, './Data/XDP6/2D_data/density/n_ion/na-6_2D')\n",
    "XD_nIon7 = Data2D(XD0130_mesh, './Data/XDP6/2D_data/density/n_ion/na-7_2D')\n",
    "XD_nIon8 = Data2D(XD0130_mesh, './Data/XDP6/2D_data/density/n_ion/na-8_2D')"
   ]
  },
  {
   "cell_type": "code",
   "execution_count": 6,
   "metadata": {},
   "outputs": [],
   "source": [
    "# electron density\n",
    "SD_ne = Data2D(SD0203_mesh, './Data/SDP6/2D_data/density/n_electron/ne_2D')\n",
    "\n",
    "FS_ne = Data2D(FS0308_mesh, './Data/FSP6/2D_data/density/n_electron/ne_2D')\n",
    "\n",
    "XD_ne = Data2D(XD0130_mesh, './Data/XDP6/2D_data/density/n_electron/ne_2D')"
   ]
  },
  {
   "cell_type": "code",
   "execution_count": 7,
   "metadata": {},
   "outputs": [],
   "source": [
    "# electron temperature\n",
    "SD_te = Data2D(SD0203_mesh, './Data/SDP6/2D_data/temperature/T_electron/te_2D')\n",
    "\n",
    "FS_te = Data2D(FS0308_mesh, './Data/FSP6/2D_data/temperature/T_electron/te_2D')\n",
    "\n",
    "XD_te = Data2D(XD0130_mesh, './Data/XDP6/2D_data/temperature/T_electron/te_2D')"
   ]
  },
  {
   "cell_type": "code",
   "execution_count": 8,
   "metadata": {},
   "outputs": [],
   "source": [
    "# cell volume\n",
    "SD_vol = Data2D(SD0203_mesh, './Data/SDP6/2D_data/geometry/vol_2D')\n",
    "\n",
    "FS_vol = Data2D(FS0308_mesh, './Data/FSP6/2D_data/geometry/vol_2D')\n",
    "\n",
    "XD_vol = Data2D(XD0130_mesh, './Data/XDP6/2D_data/geometry/vol_2D')"
   ]
  },
  {
   "cell_type": "code",
   "execution_count": null,
   "metadata": {},
   "outputs": [],
   "source": [
    "# carbon neutral density\n",
    "SD_nNeutC = Data2D(SD0203_mesh, './Data/SDP6/2D_data/density/n_neutral/dab2-1_2D')\n",
    "\n",
    "FS_nNeutC = Data2D(FS0308_mesh, './Data/FSP6/2D_data/density/n_neutral/dab2-1_2D')\n",
    "\n",
    "XD_nNeutC = Data2D(XD0130_mesh, './Data/XDP6/2D_data/density/n_neutral/dab2-1_2D')"
   ]
  },
  {
   "cell_type": "markdown",
   "metadata": {},
   "source": [
    "### calculations"
   ]
  },
  {
   "cell_type": "markdown",
   "metadata": {},
   "source": [
    "some preparation calculation"
   ]
  },
  {
   "cell_type": "code",
   "execution_count": 9,
   "metadata": {},
   "outputs": [],
   "source": [
    "# Line radiation amount\n",
    "\n",
    "SD_CLineRad = SD_LineRa3.IyIx + SD_LineRa4.IyIx + SD_LineRa5.IyIx + SD_LineRa6.IyIx + SD_LineRa7.IyIx\n",
    "\n",
    "FS_CLineRad = FS_LineRa3.IyIx + FS_LineRa4.IyIx + FS_LineRa5.IyIx + FS_LineRa6.IyIx + FS_LineRa7.IyIx\n",
    "\n",
    "XD_CLineRad = XD_LineRa3.IyIx + XD_LineRa4.IyIx + XD_LineRa5.IyIx + XD_LineRa6.IyIx + XD_LineRa7.IyIx"
   ]
  },
  {
   "cell_type": "code",
   "execution_count": 10,
   "metadata": {},
   "outputs": [],
   "source": [
    "# total carbon ion density\n",
    "\n",
    "SD_nCarbonIon = SD_nIon3.IyIx + SD_nIon4.IyIx + SD_nIon5.IyIx + SD_nIon6.IyIx + SD_nIon7.IyIx + SD_nIon8.IyIx\n",
    "\n",
    "FS_nCarbonIon = FS_nIon3.IyIx + FS_nIon4.IyIx + FS_nIon5.IyIx + FS_nIon6.IyIx + FS_nIon7.IyIx + FS_nIon8.IyIx\n",
    "\n",
    "XD_nCarbonIon = XD_nIon3.IyIx + XD_nIon4.IyIx + XD_nIon5.IyIx + XD_nIon6.IyIx + XD_nIon7.IyIx + XD_nIon8.IyIx"
   ]
  },
  {
   "cell_type": "markdown",
   "metadata": {},
   "source": [
    "calculate radiation density"
   ]
  },
  {
   "cell_type": "code",
   "execution_count": 11,
   "metadata": {},
   "outputs": [],
   "source": [
    "SD_CLineRadDensity = SD_CLineRad / SD_vol.IyIx\n",
    "\n",
    "FS_CLineRadDensity = FS_CLineRad / FS_vol.IyIx\n",
    "\n",
    "XD_CLineRadDensity = XD_CLineRad / XD_vol.IyIx"
   ]
  },
  {
   "cell_type": "markdown",
   "metadata": {},
   "source": [
    "calculate emissivity. Unit being W$m^3$"
   ]
  },
  {
   "cell_type": "code",
   "execution_count": 12,
   "metadata": {},
   "outputs": [],
   "source": [
    "SD_CEmissivity = SD_CLineRadDensity / (SD_nCarbonIon * SD_ne.IyIx)\n",
    "\n",
    "FS_CEmissivity = FS_CLineRadDensity / (FS_nCarbonIon * FS_ne.IyIx)\n",
    "\n",
    "XD_CEmissivity = XD_CLineRadDensity / (XD_nCarbonIon * XD_ne.IyIx)"
   ]
  },
  {
   "cell_type": "markdown",
   "metadata": {},
   "source": [
    "import Carbon emissivity from ADAS interpolation"
   ]
  },
  {
   "cell_type": "code",
   "execution_count": 13,
   "metadata": {},
   "outputs": [],
   "source": [
    "FS_ADAS = numpy.loadtxt('./Data/CEmissivity/FSP6/emissivity_FS.dat', skiprows=1).reshape((FS0308_mesh.ny + 1, FS0308_mesh.nx + 1), order='C')\n",
    "\n",
    "XD_ADAS = numpy.loadtxt('./Data/CEmissivity/XDP6/emissivity_XD.dat', skiprows=1).reshape((XD0130_mesh.ny + 1, XD0130_mesh.nx + 1), order='C')"
   ]
  },
  {
   "cell_type": "markdown",
   "metadata": {},
   "source": [
    "take out the outer divertor part"
   ]
  },
  {
   "cell_type": "code",
   "execution_count": 14,
   "metadata": {},
   "outputs": [],
   "source": [
    "SD_CEmissivity_outerdiv = numpy.transpose(SD_CEmissivity[:, SD0203_mesh.ixcut[1]:])\n",
    "\n",
    "FS_CEmissivity_outerdiv = numpy.transpose(FS_CEmissivity[:, FS0308_mesh.ixcut[1]:])\n",
    "\n",
    "XD_CEmissivity_outerdiv = numpy.transpose(XD_CEmissivity[:, XD0130_mesh.ixcut[1]:])"
   ]
  },
  {
   "cell_type": "code",
   "execution_count": 15,
   "metadata": {},
   "outputs": [],
   "source": [
    "FS_ADAS_outerdiv = numpy.transpose(FS_ADAS[:, FS0308_mesh.ixcut[1]:])\n",
    "\n",
    "XD_ADAS_outerdiv = numpy.transpose(XD_ADAS[:, XD0130_mesh.ixcut[1]:])"
   ]
  },
  {
   "cell_type": "code",
   "execution_count": 16,
   "metadata": {},
   "outputs": [],
   "source": [
    "# te\n",
    "SD_te_outerdiv = numpy.transpose(SD_te.IyIx[:, SD0203_mesh.ixcut[1]:])\n",
    "\n",
    "FS_te_outerdiv = numpy.transpose(FS_te.IyIx[:, FS0308_mesh.ixcut[1]:])\n",
    "\n",
    "XD_te_outerdiv = numpy.transpose(XD_te.IyIx[:, XD0130_mesh.ixcut[1]:])"
   ]
  },
  {
   "cell_type": "code",
   "execution_count": null,
   "metadata": {},
   "outputs": [],
   "source": []
  },
  {
   "cell_type": "code",
   "execution_count": null,
   "metadata": {},
   "outputs": [],
   "source": []
  },
  {
   "cell_type": "code",
   "execution_count": 35,
   "metadata": {},
   "outputs": [
    {
     "name": "stdout",
     "output_type": "stream",
     "text": [
      "[0. 0. 0. 0. 0. 0. 0. 0. 0. 0. 0. 0. 0. 0. 0. 0. 0. 0. 0. 0. 0. 0. 0. 0.\n",
      " 0. 0. 0. 0. 0. 0. 0. 0. 0. 0.]\n"
     ]
    }
   ],
   "source": [
    "print(XD_CEmissivity_outerdiv[-1])"
   ]
  },
  {
   "cell_type": "code",
   "execution_count": 36,
   "metadata": {},
   "outputs": [
    {
     "name": "stdout",
     "output_type": "stream",
     "text": [
      "[1.35458179e-83 8.74356562e-34 6.30766197e-34 4.19901656e-34\n",
      " 3.26918581e-34 2.93693267e-34 3.30377309e-34 4.68023045e-34\n",
      " 7.69262002e-34 9.88105090e-34 1.30478068e-33 1.42569291e-33\n",
      " 1.53259431e-33 1.65311023e-33 2.02609020e-33 2.54433202e-33\n",
      " 3.50263525e-33 5.16469554e-33 8.40363293e-33 1.44150758e-32\n",
      " 2.52930827e-32 4.44191613e-32 6.97423154e-32 9.26940382e-32\n",
      " 1.05561994e-31 1.10112734e-31 1.08047804e-31 1.01508027e-31\n",
      " 9.22938449e-32 8.29218082e-32 7.48818421e-32 6.40423726e-32\n",
      " 3.14460876e-32 8.25510652e-36]\n"
     ]
    }
   ],
   "source": [
    "print(XD_ADAS_outerdiv[-1])"
   ]
  },
  {
   "cell_type": "markdown",
   "metadata": {},
   "source": []
  },
  {
   "cell_type": "markdown",
   "metadata": {},
   "source": [
    "# start attempting plots"
   ]
  },
  {
   "cell_type": "markdown",
   "metadata": {},
   "source": [
    "## prepare figure and its axes"
   ]
  },
  {
   "cell_type": "markdown",
   "metadata": {},
   "source": [
    "### do scatter plots"
   ]
  },
  {
   "cell_type": "markdown",
   "metadata": {},
   "source": [
    "XD"
   ]
  },
  {
   "cell_type": "code",
   "execution_count": 17,
   "metadata": {},
   "outputs": [],
   "source": [
    "import matplotlib.pyplot as plt\n",
    "\n",
    "fig_1, ax_1 = plt.subplots()"
   ]
  },
  {
   "cell_type": "code",
   "execution_count": 18,
   "metadata": {},
   "outputs": [],
   "source": [
    "%%capture\n",
    "\n",
    "ax_1.scatter(XD_te_outerdiv[:, XD0130_mesh.iycut : 24], XD_ADAS_outerdiv[:, XD0130_mesh.iycut : 24], c = \"w\", marker = \"s\", edgecolors = \"r\")\n",
    "ax_1.scatter(XD_te_outerdiv[:, XD0130_mesh.iycut : 24], XD_CEmissivity_outerdiv[:, XD0130_mesh.iycut : 24], c = \"w\", marker = \".\", edgecolors = \"b\")"
   ]
  },
  {
   "cell_type": "markdown",
   "metadata": {},
   "source": [
    "add legend using scatter plot trick"
   ]
  },
  {
   "cell_type": "code",
   "execution_count": 27,
   "metadata": {},
   "outputs": [],
   "source": [
    "%%capture\n",
    "\n",
    "ax_1_legend_marker_ADAS = ax_1.scatter([45], [1.4e-31], c = \"w\", marker = \"s\", edgecolors = \"r\")\n",
    "ax_1_legend_marker_SOLPS = ax_1.scatter([45], [1e-31], c = \"w\", marker = \".\", edgecolors = \"b\")"
   ]
  },
  {
   "cell_type": "code",
   "execution_count": 26,
   "metadata": {},
   "outputs": [],
   "source": [
    "ax_1_legend_marker_ADAS.remove()\n",
    "ax_1_legend_marker_SOLPS.remove()"
   ]
  },
  {
   "cell_type": "markdown",
   "metadata": {},
   "source": [
    "add legend text"
   ]
  },
  {
   "cell_type": "code",
   "execution_count": 30,
   "metadata": {},
   "outputs": [],
   "source": [
    "ax_1_legend_text_ADAS = ax_1.text(46.5, 1.1e-31, \"ADAS\")\n",
    "ax_1_legend_text_SOLPS = ax_1.text(46.5, 8e-32, \"SOLPS\")"
   ]
  },
  {
   "cell_type": "code",
   "execution_count": 36,
   "metadata": {},
   "outputs": [],
   "source": [
    "ax_1_legend_text_ADAS.set_position((46, 1.26e-31))\n",
    "ax_1_legend_text_SOLPS.set_position((46, 9.3e-32))"
   ]
  },
  {
   "cell_type": "markdown",
   "metadata": {},
   "source": [
    "add explanation text"
   ]
  },
  {
   "cell_type": "code",
   "execution_count": 38,
   "metadata": {},
   "outputs": [],
   "source": [
    "ax_1_explain_text = ax_1.text(3, 1.5e-31, \"data along flux tubes within $\\lambda_{q}$ at OMP\")"
   ]
  },
  {
   "cell_type": "code",
   "execution_count": 44,
   "metadata": {},
   "outputs": [],
   "source": [
    "ax_1_explain_text.set_fontsize(11)"
   ]
  },
  {
   "cell_type": "code",
   "execution_count": 48,
   "metadata": {},
   "outputs": [],
   "source": [
    "ax_1_explain_text.set_position((24.5, 7.0e-32))"
   ]
  },
  {
   "cell_type": "markdown",
   "metadata": {},
   "source": [
    "set the axes label"
   ]
  },
  {
   "cell_type": "code",
   "execution_count": 50,
   "metadata": {},
   "outputs": [],
   "source": [
    "%%capture\n",
    "ax_1.set_xlabel(\"Te (eV)\")\n",
    "ax_1.set_ylabel(\"carbon emissivity ($10^{-32}$ W$m^3$)\")"
   ]
  },
  {
   "cell_type": "code",
   "execution_count": 19,
   "metadata": {},
   "outputs": [],
   "source": [
    "ax_1.set_yscale(\"log\")"
   ]
  },
  {
   "cell_type": "code",
   "execution_count": 28,
   "metadata": {},
   "outputs": [],
   "source": [
    "ax_1.set_xbound(0, 50)\n",
    "ax_1.set_ybound(2e-34, 2e-31)"
   ]
  },
  {
   "cell_type": "code",
   "execution_count": 51,
   "metadata": {},
   "outputs": [],
   "source": [
    "ax_1.set_position([0.1, 0.1, 0.9, 0.9])"
   ]
  },
  {
   "cell_type": "code",
   "execution_count": 52,
   "metadata": {},
   "outputs": [
    {
     "data": {
      "image/png": "[encoded data removed]",
      "text/plain": [
       "<Figure size 640x480 with 1 Axes>"
      ]
     },
     "execution_count": 52,
     "metadata": {},
     "output_type": "execute_result"
    }
   ],
   "source": [
    "fig_1"
   ]
  },
  {
   "cell_type": "code",
   "execution_count": null,
   "metadata": {},
   "outputs": [],
   "source": []
  },
  {
   "cell_type": "code",
   "execution_count": 53,
   "metadata": {},
   "outputs": [],
   "source": [
    "fig_1.savefig('CEmiSPSvsADAS_P6-lq_Scatter-XD.svg', format='svg', bbox_inches='tight')"
   ]
  },
  {
   "cell_type": "code",
   "execution_count": null,
   "metadata": {},
   "outputs": [],
   "source": []
  },
  {
   "cell_type": "code",
   "execution_count": null,
   "metadata": {},
   "outputs": [],
   "source": []
  },
  {
   "cell_type": "markdown",
   "metadata": {},
   "source": [
    "FS"
   ]
  },
  {
   "cell_type": "code",
   "execution_count": 54,
   "metadata": {},
   "outputs": [],
   "source": [
    "%%capture\n",
    "\n",
    "fig_5, ax_5 = plt.subplots()"
   ]
  },
  {
   "cell_type": "code",
   "execution_count": 61,
   "metadata": {},
   "outputs": [],
   "source": [
    "%%capture\n",
    "\n",
    "ax_5.scatter(FS_te_outerdiv[:, FS0308_mesh.iycut : 21], FS_ADAS_outerdiv[:, FS0308_mesh.iycut : 21], c = \"w\", marker = \"s\", edgecolors = \"r\")\n",
    "ax_5.scatter(FS_te_outerdiv[:, FS0308_mesh.iycut : 21], FS_CEmissivity_outerdiv[:, FS0308_mesh.iycut : 21], c = \"w\", marker = \".\", edgecolors = \"b\")"
   ]
  },
  {
   "cell_type": "code",
   "execution_count": 60,
   "metadata": {},
   "outputs": [],
   "source": [
    "ax_5.clear()"
   ]
  },
  {
   "cell_type": "markdown",
   "metadata": {},
   "source": [
    "add legend using scatter plot trick"
   ]
  },
  {
   "cell_type": "code",
   "execution_count": 62,
   "metadata": {},
   "outputs": [],
   "source": [
    "%%capture\n",
    "\n",
    "ax_5_legend_marker_ADAS = ax_5.scatter([45], [1.4e-31], c = \"w\", marker = \"s\", edgecolors = \"r\")\n",
    "ax_5_legend_marker_SOLPS = ax_5.scatter([45], [1e-31], c = \"w\", marker = \".\", edgecolors = \"b\")"
   ]
  },
  {
   "cell_type": "code",
   "execution_count": 26,
   "metadata": {},
   "outputs": [],
   "source": [
    "ax_5_legend_marker_ADAS.remove()\n",
    "ax_5_legend_marker_SOLPS.remove()"
   ]
  },
  {
   "cell_type": "markdown",
   "metadata": {},
   "source": [
    "add legend text"
   ]
  },
  {
   "cell_type": "code",
   "execution_count": 63,
   "metadata": {},
   "outputs": [],
   "source": [
    "ax_5_legend_text_ADAS = ax_5.text(46.5, 1.1e-31, \"ADAS\")\n",
    "ax_5_legend_text_SOLPS = ax_5.text(46.5, 8e-32, \"SOLPS\")"
   ]
  },
  {
   "cell_type": "code",
   "execution_count": 64,
   "metadata": {},
   "outputs": [],
   "source": [
    "ax_5_legend_text_ADAS.set_position((46, 1.26e-31))\n",
    "ax_5_legend_text_SOLPS.set_position((46, 9.3e-32))"
   ]
  },
  {
   "cell_type": "markdown",
   "metadata": {},
   "source": [
    "add explanation text"
   ]
  },
  {
   "cell_type": "code",
   "execution_count": 65,
   "metadata": {},
   "outputs": [],
   "source": [
    "ax_5_explain_text = ax_5.text(3, 1.5e-31, \"data along flux tubes within $\\lambda_{q}$ at OMP\")"
   ]
  },
  {
   "cell_type": "code",
   "execution_count": 66,
   "metadata": {},
   "outputs": [],
   "source": [
    "ax_5_explain_text.set_fontsize(11)"
   ]
  },
  {
   "cell_type": "code",
   "execution_count": 75,
   "metadata": {},
   "outputs": [],
   "source": [
    "ax_5_explain_text.set_position((21.5, 6.6e-32))"
   ]
  },
  {
   "cell_type": "markdown",
   "metadata": {},
   "source": [
    "set the axes label"
   ]
  },
  {
   "cell_type": "code",
   "execution_count": 68,
   "metadata": {},
   "outputs": [],
   "source": [
    "%%capture\n",
    "ax_5.set_xlabel(\"Te (eV)\")\n",
    "ax_5.set_ylabel(\"carbon emissivity ($10^{-32}$ W$m^3$)\")"
   ]
  },
  {
   "cell_type": "code",
   "execution_count": 69,
   "metadata": {},
   "outputs": [],
   "source": [
    "ax_5.set_yscale(\"log\")"
   ]
  },
  {
   "cell_type": "code",
   "execution_count": 70,
   "metadata": {},
   "outputs": [],
   "source": [
    "ax_5.set_xbound(0, 50)\n",
    "ax_5.set_ybound(2e-34, 2e-31)"
   ]
  },
  {
   "cell_type": "code",
   "execution_count": 71,
   "metadata": {},
   "outputs": [],
   "source": [
    "ax_5.set_position([0.1, 0.1, 0.9, 0.9])"
   ]
  },
  {
   "cell_type": "code",
   "execution_count": 76,
   "metadata": {},
   "outputs": [
    {
     "data": {
      "image/png": "[encoded data removed]",
      "text/plain": [
       "<Figure size 432x288 with 1 Axes>"
      ]
     },
     "execution_count": 76,
     "metadata": {},
     "output_type": "execute_result"
    }
   ],
   "source": [
    "fig_5"
   ]
  },
  {
   "cell_type": "code",
   "execution_count": null,
   "metadata": {},
   "outputs": [],
   "source": []
  },
  {
   "cell_type": "code",
   "execution_count": 77,
   "metadata": {},
   "outputs": [],
   "source": [
    "fig_5.savefig('CEmiSPSvsADAS_P6-lq_Scatter-FS.svg', format='svg', bbox_inches='tight')"
   ]
  },
  {
   "cell_type": "code",
   "execution_count": null,
   "metadata": {},
   "outputs": [],
   "source": []
  },
  {
   "cell_type": "code",
   "execution_count": null,
   "metadata": {},
   "outputs": [],
   "source": []
  },
  {
   "cell_type": "markdown",
   "metadata": {},
   "source": [
    "the data along flux tubes within 1 ~ 2mm radially out from the separatrix"
   ]
  },
  {
   "cell_type": "code",
   "execution_count": 35,
   "metadata": {},
   "outputs": [],
   "source": [
    "%%capture\n",
    "\n",
    "fig_6, ax_6 = plt.subplots()"
   ]
  },
  {
   "cell_type": "code",
   "execution_count": null,
   "metadata": {},
   "outputs": [],
   "source": []
  },
  {
   "cell_type": "code",
   "execution_count": 48,
   "metadata": {},
   "outputs": [],
   "source": [
    "fig_6.savefig('CEmissivityP6-2mm_Scatter.svg', format='svg', bbox_inches='tight')"
   ]
  },
  {
   "cell_type": "code",
   "execution_count": null,
   "metadata": {},
   "outputs": [],
   "source": []
  },
  {
   "cell_type": "code",
   "execution_count": null,
   "metadata": {},
   "outputs": [],
   "source": []
  }
 ],
 "metadata": {
  "kernelspec": {
   "display_name": "Python 3",
   "language": "python",
   "name": "python3"
  },
  "language_info": {
   "codemirror_mode": {
    "name": "ipython",
    "version": 3
   },
   "file_extension": ".py",
   "mimetype": "text/x-python",
   "name": "python",
   "nbconvert_exporter": "python",
   "pygments_lexer": "ipython3",
   "version": "3.6.7"
  }
 },
 "nbformat": 4,
 "nbformat_minor": 2
}
