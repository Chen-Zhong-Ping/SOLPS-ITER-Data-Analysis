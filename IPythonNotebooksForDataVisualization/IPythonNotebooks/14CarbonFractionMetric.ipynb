{
 "cells": [
  {
   "cell_type": "code",
   "execution_count": 1,
   "metadata": {},
   "outputs": [],
   "source": [
    "from packages.data_classes.data2D import Data2D\n",
    "from packages.data_classes.mesh import Mesh\n",
    "from packages.plot_classes.tangram import Tangram"
   ]
  },
  {
   "cell_type": "code",
   "execution_count": 2,
   "metadata": {},
   "outputs": [],
   "source": [
    "import numpy"
   ]
  },
  {
   "cell_type": "code",
   "execution_count": 3,
   "metadata": {},
   "outputs": [],
   "source": [
    "SD0203_mesh = Mesh('./Data/Geometry/SD/S20190203@25-6-66_24-6.v001.sno')\n",
    "FS0308_mesh = Mesh('./Data/Geometry/FS/S20190308@25-10-50_25-6.v001.sno')\n",
    "XD0130_mesh = Mesh('./Data/Geometry/XD/X20190130@31-12-68_26-6.v001.sno')"
   ]
  },
  {
   "cell_type": "markdown",
   "metadata": {},
   "source": [
    "be careful! data2D reads in IyIx order but quadmesh has to drawn in IxIy order to take care of the cuts!"
   ]
  },
  {
   "cell_type": "code",
   "execution_count": 4,
   "metadata": {},
   "outputs": [],
   "source": [
    "# Carbon density for C1+ ~ C6+\n",
    "SD_nIon3 = Data2D(SD0203_mesh, './Data/SDP6/2D_data/density/n_ion/na-3_2D')\n",
    "SD_nIon4 = Data2D(SD0203_mesh, './Data/SDP6/2D_data/density/n_ion/na-4_2D')\n",
    "SD_nIon5 = Data2D(SD0203_mesh, './Data/SDP6/2D_data/density/n_ion/na-5_2D')\n",
    "SD_nIon6 = Data2D(SD0203_mesh, './Data/SDP6/2D_data/density/n_ion/na-6_2D')\n",
    "SD_nIon7 = Data2D(SD0203_mesh, './Data/SDP6/2D_data/density/n_ion/na-7_2D')\n",
    "SD_nIon8 = Data2D(SD0203_mesh, './Data/SDP6/2D_data/density/n_ion/na-8_2D')\n",
    "\n",
    "FS_nIon3 = Data2D(FS0308_mesh, './Data/FSP6/2D_data/density/n_ion/na-3_2D')\n",
    "FS_nIon4 = Data2D(FS0308_mesh, './Data/FSP6/2D_data/density/n_ion/na-4_2D')\n",
    "FS_nIon5 = Data2D(FS0308_mesh, './Data/FSP6/2D_data/density/n_ion/na-5_2D')\n",
    "FS_nIon6 = Data2D(FS0308_mesh, './Data/FSP6/2D_data/density/n_ion/na-6_2D')\n",
    "FS_nIon7 = Data2D(FS0308_mesh, './Data/FSP6/2D_data/density/n_ion/na-7_2D')\n",
    "FS_nIon8 = Data2D(FS0308_mesh, './Data/FSP6/2D_data/density/n_ion/na-8_2D')\n",
    "\n",
    "XD_nIon3 = Data2D(XD0130_mesh, './Data/XDP6/2D_data/density/n_ion/na-3_2D')\n",
    "XD_nIon4 = Data2D(XD0130_mesh, './Data/XDP6/2D_data/density/n_ion/na-4_2D')\n",
    "XD_nIon5 = Data2D(XD0130_mesh, './Data/XDP6/2D_data/density/n_ion/na-5_2D')\n",
    "XD_nIon6 = Data2D(XD0130_mesh, './Data/XDP6/2D_data/density/n_ion/na-6_2D')\n",
    "XD_nIon7 = Data2D(XD0130_mesh, './Data/XDP6/2D_data/density/n_ion/na-7_2D')\n",
    "XD_nIon8 = Data2D(XD0130_mesh, './Data/XDP6/2D_data/density/n_ion/na-8_2D')\n",
    "\n",
    "# electron density\n",
    "SD_ne = Data2D(SD0203_mesh, './Data/SDP6/2D_data/density/n_electron/ne_2D')\n",
    "\n",
    "FS_ne = Data2D(FS0308_mesh, './Data/FSP6/2D_data/density/n_electron/ne_2D')\n",
    "\n",
    "XD_ne = Data2D(XD0130_mesh, './Data/XDP6/2D_data/density/n_electron/ne_2D')"
   ]
  },
  {
   "cell_type": "code",
   "execution_count": 5,
   "metadata": {},
   "outputs": [],
   "source": [
    "# line radiation for C1+ ~ C5+\n",
    "SD_LineRa3 = Data2D(SD0203_mesh, './Data/SDP6/2D_data/radiation/ion_line_radiation/b2ra-3_2D')\n",
    "SD_LineRa4 = Data2D(SD0203_mesh, './Data/SDP6/2D_data/radiation/ion_line_radiation/b2ra-4_2D')\n",
    "SD_LineRa5 = Data2D(SD0203_mesh, './Data/SDP6/2D_data/radiation/ion_line_radiation/b2ra-5_2D')\n",
    "SD_LineRa6 = Data2D(SD0203_mesh, './Data/SDP6/2D_data/radiation/ion_line_radiation/b2ra-6_2D')\n",
    "SD_LineRa7 = Data2D(SD0203_mesh, './Data/SDP6/2D_data/radiation/ion_line_radiation/b2ra-7_2D')\n",
    "\n",
    "FS_LineRa3 = Data2D(FS0308_mesh, './Data/FSP6/2D_data/radiation/ion_line_radiation/b2ra-3_2D')\n",
    "FS_LineRa4 = Data2D(FS0308_mesh, './Data/FSP6/2D_data/radiation/ion_line_radiation/b2ra-4_2D')\n",
    "FS_LineRa5 = Data2D(FS0308_mesh, './Data/FSP6/2D_data/radiation/ion_line_radiation/b2ra-5_2D')\n",
    "FS_LineRa6 = Data2D(FS0308_mesh, './Data/FSP6/2D_data/radiation/ion_line_radiation/b2ra-6_2D')\n",
    "FS_LineRa7 = Data2D(FS0308_mesh, './Data/FSP6/2D_data/radiation/ion_line_radiation/b2ra-7_2D')\n",
    "\n",
    "XD_LineRa3 = Data2D(XD0130_mesh, './Data/XDP6/2D_data/radiation/ion_line_radiation/b2ra-3_2D')\n",
    "XD_LineRa4 = Data2D(XD0130_mesh, './Data/XDP6/2D_data/radiation/ion_line_radiation/b2ra-4_2D')\n",
    "XD_LineRa5 = Data2D(XD0130_mesh, './Data/XDP6/2D_data/radiation/ion_line_radiation/b2ra-5_2D')\n",
    "XD_LineRa6 = Data2D(XD0130_mesh, './Data/XDP6/2D_data/radiation/ion_line_radiation/b2ra-6_2D')\n",
    "XD_LineRa7 = Data2D(XD0130_mesh, './Data/XDP6/2D_data/radiation/ion_line_radiation/b2ra-7_2D')"
   ]
  },
  {
   "cell_type": "code",
   "execution_count": 6,
   "metadata": {},
   "outputs": [],
   "source": [
    "# electron temperature\n",
    "SD_te = Data2D(SD0203_mesh, './Data/SDP6/2D_data/temperature/T_electron/te_2D')\n",
    "\n",
    "FS_te = Data2D(FS0308_mesh, './Data/FSP6/2D_data/temperature/T_electron/te_2D')\n",
    "\n",
    "XD_te = Data2D(XD0130_mesh, './Data/XDP6/2D_data/temperature/T_electron/te_2D')"
   ]
  },
  {
   "cell_type": "code",
   "execution_count": 6,
   "metadata": {},
   "outputs": [],
   "source": [
    "# cell volume\n",
    "SD_vol = Data2D(SD0203_mesh, './Data/SDP6/2D_data/geometry/vol_2D')\n",
    "\n",
    "FS_vol = Data2D(FS0308_mesh, './Data/FSP6/2D_data/geometry/vol_2D')\n",
    "\n",
    "XD_vol = Data2D(XD0130_mesh, './Data/XDP6/2D_data/geometry/vol_2D')"
   ]
  },
  {
   "cell_type": "markdown",
   "metadata": {},
   "source": [
    "some preparation calculation"
   ]
  },
  {
   "cell_type": "code",
   "execution_count": 7,
   "metadata": {},
   "outputs": [],
   "source": [
    "# total carbon ion density\n",
    "\n",
    "SD_nCarbonIon = SD_nIon3.IyIx + SD_nIon4.IyIx + SD_nIon5.IyIx + SD_nIon6.IyIx + SD_nIon7.IyIx + SD_nIon8.IyIx\n",
    "\n",
    "FS_nCarbonIon = FS_nIon3.IyIx + FS_nIon4.IyIx + FS_nIon5.IyIx + FS_nIon6.IyIx + FS_nIon7.IyIx + FS_nIon8.IyIx\n",
    "\n",
    "XD_nCarbonIon = XD_nIon3.IyIx + XD_nIon4.IyIx + XD_nIon5.IyIx + XD_nIon6.IyIx + XD_nIon7.IyIx + XD_nIon8.IyIx"
   ]
  },
  {
   "cell_type": "markdown",
   "metadata": {},
   "source": [
    "calculate Carbon ion fraction"
   ]
  },
  {
   "cell_type": "code",
   "execution_count": 8,
   "metadata": {},
   "outputs": [],
   "source": [
    "SD_CarbonIonFraction = SD_nCarbonIon/SD_ne.IyIx\n",
    "\n",
    "FS_CarbonIonFraction = FS_nCarbonIon/FS_ne.IyIx\n",
    "\n",
    "XD_CarbonIonFraction = XD_nCarbonIon/XD_ne.IyIx"
   ]
  },
  {
   "cell_type": "markdown",
   "metadata": {},
   "source": [
    "total Carbon line radiation"
   ]
  },
  {
   "cell_type": "code",
   "execution_count": 9,
   "metadata": {},
   "outputs": [],
   "source": [
    "# total Carbon line radiation\n",
    "\n",
    "SD_CLineRad = SD_LineRa3.IyIx + SD_LineRa4.IyIx + SD_LineRa5.IyIx + SD_LineRa6.IyIx + SD_LineRa7.IyIx\n",
    "\n",
    "FS_CLineRad = FS_LineRa3.IyIx + FS_LineRa4.IyIx + FS_LineRa5.IyIx + FS_LineRa6.IyIx + FS_LineRa7.IyIx\n",
    "\n",
    "XD_CLineRad = XD_LineRa3.IyIx + XD_LineRa4.IyIx + XD_LineRa5.IyIx + XD_LineRa6.IyIx + XD_LineRa7.IyIx"
   ]
  },
  {
   "cell_type": "markdown",
   "metadata": {},
   "source": [
    "take out the outer divertor part"
   ]
  },
  {
   "cell_type": "code",
   "execution_count": 10,
   "metadata": {},
   "outputs": [],
   "source": [
    "SD_CarbonIonFraction_outerdiv = numpy.transpose(SD_CarbonIonFraction[:, SD0203_mesh.ixcut[1]:])\n",
    "\n",
    "FS_CarbonIonFraction_outerdiv = numpy.transpose(FS_CarbonIonFraction[:, FS0308_mesh.ixcut[1]:])\n",
    "\n",
    "XD_CarbonIonFraction_outerdiv = numpy.transpose(XD_CarbonIonFraction[:, XD0130_mesh.ixcut[1]:])"
   ]
  },
  {
   "cell_type": "code",
   "execution_count": 11,
   "metadata": {},
   "outputs": [],
   "source": [
    "SD_CLineRad_outerdiv = numpy.transpose(SD_CLineRad[:, SD0203_mesh.ixcut[1]:])\n",
    "\n",
    "FS_CLineRad_outerdiv = numpy.transpose(FS_CLineRad[:, FS0308_mesh.ixcut[1]:])\n",
    "\n",
    "XD_CLineRad_outerdiv = numpy.transpose(XD_CLineRad[:, XD0130_mesh.ixcut[1]:])"
   ]
  },
  {
   "cell_type": "markdown",
   "metadata": {},
   "source": [
    "calculate the weighted average"
   ]
  },
  {
   "cell_type": "code",
   "execution_count": 12,
   "metadata": {},
   "outputs": [],
   "source": [
    "# numpy array element-wise product\n",
    "\n",
    "SD_weightedCarbonIonFraction_outerdiv = (SD_CarbonIonFraction_outerdiv * SD_CLineRad_outerdiv).sum()/SD_CLineRad_outerdiv.sum()\n",
    "\n",
    "FS_weightedCarbonIonFraction_outerdiv = (FS_CarbonIonFraction_outerdiv * FS_CLineRad_outerdiv).sum()/FS_CLineRad_outerdiv.sum()\n",
    "\n",
    "XD_weightedCarbonIonFraction_outerdiv = (XD_CarbonIonFraction_outerdiv * XD_CLineRad_outerdiv).sum()/XD_CLineRad_outerdiv.sum()"
   ]
  },
  {
   "cell_type": "code",
   "execution_count": 12,
   "metadata": {},
   "outputs": [
    {
     "name": "stdout",
     "output_type": "stream",
     "text": [
      "0.008264838131353109\n",
      "0.00775237254741194\n",
      "0.010505136143223645\n"
     ]
    }
   ],
   "source": [
    "print(SD_weightedCarbonIonFraction_outerdiv)\n",
    "print(FS_weightedCarbonIonFraction_outerdiv)\n",
    "print(XD_weightedCarbonIonFraction_outerdiv)"
   ]
  },
  {
   "cell_type": "markdown",
   "metadata": {},
   "source": [
    "calculate the metric"
   ]
  },
  {
   "cell_type": "code",
   "execution_count": 13,
   "metadata": {},
   "outputs": [],
   "source": [
    "SD_metric_outerdiv = SD_weightedCarbonIonFraction_outerdiv / SD_CarbonIonFraction[SD0203_mesh.iycut][SD0203_mesh.ixcut[1]]\n",
    "\n",
    "FS_metric_outerdiv = FS_weightedCarbonIonFraction_outerdiv / FS_CarbonIonFraction[FS0308_mesh.iycut][FS0308_mesh.ixcut[1]]\n",
    "\n",
    "XD_metric_outerdiv = XD_weightedCarbonIonFraction_outerdiv / XD_CarbonIonFraction[XD0130_mesh.iycut][XD0130_mesh.ixcut[1]]"
   ]
  },
  {
   "cell_type": "code",
   "execution_count": 14,
   "metadata": {},
   "outputs": [
    {
     "name": "stdout",
     "output_type": "stream",
     "text": [
      "1.9083431141334855\n",
      "3.2140751602440387\n",
      "0.5850206305660297\n"
     ]
    }
   ],
   "source": [
    "print(SD_metric_outerdiv)\n",
    "print(FS_metric_outerdiv)\n",
    "print(XD_metric_outerdiv)"
   ]
  },
  {
   "cell_type": "markdown",
   "metadata": {},
   "source": [
    "if look at flux tubes within lambda_q"
   ]
  },
  {
   "cell_type": "code",
   "execution_count": 17,
   "metadata": {},
   "outputs": [],
   "source": [
    "SD_weightedCarbonIonFraction_lq = (SD_CarbonIonFraction_outerdiv * SD_CLineRad_outerdiv)[:, SD0203_mesh.iycut : 22].sum()/SD_CLineRad_outerdiv[:, SD0203_mesh.iycut : 22].sum()\n",
    "\n",
    "FS_weightedCarbonIonFraction_lq = (FS_CarbonIonFraction_outerdiv * FS_CLineRad_outerdiv)[:, FS0308_mesh.iycut : 20].sum()/FS_CLineRad_outerdiv[:, FS0308_mesh.iycut : 20].sum()\n",
    "\n",
    "XD_weightedCarbonIonFraction_lq = (XD_CarbonIonFraction_outerdiv * XD_CLineRad_outerdiv)[:, XD0130_mesh.iycut : 22].sum()/XD_CLineRad_outerdiv[:, XD0130_mesh.iycut : 22].sum()"
   ]
  },
  {
   "cell_type": "code",
   "execution_count": 19,
   "metadata": {},
   "outputs": [
    {
     "name": "stdout",
     "output_type": "stream",
     "text": [
      "0.005229554993830535\n",
      "0.005311306663351218\n",
      "0.010212618649134366\n"
     ]
    }
   ],
   "source": [
    "print(SD_weightedCarbonIonFraction_lq)\n",
    "print(FS_weightedCarbonIonFraction_lq)\n",
    "print(XD_weightedCarbonIonFraction_lq)"
   ]
  },
  {
   "cell_type": "code",
   "execution_count": 17,
   "metadata": {},
   "outputs": [],
   "source": [
    "SD_metric_lq = SD_weightedCarbonIonFraction_lq / SD_CarbonIonFraction[SD0203_mesh.iycut][SD0203_mesh.ixcut[1]]\n",
    "\n",
    "FS_metric_lq = FS_weightedCarbonIonFraction_lq / FS_CarbonIonFraction[FS0308_mesh.iycut][FS0308_mesh.ixcut[1]]\n",
    "\n",
    "XD_metric_lq = XD_weightedCarbonIonFraction_lq / XD_CarbonIonFraction[XD0130_mesh.iycut][XD0130_mesh.ixcut[1]]"
   ]
  },
  {
   "cell_type": "code",
   "execution_count": 18,
   "metadata": {},
   "outputs": [
    {
     "name": "stdout",
     "output_type": "stream",
     "text": [
      "1.2074991795181118\n",
      "2.2020276645263617\n",
      "0.5687306209449653\n"
     ]
    }
   ],
   "source": [
    "print(SD_metric_lq)\n",
    "print(FS_metric_lq)\n",
    "print(XD_metric_lq)"
   ]
  },
  {
   "cell_type": "code",
   "execution_count": null,
   "metadata": {},
   "outputs": [],
   "source": []
  },
  {
   "cell_type": "markdown",
   "metadata": {},
   "source": [
    "another form of metric"
   ]
  },
  {
   "cell_type": "code",
   "execution_count": 13,
   "metadata": {},
   "outputs": [],
   "source": [
    "SD_weightedCarbonIonFraction_lcfs = (SD_CarbonIonFraction * SD_CLineRad)[SD0203_mesh.iycut].sum()/SD_CLineRad[SD0203_mesh.iycut].sum()\n",
    "\n",
    "FS_weightedCarbonIonFraction_lcfs = (FS_CarbonIonFraction * FS_CLineRad)[FS0308_mesh.iycut].sum()/FS_CLineRad[FS0308_mesh.iycut].sum()\n",
    "\n",
    "XD_weightedCarbonIonFraction_lcfs = (XD_CarbonIonFraction * XD_CLineRad)[XD0130_mesh.iycut].sum()/XD_CLineRad[XD0130_mesh.iycut].sum()"
   ]
  },
  {
   "cell_type": "code",
   "execution_count": 20,
   "metadata": {},
   "outputs": [
    {
     "name": "stdout",
     "output_type": "stream",
     "text": [
      "0.005305757785838027\n",
      "0.0037276345884799077\n",
      "0.011814052400618336\n"
     ]
    }
   ],
   "source": [
    "print(SD_weightedCarbonIonFraction_lcfs)\n",
    "print(FS_weightedCarbonIonFraction_lcfs)\n",
    "print(XD_weightedCarbonIonFraction_lcfs)"
   ]
  },
  {
   "cell_type": "code",
   "execution_count": 15,
   "metadata": {},
   "outputs": [],
   "source": [
    "SD_metric_lcfs_outerdiv = SD_weightedCarbonIonFraction_outerdiv / SD_weightedCarbonIonFraction_lcfs\n",
    "\n",
    "FS_metric_lcfs_outerdiv = FS_weightedCarbonIonFraction_outerdiv / FS_weightedCarbonIonFraction_lcfs\n",
    "\n",
    "XD_metric_lcfs_outerdiv = XD_weightedCarbonIonFraction_outerdiv / XD_weightedCarbonIonFraction_lcfs"
   ]
  },
  {
   "cell_type": "code",
   "execution_count": 16,
   "metadata": {},
   "outputs": [
    {
     "name": "stdout",
     "output_type": "stream",
     "text": [
      "1.5577111630337466\n",
      "2.0797029224297656\n",
      "0.8892068349615426\n"
     ]
    }
   ],
   "source": [
    "print(SD_metric_lcfs_outerdiv)\n",
    "print(FS_metric_lcfs_outerdiv)\n",
    "print(XD_metric_lcfs_outerdiv)"
   ]
  },
  {
   "cell_type": "markdown",
   "metadata": {},
   "source": [
    "look at lambda_q"
   ]
  },
  {
   "cell_type": "code",
   "execution_count": 18,
   "metadata": {},
   "outputs": [],
   "source": [
    "SD_metric_lcfs_lq = SD_weightedCarbonIonFraction_lq / SD_weightedCarbonIonFraction_lcfs\n",
    "\n",
    "FS_metric_lcfs_lq = FS_weightedCarbonIonFraction_lq / FS_weightedCarbonIonFraction_lcfs\n",
    "\n",
    "XD_metric_lcfs_lq = XD_weightedCarbonIonFraction_lq / XD_weightedCarbonIonFraction_lcfs"
   ]
  },
  {
   "cell_type": "code",
   "execution_count": 19,
   "metadata": {},
   "outputs": [
    {
     "name": "stdout",
     "output_type": "stream",
     "text": [
      "0.9856377175356761\n",
      "1.42484638375381\n",
      "0.8644467031989673\n"
     ]
    }
   ],
   "source": [
    "print(SD_metric_lcfs_lq)\n",
    "print(FS_metric_lcfs_lq)\n",
    "print(XD_metric_lcfs_lq)"
   ]
  },
  {
   "cell_type": "code",
   "execution_count": null,
   "metadata": {},
   "outputs": [],
   "source": []
  },
  {
   "cell_type": "markdown",
   "metadata": {},
   "source": [
    "#### another form of metric"
   ]
  },
  {
   "cell_type": "markdown",
   "metadata": {},
   "source": [
    "calculate total carbon fraction of the core"
   ]
  },
  {
   "cell_type": "code",
   "execution_count": 8,
   "metadata": {},
   "outputs": [],
   "source": [
    "# number of carbon particles in each cell\n",
    "SD_NCarbonIon = SD_nCarbonIon * SD_vol.IyIx\n",
    "\n",
    "FS_NCarbonIon = FS_nCarbonIon * FS_vol.IyIx\n",
    "\n",
    "XD_NCarbonIon = XD_nCarbonIon * XD_vol.IyIx"
   ]
  },
  {
   "cell_type": "code",
   "execution_count": 10,
   "metadata": {},
   "outputs": [],
   "source": [
    "# number of electrons in each cell\n",
    "SD_Ne = SD_ne.IyIx * SD_vol.IyIx\n",
    "\n",
    "FS_Ne = FS_ne.IyIx * FS_vol.IyIx\n",
    "\n",
    "XD_Ne = XD_ne.IyIx * XD_vol.IyIx"
   ]
  },
  {
   "cell_type": "code",
   "execution_count": 15,
   "metadata": {},
   "outputs": [],
   "source": [
    "# calculate carbon fraction of LCFS of core\n",
    "SD_Cfraction_LCFS_core = sum(SD_NCarbonIon[SD0203_mesh.iycut][SD0203_mesh.ixcut[0] : SD0203_mesh.ixcut[1]]) / sum(SD_Ne[SD0203_mesh.iycut][SD0203_mesh.ixcut[0] : SD0203_mesh.ixcut[1]])\n",
    "\n",
    "FS_Cfraction_LCFS_core = sum(FS_NCarbonIon[FS0308_mesh.iycut][FS0308_mesh.ixcut[0] : FS0308_mesh.ixcut[1]]) / sum(FS_Ne[FS0308_mesh.iycut][FS0308_mesh.ixcut[0] : FS0308_mesh.ixcut[1]])\n",
    "\n",
    "XD_Cfraction_LCFS_core = sum(XD_NCarbonIon[XD0130_mesh.iycut][XD0130_mesh.ixcut[0] : XD0130_mesh.ixcut[1]]) / sum(XD_Ne[XD0130_mesh.iycut][XD0130_mesh.ixcut[0] : XD0130_mesh.ixcut[1]])"
   ]
  },
  {
   "cell_type": "code",
   "execution_count": 16,
   "metadata": {},
   "outputs": [
    {
     "name": "stdout",
     "output_type": "stream",
     "text": [
      "0.0027955269202408453\n",
      "0.001777881532544816\n",
      "0.02176559715164232\n"
     ]
    }
   ],
   "source": [
    "print(SD_Cfraction_LCFS_core)\n",
    "print(FS_Cfraction_LCFS_core)\n",
    "print(XD_Cfraction_LCFS_core)"
   ]
  },
  {
   "cell_type": "code",
   "execution_count": null,
   "metadata": {},
   "outputs": [],
   "source": []
  },
  {
   "cell_type": "code",
   "execution_count": null,
   "metadata": {},
   "outputs": [],
   "source": []
  },
  {
   "cell_type": "code",
   "execution_count": null,
   "metadata": {},
   "outputs": [],
   "source": []
  },
  {
   "cell_type": "code",
   "execution_count": null,
   "metadata": {},
   "outputs": [],
   "source": []
  },
  {
   "cell_type": "code",
   "execution_count": 9,
   "metadata": {},
   "outputs": [],
   "source": [
    "# te\n",
    "SD_te_outerdiv = numpy.transpose(SD_te.IyIx[:, SD0203_mesh.ixcut[1]:])\n",
    "\n",
    "FS_te_outerdiv = numpy.transpose(FS_te.IyIx[:, FS0308_mesh.ixcut[1]:])\n",
    "\n",
    "XD_te_outerdiv = numpy.transpose(XD_te.IyIx[:, XD0130_mesh.ixcut[1]:])"
   ]
  },
  {
   "cell_type": "markdown",
   "metadata": {},
   "source": [
    "take a look at the data range"
   ]
  },
  {
   "cell_type": "code",
   "execution_count": 10,
   "metadata": {
    "scrolled": true
   },
   "outputs": [
    {
     "name": "stdout",
     "output_type": "stream",
     "text": [
      "60.418956248906724\n",
      "97.6777446020749\n",
      "64.11311510002093\n"
     ]
    }
   ],
   "source": [
    "print(SD_CarbonIonFraction_outerdiv.max())\n",
    "print(FS_CarbonIonFraction_outerdiv.max())\n",
    "print(XD_CarbonIonFraction_outerdiv.max())"
   ]
  },
  {
   "cell_type": "code",
   "execution_count": null,
   "metadata": {},
   "outputs": [],
   "source": []
  },
  {
   "cell_type": "markdown",
   "metadata": {},
   "source": [
    "calculate carbon Z"
   ]
  },
  {
   "cell_type": "code",
   "execution_count": 8,
   "metadata": {},
   "outputs": [],
   "source": [
    "# first sum up all charge\n",
    "# note that I can do the following because all data_2D arrays are numpy arrays, so + and * will be math rather than list cat\n",
    "SD_CarbonCharge_outerdiv = numpy.transpose((SD_nIon3.IyIx\n",
    "                                          + 2*SD_nIon4.IyIx\n",
    "                                          + 3*SD_nIon5.IyIx\n",
    "                                          + 4*SD_nIon6.IyIx\n",
    "                                          + 5*SD_nIon7.IyIx\n",
    "                                          + 6*SD_nIon8.IyIx)[:, SD0203_mesh.ixcut[1]:])\n",
    "\n",
    "FS_CarbonCharge_outerdiv = numpy.transpose((FS_nIon3.IyIx\n",
    "                                          + 2*FS_nIon4.IyIx\n",
    "                                          + 3*FS_nIon5.IyIx\n",
    "                                          + 4*FS_nIon6.IyIx\n",
    "                                          + 5*FS_nIon7.IyIx\n",
    "                                          + 6*FS_nIon8.IyIx)[:, FS0308_mesh.ixcut[1]:])\n",
    "\n",
    "XD_CarbonCharge_outerdiv = numpy.transpose((XD_nIon3.IyIx\n",
    "                                          + 2*XD_nIon4.IyIx\n",
    "                                          + 3*XD_nIon5.IyIx\n",
    "                                          + 4*XD_nIon6.IyIx\n",
    "                                          + 5*XD_nIon7.IyIx\n",
    "                                          + 6*XD_nIon8.IyIx)[:, XD0130_mesh.ixcut[1]:])\n",
    "\n",
    "# <Z> Carbon without neutral\n",
    "SD_ZCarbon_pureIon_outerdiv = SD_CarbonCharge_outerdiv/SD_nCarbon_outerdiv\n",
    "\n",
    "FS_ZCarbon_pureIon_outerdiv = FS_CarbonCharge_outerdiv/FS_nCarbon_outerdiv\n",
    "\n",
    "XD_ZCarbon_pureIon_outerdiv = XD_CarbonCharge_outerdiv/XD_nCarbon_outerdiv\n",
    "\n",
    "\n",
    "# <Z> Carbon with neutral\n",
    "SD_ZCarbon_witnNeut_outerdiv = SD_CarbonCharge_outerdiv/(SD_nCarbon_outerdiv + SD_nNeutC_outerdiv)\n",
    "\n",
    "FS_ZCarbon_witnNeut_outerdiv = FS_CarbonCharge_outerdiv/(FS_nCarbon_outerdiv + FS_nNeutC_outerdiv)\n",
    "\n",
    "XD_ZCarbon_witnNeut_outerdiv = XD_CarbonCharge_outerdiv/(XD_nCarbon_outerdiv + XD_nNeutC_outerdiv)"
   ]
  },
  {
   "cell_type": "markdown",
   "metadata": {},
   "source": [
    "look at data range"
   ]
  },
  {
   "cell_type": "code",
   "execution_count": 78,
   "metadata": {},
   "outputs": [
    {
     "name": "stdout",
     "output_type": "stream",
     "text": [
      "4.262026168254498\n",
      "4.527697504408801\n",
      "4.475368774595861\n",
      "4.262026168254498\n",
      "4.527697504408801\n",
      "4.475368774595861\n"
     ]
    }
   ],
   "source": [
    "print(SD_ZCarbon_pureIon_outerdiv.max())\n",
    "print(FS_ZCarbon_pureIon_outerdiv.max())\n",
    "print(XD_ZCarbon_pureIon_outerdiv.max())\n",
    "\n",
    "print(SD_ZCarbon_witnNeut_outerdiv.max())\n",
    "print(FS_ZCarbon_witnNeut_outerdiv.max())\n",
    "print(XD_ZCarbon_witnNeut_outerdiv.max())"
   ]
  },
  {
   "cell_type": "code",
   "execution_count": 79,
   "metadata": {},
   "outputs": [
    {
     "name": "stdout",
     "output_type": "stream",
     "text": [
      "1.0908290706958088\n",
      "1.0180959488687102\n",
      "1.0840030342213396\n",
      "0.6431255912607305\n",
      "0.4062477574052635\n",
      "0.9304438585303574\n"
     ]
    }
   ],
   "source": [
    "print(SD_ZCarbon_pureIon_outerdiv.min())\n",
    "print(FS_ZCarbon_pureIon_outerdiv.min())\n",
    "print(XD_ZCarbon_pureIon_outerdiv.min())\n",
    "\n",
    "print(SD_ZCarbon_witnNeut_outerdiv.min())\n",
    "print(FS_ZCarbon_witnNeut_outerdiv.min())\n",
    "print(XD_ZCarbon_witnNeut_outerdiv.min())"
   ]
  },
  {
   "cell_type": "markdown",
   "metadata": {},
   "source": [
    "# start attempting plots"
   ]
  },
  {
   "cell_type": "markdown",
   "metadata": {},
   "source": [
    "## prepare figure and its axes"
   ]
  },
  {
   "cell_type": "code",
   "execution_count": 10,
   "metadata": {},
   "outputs": [],
   "source": [
    "import matplotlib.pyplot as plt"
   ]
  },
  {
   "cell_type": "markdown",
   "metadata": {},
   "source": [
    "## do scatter plots"
   ]
  },
  {
   "cell_type": "code",
   "execution_count": null,
   "metadata": {},
   "outputs": [],
   "source": []
  },
  {
   "cell_type": "markdown",
   "metadata": {},
   "source": [
    "### Carbon Ion Fraction"
   ]
  },
  {
   "cell_type": "code",
   "execution_count": 11,
   "metadata": {},
   "outputs": [],
   "source": [
    "SD_CarbonIonFraction_outerdiv_rescale_1 = SD_CarbonIonFraction_outerdiv * 1e3\n",
    "\n",
    "FS_CarbonIonFraction_outerdiv_rescale_1 = FS_CarbonIonFraction_outerdiv * 1e3\n",
    "\n",
    "XD_CarbonIonFraction_outerdiv_rescale_1 = XD_CarbonIonFraction_outerdiv * 1e3"
   ]
  },
  {
   "cell_type": "markdown",
   "metadata": {},
   "source": [
    "look at Te < 40 eV range"
   ]
  },
  {
   "cell_type": "code",
   "execution_count": 22,
   "metadata": {},
   "outputs": [],
   "source": [
    "%%capture\n",
    "\n",
    "fig_1, ax_1 = plt.subplots()"
   ]
  },
  {
   "cell_type": "markdown",
   "metadata": {},
   "source": [
    "the data along flux tubes within 1 lambda q radially out from the separatrix"
   ]
  },
  {
   "cell_type": "code",
   "execution_count": 23,
   "metadata": {},
   "outputs": [],
   "source": [
    "%%capture\n",
    "\n",
    "ax_1.scatter(SD_te_outerdiv[:, SD0203_mesh.iycut : 22], SD_CarbonIonFraction_outerdiv_rescale_1[:, SD0203_mesh.iycut : 22], c = \"w\", marker = \"s\", edgecolors = \"r\")\n",
    "ax_1.scatter(FS_te_outerdiv[:, FS0308_mesh.iycut : 20], FS_CarbonIonFraction_outerdiv_rescale_1[:, FS0308_mesh.iycut : 20], c = \"w\", marker = \"^\", edgecolors = \"m\")\n",
    "ax_1.scatter(XD_te_outerdiv[:, XD0130_mesh.iycut : 22], XD_CarbonIonFraction_outerdiv_rescale_1[:, XD0130_mesh.iycut : 22], c = \"w\", marker = \".\", edgecolors = \"b\")"
   ]
  },
  {
   "cell_type": "markdown",
   "metadata": {},
   "source": [
    "add legend using scatter plot trick"
   ]
  },
  {
   "cell_type": "code",
   "execution_count": 24,
   "metadata": {},
   "outputs": [],
   "source": [
    "%%capture\n",
    "\n",
    "ax_1_legend_marker_SD = ax_1.scatter([35.2], [20], c = \"w\", marker = \"s\", edgecolors = \"r\")\n",
    "ax_1_legend_marker_FS = ax_1.scatter([35.2], [17], c = \"w\", marker = \"^\", edgecolors = \"m\")\n",
    "ax_1_legend_marker_XD = ax_1.scatter([35.2], [14], c = \"w\", marker = \".\", edgecolors = \"b\")"
   ]
  },
  {
   "cell_type": "markdown",
   "metadata": {},
   "source": [
    "add legend text"
   ]
  },
  {
   "cell_type": "code",
   "execution_count": 25,
   "metadata": {},
   "outputs": [],
   "source": [
    "ax_1_legend_text_SD = ax_1.text(36, 19.5, \"SD10\")\n",
    "ax_1_legend_text_FS = ax_1.text(36, 16.5, \"SD20\")\n",
    "ax_1_legend_text_XD = ax_1.text(36, 13.5, \"XD\")"
   ]
  },
  {
   "cell_type": "markdown",
   "metadata": {},
   "source": [
    "set the axes label"
   ]
  },
  {
   "cell_type": "code",
   "execution_count": 26,
   "metadata": {},
   "outputs": [],
   "source": [
    "%%capture\n",
    "ax_1.set_xlabel(\"Te (eV)\")\n",
    "ax_1.set_ylabel(\"carbon ion fraction ($10^{-3}$)\")"
   ]
  },
  {
   "cell_type": "markdown",
   "metadata": {},
   "source": [
    "add some explanation text"
   ]
  },
  {
   "cell_type": "code",
   "execution_count": 27,
   "metadata": {},
   "outputs": [],
   "source": [
    "ax_1_explain_text = ax_1.text(10, 24, \"data along flux tubes within $\\lambda_{q}$ at OMP\")\n",
    "ax_1_explain_text.set_fontsize(12)"
   ]
  },
  {
   "cell_type": "code",
   "execution_count": 28,
   "metadata": {},
   "outputs": [],
   "source": [
    "ax_1.set_xbound(0, 40)\n",
    "ax_1.set_ybound(0.0, 28)"
   ]
  },
  {
   "cell_type": "code",
   "execution_count": 29,
   "metadata": {},
   "outputs": [],
   "source": [
    "ax_1.set_position([0.1, 0.1, 0.9, 0.9])"
   ]
  },
  {
   "cell_type": "code",
   "execution_count": 30,
   "metadata": {},
   "outputs": [
    {
     "data": {
      "image/png": "[encoded data removed]",
      "text/plain": [
       "<Figure size 432x288 with 1 Axes>"
      ]
     },
     "execution_count": 30,
     "metadata": {},
     "output_type": "execute_result"
    }
   ],
   "source": [
    "fig_1"
   ]
  },
  {
   "cell_type": "code",
   "execution_count": null,
   "metadata": {},
   "outputs": [],
   "source": []
  },
  {
   "cell_type": "code",
   "execution_count": 31,
   "metadata": {},
   "outputs": [],
   "source": [
    "fig_1.savefig('CIonFractionP6-lq-downstream_Scatter.svg', format='svg', bbox_inches='tight')"
   ]
  },
  {
   "cell_type": "code",
   "execution_count": null,
   "metadata": {},
   "outputs": [],
   "source": []
  },
  {
   "cell_type": "code",
   "execution_count": null,
   "metadata": {},
   "outputs": [],
   "source": []
  },
  {
   "cell_type": "markdown",
   "metadata": {},
   "source": [
    "look at 40 eV < Te range"
   ]
  },
  {
   "cell_type": "code",
   "execution_count": 32,
   "metadata": {},
   "outputs": [],
   "source": [
    "%%capture\n",
    "\n",
    "fig_2, ax_2 = plt.subplots()"
   ]
  },
  {
   "cell_type": "markdown",
   "metadata": {},
   "source": [
    "the data along flux tubes within 1 lambda q radially out from the separatrix"
   ]
  },
  {
   "cell_type": "code",
   "execution_count": 33,
   "metadata": {},
   "outputs": [],
   "source": [
    "%%capture\n",
    "\n",
    "ax_2.scatter(SD_te_outerdiv[:, SD0203_mesh.iycut : 22], SD_CarbonIonFraction_outerdiv_rescale_1[:, SD0203_mesh.iycut : 22], c = \"w\", marker = \"s\", edgecolors = \"r\")\n",
    "ax_2.scatter(FS_te_outerdiv[:, FS0308_mesh.iycut : 20], FS_CarbonIonFraction_outerdiv_rescale_1[:, FS0308_mesh.iycut : 20], c = \"w\", marker = \"^\", edgecolors = \"m\")\n",
    "ax_2.scatter(XD_te_outerdiv[:, XD0130_mesh.iycut : 22], XD_CarbonIonFraction_outerdiv_rescale_1[:, XD0130_mesh.iycut : 22], c = \"w\", marker = \".\", edgecolors = \"b\")"
   ]
  },
  {
   "cell_type": "markdown",
   "metadata": {},
   "source": [
    "add legend using scatter plot trick"
   ]
  },
  {
   "cell_type": "code",
   "execution_count": 24,
   "metadata": {},
   "outputs": [],
   "source": [
    "%%capture\n",
    "\n",
    "ax_2_legend_marker_SD = ax_2.scatter([35.2], [20], c = \"w\", marker = \"s\", edgecolors = \"r\")\n",
    "ax_2_legend_marker_FS = ax_2.scatter([35.2], [17], c = \"w\", marker = \"^\", edgecolors = \"m\")\n",
    "ax_2_legend_marker_XD = ax_2.scatter([35.2], [14], c = \"w\", marker = \".\", edgecolors = \"b\")"
   ]
  },
  {
   "cell_type": "markdown",
   "metadata": {},
   "source": [
    "add legend text"
   ]
  },
  {
   "cell_type": "code",
   "execution_count": 25,
   "metadata": {},
   "outputs": [],
   "source": [
    "ax_2_legend_text_SD = ax_2.text(36, 19.5, \"SD10\")\n",
    "ax_2_legend_text_FS = ax_2.text(36, 16.5, \"SD20\")\n",
    "ax_2_legend_text_XD = ax_2.text(36, 13.5, \"XD\")"
   ]
  },
  {
   "cell_type": "markdown",
   "metadata": {},
   "source": [
    "set the axes label"
   ]
  },
  {
   "cell_type": "code",
   "execution_count": 34,
   "metadata": {},
   "outputs": [],
   "source": [
    "%%capture\n",
    "ax_2.set_xlabel(\"Te (eV)\")\n",
    "ax_2.set_ylabel(\"carbon ion fraction ($10^{-3}$)\")"
   ]
  },
  {
   "cell_type": "markdown",
   "metadata": {},
   "source": [
    "add some explanation text"
   ]
  },
  {
   "cell_type": "code",
   "execution_count": 27,
   "metadata": {},
   "outputs": [],
   "source": [
    "ax_2_explain_text = ax_2.text(10, 24, \"data along flux tubes within $\\lambda_{q}$ at OMP\")\n",
    "ax_2_explain_text.set_fontsize(12)"
   ]
  },
  {
   "cell_type": "code",
   "execution_count": 28,
   "metadata": {},
   "outputs": [],
   "source": [
    "ax_2.set_xbound(0, 40)\n",
    "ax_2.set_ybound(0.0, 28)"
   ]
  },
  {
   "cell_type": "code",
   "execution_count": 35,
   "metadata": {},
   "outputs": [],
   "source": [
    "ax_2.set_position([0.1, 0.1, 0.9, 0.9])"
   ]
  },
  {
   "cell_type": "code",
   "execution_count": 36,
   "metadata": {},
   "outputs": [
    {
     "data": {
      "image/png": "[encoded data removed]",
      "text/plain": [
       "<Figure size 432x288 with 1 Axes>"
      ]
     },
     "execution_count": 36,
     "metadata": {},
     "output_type": "execute_result"
    }
   ],
   "source": [
    "fig_2"
   ]
  },
  {
   "cell_type": "code",
   "execution_count": null,
   "metadata": {},
   "outputs": [],
   "source": []
  },
  {
   "cell_type": "code",
   "execution_count": 37,
   "metadata": {},
   "outputs": [],
   "source": [
    "fig_2.savefig('CIonFractionP6-lq-upstream_Scatter.svg', format='svg', bbox_inches='tight')"
   ]
  },
  {
   "cell_type": "code",
   "execution_count": null,
   "metadata": {},
   "outputs": [],
   "source": []
  },
  {
   "cell_type": "code",
   "execution_count": null,
   "metadata": {},
   "outputs": [],
   "source": []
  },
  {
   "cell_type": "code",
   "execution_count": null,
   "metadata": {},
   "outputs": [],
   "source": []
  },
  {
   "cell_type": "markdown",
   "metadata": {},
   "source": [
    "### Z Carbon"
   ]
  },
  {
   "cell_type": "markdown",
   "metadata": {},
   "source": [
    "the data along flux tubes within first 1mm radially out from the separatrix"
   ]
  },
  {
   "cell_type": "code",
   "execution_count": 17,
   "metadata": {},
   "outputs": [],
   "source": [
    "%%capture\n",
    "\n",
    "fig_5, ax_5 = plt.subplots()"
   ]
  },
  {
   "cell_type": "code",
   "execution_count": 18,
   "metadata": {},
   "outputs": [],
   "source": [
    "%%capture\n",
    "\n",
    "ax_5.scatter(SD_te_outerdiv[:, SD0203_mesh.iycut : 19], SD_ZCarbon_pureIon_outerdiv[:, SD0203_mesh.iycut : 19], c = \"w\", marker = \"s\", edgecolors = \"r\")\n",
    "ax_5.scatter(FS_te_outerdiv[:, FS0308_mesh.iycut : 17], FS_ZCarbon_pureIon_outerdiv[:, FS0308_mesh.iycut : 17], c = \"w\", marker = \"^\", edgecolors = \"m\")\n",
    "ax_5.scatter(XD_te_outerdiv[:, XD0130_mesh.iycut : 21], XD_ZCarbon_pureIon_outerdiv[:, XD0130_mesh.iycut : 21], c = \"w\", marker = \".\", edgecolors = \"b\")"
   ]
  },
  {
   "cell_type": "markdown",
   "metadata": {},
   "source": [
    "add legend using scatter plot trick"
   ]
  },
  {
   "cell_type": "code",
   "execution_count": 34,
   "metadata": {},
   "outputs": [],
   "source": [
    "%%capture\n",
    "\n",
    "ax_5_legend_marker_SD = ax_5.scatter([38.2], [2.8], c = \"w\", marker = \"s\", edgecolors = \"r\")\n",
    "ax_5_legend_marker_FS = ax_5.scatter([38.2], [2.3], c = \"w\", marker = \"^\", edgecolors = \"m\")\n",
    "ax_5_legend_marker_XD = ax_5.scatter([38.2], [1.8], c = \"w\", marker = \".\", edgecolors = \"b\")"
   ]
  },
  {
   "cell_type": "markdown",
   "metadata": {},
   "source": [
    "add legend text"
   ]
  },
  {
   "cell_type": "code",
   "execution_count": 22,
   "metadata": {},
   "outputs": [],
   "source": [
    "ax_5_legend_text_SD = ax_5.text(39, 2.75, \"SD10\")\n",
    "ax_5_legend_text_FS = ax_5.text(39, 2.25, \"SD20\")\n",
    "ax_5_legend_text_XD = ax_5.text(39, 1.75, \"XD\")"
   ]
  },
  {
   "cell_type": "markdown",
   "metadata": {},
   "source": [
    "set the axes label"
   ]
  },
  {
   "cell_type": "code",
   "execution_count": 37,
   "metadata": {},
   "outputs": [],
   "source": [
    "%%capture\n",
    "ax_5.set_xlabel(\"Te (eV)\")\n",
    "ax_5.set_ylabel(\"carbon ion <Z>\")"
   ]
  },
  {
   "cell_type": "markdown",
   "metadata": {},
   "source": [
    "add some explanation text"
   ]
  },
  {
   "cell_type": "code",
   "execution_count": 39,
   "metadata": {},
   "outputs": [],
   "source": [
    "ax_5_explain_text = ax_5.text(12, 1.5, \"0 < R - $R_{sep}$ < 1mm at OMP\")\n",
    "ax_5_explain_text.set_fontsize(12)"
   ]
  },
  {
   "cell_type": "code",
   "execution_count": 35,
   "metadata": {},
   "outputs": [],
   "source": [
    "ax_5.set_xbound(0, 45)\n",
    "ax_5.set_ybound(1.0, 4.5)"
   ]
  },
  {
   "cell_type": "code",
   "execution_count": 40,
   "metadata": {},
   "outputs": [
    {
     "data": {
      "image/png": "[encoded data removed]",
      "text/plain": [
       "<Figure size 432x288 with 1 Axes>"
      ]
     },
     "execution_count": 40,
     "metadata": {},
     "output_type": "execute_result"
    }
   ],
   "source": [
    "fig_5"
   ]
  },
  {
   "cell_type": "code",
   "execution_count": null,
   "metadata": {},
   "outputs": [],
   "source": []
  },
  {
   "cell_type": "code",
   "execution_count": 41,
   "metadata": {},
   "outputs": [],
   "source": [
    "fig_5.savefig('CIon-Z-P6-1mm_Scatter.svg', format='svg', bbox_inches='tight')"
   ]
  },
  {
   "cell_type": "code",
   "execution_count": null,
   "metadata": {},
   "outputs": [],
   "source": []
  },
  {
   "cell_type": "markdown",
   "metadata": {},
   "source": [
    "the data along flux tubes within 1mm ~ 2mm radially out from the separatrix"
   ]
  },
  {
   "cell_type": "code",
   "execution_count": 42,
   "metadata": {},
   "outputs": [],
   "source": [
    "%%capture\n",
    "\n",
    "fig_6, ax_6 = plt.subplots()"
   ]
  },
  {
   "cell_type": "code",
   "execution_count": 43,
   "metadata": {},
   "outputs": [],
   "source": [
    "%%capture\n",
    "\n",
    "ax_6.scatter(SD_te_outerdiv[:, 19 : 22], SD_ZCarbon_pureIon_outerdiv[:, 19 : 22], c = \"w\", marker = \"s\", edgecolors = \"r\")\n",
    "ax_6.scatter(FS_te_outerdiv[:, 17 : 20], FS_ZCarbon_pureIon_outerdiv[:, 17 : 20], c = \"w\", marker = \"^\", edgecolors = \"m\")\n",
    "ax_6.scatter(XD_te_outerdiv[:, 21 : 24], XD_ZCarbon_pureIon_outerdiv[:, 21 : 24], c = \"w\", marker = \".\", edgecolors = \"b\")"
   ]
  },
  {
   "cell_type": "markdown",
   "metadata": {},
   "source": [
    "add legend using scatter plot trick"
   ]
  },
  {
   "cell_type": "code",
   "execution_count": 44,
   "metadata": {},
   "outputs": [],
   "source": [
    "%%capture\n",
    "\n",
    "ax_6_legend_marker_SD = ax_6.scatter([38.2], [2.8], c = \"w\", marker = \"s\", edgecolors = \"r\")\n",
    "ax_6_legend_marker_FS = ax_6.scatter([38.2], [2.3], c = \"w\", marker = \"^\", edgecolors = \"m\")\n",
    "ax_6_legend_marker_XD = ax_6.scatter([38.2], [1.8], c = \"w\", marker = \".\", edgecolors = \"b\")"
   ]
  },
  {
   "cell_type": "markdown",
   "metadata": {},
   "source": [
    "add legend text"
   ]
  },
  {
   "cell_type": "code",
   "execution_count": 45,
   "metadata": {},
   "outputs": [],
   "source": [
    "ax_6_legend_text_SD = ax_6.text(39, 2.75, \"SD10\")\n",
    "ax_6_legend_text_FS = ax_6.text(39, 2.25, \"SD20\")\n",
    "ax_6_legend_text_XD = ax_6.text(39, 1.75, \"XD\")"
   ]
  },
  {
   "cell_type": "markdown",
   "metadata": {},
   "source": [
    "set the axes label"
   ]
  },
  {
   "cell_type": "code",
   "execution_count": 46,
   "metadata": {},
   "outputs": [],
   "source": [
    "%%capture\n",
    "ax_6.set_xlabel(\"Te (eV)\")\n",
    "ax_6.set_ylabel(\"carbon ion <Z>\")"
   ]
  },
  {
   "cell_type": "markdown",
   "metadata": {},
   "source": [
    "add some explanation text"
   ]
  },
  {
   "cell_type": "code",
   "execution_count": 50,
   "metadata": {},
   "outputs": [],
   "source": [
    "ax_6_explain_text = ax_6.text(11, 1.4, \"1mm < R - $R_{sep}$ < 2mm at OMP\")\n",
    "ax_6_explain_text.set_fontsize(12)"
   ]
  },
  {
   "cell_type": "code",
   "execution_count": 51,
   "metadata": {},
   "outputs": [],
   "source": [
    "ax_6.set_xbound(0, 45)\n",
    "ax_6.set_ybound(1.0, 4.5)"
   ]
  },
  {
   "cell_type": "code",
   "execution_count": 56,
   "metadata": {},
   "outputs": [
    {
     "data": {
      "image/png": "[encoded data removed]",
      "text/plain": [
       "<Figure size 432x288 with 1 Axes>"
      ]
     },
     "execution_count": 56,
     "metadata": {},
     "output_type": "execute_result"
    }
   ],
   "source": [
    "fig_6"
   ]
  },
  {
   "cell_type": "code",
   "execution_count": null,
   "metadata": {},
   "outputs": [],
   "source": []
  },
  {
   "cell_type": "code",
   "execution_count": 57,
   "metadata": {},
   "outputs": [],
   "source": [
    "fig_6.savefig('CIon-Z-P6-2mm_Scatter.svg', format='svg', bbox_inches='tight')"
   ]
  }
 ],
 "metadata": {
  "kernelspec": {
   "display_name": "Python 3",
   "language": "python",
   "name": "python3"
  },
  "language_info": {
   "codemirror_mode": {
    "name": "ipython",
    "version": 3
   },
   "file_extension": ".py",
   "mimetype": "text/x-python",
   "name": "python",
   "nbconvert_exporter": "python",
   "pygments_lexer": "ipython3",
   "version": "3.6.7"
  }
 },
 "nbformat": 4,
 "nbformat_minor": 2
}
